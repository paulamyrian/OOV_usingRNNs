{
  "nbformat": 4,
  "nbformat_minor": 0,
  "metadata": {
    "colab": {
      "provenance": [],
      "collapsed_sections": [],
      "authorship_tag": "ABX9TyNJUJFLj+PHvY9gq29salN3",
      "include_colab_link": true
    },
    "kernelspec": {
      "name": "python3",
      "display_name": "Python 3"
    },
    "language_info": {
      "name": "python"
    }
  },
  "cells": [
    {
      "cell_type": "markdown",
      "metadata": {
        "id": "view-in-github",
        "colab_type": "text"
      },
      "source": [
        "<a href=\"https://colab.research.google.com/github/paulamyrian/OOV_usingRNNs/blob/main/RNN_Colab.ipynb\" target=\"_parent\"><img src=\"https://colab.research.google.com/assets/colab-badge.svg\" alt=\"Open In Colab\"/></a>"
      ]
    },
    {
      "cell_type": "markdown",
      "source": [
        "## **Exemplo de Uso de RNN**\n",
        "\n",
        "**REDES NEURAIS RECORRENTES**\n",
        "\n",
        "Instrutora Paula Pedroso\n",
        "\n",
        "**PROBLEMA:** Palavras Fora do Vocabulário\n",
        "\n",
        "Quando uma palavra que não está no conjunto de treinamento ocorre em dados reais, isso causa um problema. É um problema muito comum em PLN e pode ser visto na classificação de textos, reconhecimento de entidades nomeadas, recuperação de informações, etc.\n",
        "\n",
        "As razões para que isso ocorra envolvem erros de digitação, gírias e vocabulários diferentes.\n",
        "\n"
      ],
      "metadata": {
        "id": "pLMHXaJzyRKN"
      }
    },
    {
      "cell_type": "markdown",
      "source": [
        "Iremos utilizar um conjunto de bibliotecas para poder nos auxiliar nesse processo de reconhecimento das palavras OOVs. "
      ],
      "metadata": {
        "id": "td0--cA1-E3Z"
      }
    },
    {
      "cell_type": "code",
      "execution_count": null,
      "metadata": {
        "id": "4oX66tayXzrq"
      },
      "outputs": [],
      "source": [
        "#O NumPy oferece funções matemáticas abrangentes, geradores de números aleatórios, rotinas de álgebra linear, transformadas de Fourier e muito mais.\n",
        "import numpy\n",
        "from numpy import array\n",
        "#spaCy é uma biblioteca para PLN. \n",
        "#possui features como tokenizador, POS-tagger, NER, word vectors pré-treinados, dentre outras coisas.\n",
        "import spacy\n",
        "from spacy.vocab import Vocab\n",
        "#TensorFlow é uma biblioteca de código aberto para aprendizado de máquina.\n",
        "import tensorflow as tf\n",
        "#Keras é um API de alto nível construído sobre o TensorFlow \n",
        "#projetado para permitir experimentação rápida com redes neurais profundas.\n",
        "from tensorflow import keras\n",
        "from keras.models import Sequential\n",
        "from keras.models import load_model\n",
        "from keras.layers import Dense\n",
        "from keras.layers import SimpleRNN\n",
        "from keras.layers import Embedding\n",
        "from keras.preprocessing.text import Tokenizer\n",
        "from keras_preprocessing.sequence import pad_sequences\n",
        "#O módulo pickle implementa protocolos binários para serializar e desserializar uma estrutura de objeto Python.\n",
        "import pickle\n",
        "#NLTK significa Natural Language Toolkit, que é algo como uma caixa de ferramentas para linguagem natural.\n",
        "import nltk\n",
        "from nltk.corpus import stopwords"
      ]
    },
    {
      "cell_type": "markdown",
      "source": [
        "\n",
        "Lendo dados de texto para treinamento. É importante usar um corpus que possua um linguajar próximo às palavras que irá utilizar."
      ],
      "metadata": {
        "id": "0fdOzLgO_akB"
      }
    },
    {
      "cell_type": "markdown",
      "source": [
        "**Preparação do modelo**"
      ],
      "metadata": {
        "id": "cqUmNB3boPeT"
      }
    },
    {
      "cell_type": "markdown",
      "source": [
        "# **Incorporação do Corpus de treinamento**"
      ],
      "metadata": {
        "id": "aaRrcxfzYZLX"
      }
    },
    {
      "cell_type": "code",
      "source": [
        "data = open('/content/comments.csv').read()[:100000]\n",
        "data"
      ],
      "metadata": {
        "colab": {
          "base_uri": "https://localhost:8080/",
          "height": 122
        },
        "id": "Mx5kJaPFY4Be",
        "outputId": "69bf2633-714d-4b14-ad78-43b09e516609"
      },
      "execution_count": null,
      "outputs": [
        {
          "output_type": "execute_result",
          "data": {
            "text/plain": [
              "'status_message\\nVamos tomar chopp hoje😍\\n\"Todo mundo curte um hot roll. E quem negar, mentiu. 😎 \\n\\nAbrimos às 18h00!\\n🎌 Batista Campos - Rua dos Pariquis, 1712\\n🎌 Av. Senador Lemos, 356 🎌 Av. Duque de Caxias, 510 \\nDelivery:\\n2121-4463\"\\nMesa cheia é mesa alegre!\\nNosso Filé com Molho de Vinho é fabuloso! Ele ainda acompanha um delicioso risoto de funghi. Venha apreciar os sabores do Vegas! #VegasRestaurante #VivaVegas\\n\"Daqui a pouco tem Malino’s Hein!\\n🍔🍺🍟😍\"\\n\"Você sabia que além de hambúrgueres,temos também Coquetel de Fruta😲\\nIsso mesmo, então vc já sabe☺☺☺\"\\n\"Que esse é um dos pratos mais famosos e respeitados aqui em Belém, todos já sabem. Mas só dá para descobrir o motivo provando. Venha experimentar o Vatapá do Point e se surpreenda! 😉 👏 👌\\n\\n👉 Point Aquários\\n- Municipalidade, nº 897, esquina da Wandenkolk.\\n- (91) 3223-1686 / 3085-7229.\\n- Domingo – 8h às 17h. Segunda a sábado – 8h às 22h30.\"\\n\"30ª ED. DO T.D.O. (Tributo Duplo Oficial)\\nLEGIÃO URBANA E CHARLIE BROWN JR\\n\\nHá cerca de 5 anos, Chorão e Champignon, dois ícones da geração 90, foram fazer um som no plano superior. E com uma enxurrada de mensagens via face, insta e zap, a galera pediu que essa cabalística 30ª edição do T.D.O. traga logo os caras do CBJR Cover pra mandar os hits e lados B do CHARLIE BROWN JR. E claro, tem também a TomaRock fazendo sua já tradicional reverência à oitentista LEGIÃO URBANA, botando a galera pra cantar e pular do início ao fim da noite. E entre as bandas, o set matador do DJ Junior Beats, fazendo o Studio Pub ferver!\\n\\nO quê? Ainda não foste em nenhuma edição da festa? Procura saber com a galera sobre as anteriores e se liga nas promos que ainda dá tempo. São 3 p*ta atrações por preços promocionais (de verdade):\\n\\nINGRESSOS\\nPrimeiro lote: R$ 15,00\\nSegundo lote: R$ 20,00\\nTerceiro lote: R$ 30,00\\n\\nIngressos à venda na bilheteria do Studio Pub (Pres Pernambuco, 277, no início da Gentil), de terça a sábado, a partir das 18h.\\n\\nDúvidas? StudioPubWhatsApp\\n(91) 99161-3677\"\\n\"Comente #EU QUERO e Ganhe uma mesa + lista de 20 amigos GRÁTIS.\\n\\nSexta. Inauguração Sambôtequim\\n• Nosso tom: Sorriso moleque: Vaguinho Db: Resenha: De Bobeira.\\n• 03 horas de open bar e balde RS20 a noite toda.\\n\\nSorteio sexta as 10h\\ninformações 98968-3496/98146-5107\"\\nQuinta é um ótimo dia para estar aqui conosco e ter o melhor almoço da cidade.\\nPreparados para o maior St Patrick’s Day da Cidade??? Garanta seu ingresso !!! #StudioPubBelem\\n\"Sentiram falta do velho rock N’ roll nacional? A gente entende! Prepare as distorções para essa noite porque as bandas Alta Frequência e Rock N’ Trio, que vão relembrar os melhores sucessos das bandas Detonautas, Raimundos, O Rappa e CPM 22! Um tributo especial para músicas inesquecíveis!\\n.\\nIngressos:\\nAntecipados: R$15\\n.\\nOnde comprar:\\nStudio Pub - Tv. Presidente Pernambuco, 277.\\nDe terça à sexta, a partir das 18h.\\n.\\nEntrada exclusiva para maiores de 18 anos, sendo obrigatório apresentação de documento oficial e com foto.\\n.\\nOBS.: Não aceitaremos mais identidades com foto de criança ou manchadas por conta da dificuldade de identificação.\\n.\\nMais informações:\\nTel: 3252-1413 / 91 99161-3677\\nInstagram: @studiopubbelem | Facebook: studiopubbelem\"\\n\"Aproveite os sabores do Capone Ristorante, com o buffet de almoço e nosso menu à la carte no jantar.\\n\\n#caponeristorante #estaçãodasdocas #\"\\n\"Aquele momento que você fica🤔🤔🤔🤔\\nSeja bem criativo, e finalize a frase marcando uma Pessoa...Vamos lá🤗🤗🤗\"\\n\"Vamos nos ver hoje? Vem pro nosso rodízio! É das 12h às 15h, incluindo entradas, rolls, sashimis, gukans e sushi à vontade. R$69 por pessoa.\\nPostando com #ExecutivoSRB e nos marcando, você leva um Nespresso grátis. \\n📸@diegobastos3\\n#belém #pará #sushilovers #culinária #amazônia #sushi #gastronomia #cozinhaasiática #rodízio\"\\n\"No Jack você saboreia uma Pink Limonade geladinha, para aliviar o calor!\"\\n\"Nada melhor que um risotto para começar bem essa quinta-feira. Hoje esse delicioso arroz paraense ou qualquer um dos nossos risottos sai a R$29 pedindo pelo app Santé Delivery com cupom de desconto. Aproveita!\\n\\n#Saudável #gostoso #saúde #fitness #comida #quefazbem #gastronomia #food #healthyfood #força #foco #fé\"\\n\"Quinta das amigas é no Villa Aurora !!! Nesta primeira quinta de junho tem Baladeros, Betto e Naldo, dj Renato Sandres e o modão de Rick e Ramon. 🎈🎈🎁🎁🎉🎉Aniversariantes 🎈🎈🎁🎁🎉🎉 de junho tem direito a uma lista free válida até as 23:30h e entrando 10 pessoas da sua lista até este horário, você ganha uma garrafa de VODKA de presente 😱😱😱. Informações & reservas 98294-1815 !! O villa é o villa !!\"\\n\"Quem disse que salada não satisfaz? As nossas saladas são do tamanho da sua fome, com ingredientes diferenciados e selecionados pela nossa cozinha descontaminada! A nossa Salada Caprese tem mix de folhas, tomates, abóbora assada no melaço de cana com pesto paraense. Estamos localizados na Tv. Dom Pedro I, 546.\"\\n\"Quinta-feira já é quase sexta, né? Então vem saborear e se refrescar com os nossos deliciosos drinks essa noite. Conta pra gente, qual o seu favorito? \\n\\n#belém #pará #sushilovers #culinária #amazônia #drinksi #gastronomia\"\\nQue tiro foi esse😲😲😲\\n\"Aqui no Iron é Happy Hour todos os dias, porque nossos clientes merecem umas horinhas de relaxamento depois do job! Fechou essa noite aqui no Iron hoje? Sim ou com cerveja? Portas abertas às 18h. 🤘\\n\\n#beer #cerveja #litrão #pub #melhorescervejas #beerlovers #beeradict #cerveza #happyhour #cervejagelada #cervejao #cervejartesanal #cervejando #cervejaoliquidosagrado #IronBelem #PubBelem\"\\n\"Nosso morango split é uma delícia e um dos mais pedidos! R$ 25,99\"\\n\"Quer fazer parte da nossa família? Envie seu currículo 👆🏻\\n.\\n#FamigliaSicilia #Oportunidades #Temosvagas #vagasdeempregobelem\"\\n\"Bolinhas de carne recheadas com queijo gorgonzola. \\nSério mesmo, é diliça!\"\\n\"Venha aproveitar o variado cardápio do seu Dom Spetto. E agora com uma novidade: você escolhe uma das nossas opções de proteína no cardápio e se serve no buffet! 🤤 Isso tudo de segunda à Domingo, hein? Chama os amigos pra aproveitar essa delicia! 😋 #vemprodom #obomdodom #almoco #domspetto\"\\n\"Almoce em um ambiente confortável, aconchegante, onde a comida é deliciosa, com preço justo e com atendimento de qualidade.\"\\n\"Venha ao Capone saborear as nossas pizzas e pratos à la carte.\\n\\n#estaçãodasdocas #caponeristorante #belém\"\\n\"Nosso Filé com Molho de Vinho está esperando por você. Ambiente agradável e culinária deliciosa, você encontra no Vegas.\"\\nGarota de Berlim ao VIVO no #studiopubbelem ! #Supla\\n\"Hoje é sábado.\\nHoje é feriado.\\nE hoje também é dia da feijoada mais gostosa da cidade: a feijoada #ElPatron. \\nSuculenta e completinha, com todos aqueles complementos que você ama! 😉\\n...\\n⏰ Das 12h às 16h. 📍Rua Antonio Barreto, 127.\\n#FeijoadaElPatron #Sábado #Almoço #Feriado\"\\n\"Força (e fries) para as minas! 🙆\\u200d♀😎 \\n⠀\\nHoje é dia delas e aqui no SPOT tem OPEN FRIES o dia inteiro: mulheres que comprarem a 1ª porção de fries têm direito a um dia todinho de batata por conta da casa. Vem comemorar teu dia com a gente! \\n⠀\\nHoje vamos até 23hrs!\"\\n\"A omelete de camarão com alho poró é aquele prato colorido e delicioso. Ao realizar seu pedido, você decide se prefere a omelete com ou sem gema. Funcionamento normal até às 22h!\"\\nSábadão é dia de curtir aquela feijoada esperta! <3\\nHoje temos uma desculpa para sair da dieta e correr pro Jack para comemorar! #diadagula #Jackgarage\\n\"Que tal experimentar uma combinação regional que não tem como dar errado? Salmão + queijo do Marajó + pesto de jambu. 🐟\\n#belém #culinária #amazônia #sushi #gastronomia #cozinhaasiática #salmão #queijo #peixe #queijodomarajó #jambu\"\\n\"Em meados de 2012, um grupo de amigos decidiu criar a banda Cornerstone com o objetivo executar e compartilhar a boa música dos ícones britânicos do indie rock: Arctic Monkeys. \\nE no sábado, dia 09 de Junho, a gente te espera pra cantar parabéns e celebrar esses 06 anos de banda, com 2h de show da Cornerstone, muita animação e claro, a Heineken mais gelada da cidade! \\nEstão prontos para enlouquecer ao som de “Dancing Shoes”, “Teddy Picker”, “Fluorescent Adolescent”, “Do I Wanna Now”, “Four Out Of Five” e muito mais? \\nE não para por aí... A abertura dessa incrível festa fica por conta da Oasis Cover, recheando o aniversário com mais uma dose de clássicos britânicos. Você não vai ficar de fora dessa, né?\\n\\nLineup:\\n22h – DJ Junior Soares\\n00h – Oasis Cover – Gas Panic!\\n02h – Arctic Monkeys Cover – Cornerstone\\n\\nIngressos:\\nAntecipados: R$15\\nNa hora: R$20 o primeiro lote\\n\\nOnde comprar:\\nStudio Pub - Tv. Presidente Pernambuco, 277.\\nDe terça à sexta, a partir das 18h.\\n\\nEntrada exclusiva para maiores de 18 anos, sendo obrigatório apresentação de documento oficial e com foto.\\nOBS.: Não aceitaremos mais identidades com foto de criança ou manchadas por conta da dificuldade de identificação.\\n\\nMais informações:\\nTel: 3252-1413 / 91 99161-3677\\nInstagram: @studiopubbelem | Facebook: studiopubbelem\"\\nCopinho de morango pra essa sexta-feira maravilhosa! 🍦🍓💗 #amelhordobrasil #cairu #amocairu #sorvetescairu\\n\"Vamos combinar que a geração nascida nos anos 90 merece mais espaço na noite da cidade, né? Pensando nisso, o Studio Pub preparou um evento especial para essa galera que curte uma baladinha Indie pra gente relembrar a adolescência. Indie também é Rock!! No dia 09 de Março, as maiores bandas Indies farão sua noite mais feliz com os sucessos mais tocantes dessas feras! You only live once, então que tal Stop crying your heart out e vir acompanhar esses shows do Oasis, The Strokes e Arctic Monkeys cover junto com a gente? R U Mine na Sexta-feira? \\n.\\nIngressos:\\nAntecipados: R$15\\n.\\nOnde comprar:\\nStudio Pub - Tv. Presidente Pernambuco, 277.\\nDe terça à sexta, a partir das 18h.\\n.\\nEntrada exclusiva para maiores de 18 anos, sendo obrigatório apresentação de documento oficial e com foto.\\n.\\nOBS.: Não aceitaremos mais identidades com foto de criança ou manchadas por conta da dificuldade de identificação.\\n.\\nMais informações:\\nTel: 3252-1413 / 91 99161-3677\\nInstagram: @studiopubbelem | Facebook: studiopubbelem\"\\nSábado animado começa no Vegas. A festa inicia a partir das 14h30 com o pagode do grupo 100 Abuso e Velha Guarda Irreverência.\\n\"Chegou a SEXTA e estamos em clima de aniversário. Venha comemorar esse niver conosco ouvindo muito rock regado a muito chopp!\\nPROMOS:\\nChopp Amazon Beer em DOBRO das 17h às 21h. E após, R$ 6 a noite toda!\\nCaipirinha e SHOT em DOBRO da 00h a 01h.\\nWelcome Drink para as luluzinhas.\\nNo comando do som: Nelinho Brasil e Nirvana Cover.\"\\n\"No Buffet El Patron. Experimente nossas opções de massas, carnes, saladas e muito mais. Vem almoçar com a gente!🍽 #BuffetElPatron #Almoço #Delicioso\"\\nSexta linda chegando e o salmão gostoso saindo com desconto! Hoje qualquer prato de salmão sai por apenas R$36 pedindo pelo nosso app Santé Delivery com cupom de desconto. Não esquece que tem taxa grátis para pedidos até 11h🍅🍽\\n\"Salmão In Namoratto\\n\\nEsse é um prato leve e delicioso. Já experimentou? Fica a dica para o próximo jantar no Famiglia.\"\\n\"Comece a semana com nosso audacioso Edgar Poe. Você pode acompanhar com uma breja, ou se preferir escolha nossos drinks. 🤘\\n\\n#beer #cerveja #ontap #pub #melhorescervejas\\n#beerlovers #beeradict #cerveza #happyhour #cervejagelada #cervejao #cervejartesanal #cervejando#cervejaoliquidosagrado #IronBelem #PubBelem\"\\n\"Quinta tem playlist das Ousadas aqui no Ziggy no Laço da Rabiola! Elas vão mandar muito FUNK, POP, BREGA E HIP HOP pra dançar muito com os migxs. Bora que a entrada é free até 20h (depois fica R$ 10 a noite toda).\"\\n\"Nesta sexta as mulheres que chegarem até meia noite, vão ganhar um drink lagoa azul por nossa conta. \\nLembrando que ainda tem aquele pagodinho top com Grupo Exatamente, Gamadinho e o Dj Betynho quebrando tudo nos intervalos.\"\\nVamos assistir a final da copa verde juntos? #vemprodom em seguida teremos música ao vivo com Beto Meireles 😍\\nRemanso Mango direto da fábrica da Amazon Beer para avisar que ela tá na área e tá voltando pra casa. Podem mandar bala! 😎 🍻\\n\"É amanhã! Ainda temos mesas disponíveis, traga sua rainha ou seu rei para comemorar conosco o dia dos namorados! 👑❤\\n.\\nTeremos as mesas habituais para os casais, decoração característica e um super show com MAGIC BOX. Reservas pelo direct e whatsapp no 99151.7063.\"\\nUm pouco da Hells Bar n Burgers😍😍\\n\"E o sucesso continuar todas as sextas no Pagode da Diretoria.\\nFestival de pizza liberado para a galera das 22h até meia noite!\\nÉ só chegar cedo a aproveitar mais essa molezinha. 🍕😍🤤\"\\n\"Se você nos permite, estamos chegando com o Pirarucu Defumado. 😌\"\\nSabe o que tem hoje?! Mignon em promoção! A sugestão é escolher um acompanhamento saboroso: mousseline de mandioquinha. Sai apenas por 28 pedindo pelo app Santé Delivery na aba promoções! 📱🍅\\nUm brinde a melhor hamburgueria de Belém!🍻\\nDomingão é dia de curtir o som dos meninos do Vive Positiva aqui no Armazém com a entrada liberada até meia noite.\\n\"É isso aí Hamburgueiros, em breve teremos Malino’s Ananindeua hein!!!\\nPra você que mora nas proximidades , mande seu currículo para malinosburger@gmail.com\"\\nJá conhece o nosso sanduíche de filé no pão ciabatta integral?\\n\"Que tal uma margherita essa noite?! ❤️ Hoje a nossa sai por R$24 na nossa promoção pedindo pelo app com o cupom \"\"promopizzasaudavel\"\" você ganha esse super desconto! 🍕📱Baixe o aplicativo do Santé na Google Play ou Apple Store.\"\\n\"Sabe o que deixa sua quarta-feira melhor ainda? O Open Bar Night do Studio Pub! Cerveja à vontade das 18h às 23:30h, por apenas R$33,90!\"\\n\"Dia 27 de abril vai acontecer uma super Festa no Villa Aurora, PAGODE PRA SE APAIXONAR, com Vavá & Marcio (ex Karametade) + I love Pagode + Nosso Tom, uma super estrutura, com o melhor do pagode, Vem se Apaixonar ! #VillaAurora #Abril #PagodePraSeApaixonar\\nReservas:. 98869-5863 / 99321-2025\\nVendas : App Sympla & ELLUS BOULEVARD (2 Piso)\"\\nSexta feira + chopp gelado + rock com cover do The Strokes ❤️🍺\\nDomingão tem Grupo Avéra aqui no Armazém #estaçãobrahma\\n\"Vai ter comemoração do aniversário do Kurt Cobain aqui no Studio Pub! O rei de Seattle estaria completando 51 anos este ano, mas Sexta não é dia de ficar triste, né? Para animar nossa festa, as bandas Nirvana e Pearl Jam Cover vão tocar os maiores sucessos do Grunge pra matar a saudade dos anos 90. Vai logo preparando a voz pra cantar junto que a gente te espera dia 23 aqui no Studio Pub!\\nIngressos:\\nAntecipados: R$15\\n\\nOnde comprar:\\nStudio Pub - Tv. Presidente Pernambuco, 277.\\nDe terça à sexta, a partir das 18h.\\n\\nEntrada exclusiva para maiores de 18 anos, sendo obrigatório apresentação de documento oficial e com foto.\\n\\nOBS.: Não aceitaremos mais identidades com foto de criança ou manchadas por conta da dificuldade de identificação.\\n\\nMais informações:\\nTel: 3252-1413 / 91 99161-3677\\nInstagram: @studiopubbelem | Facebook: studiopubbelem\"\\n\"COÉ, RAPAZIADA 😏. Hoje a Roquerági tá com valores especiais de niver do Ziggy! Vai rolar show da Enfim Nós + discotecagem especialmente pra ti, rockeiro doido. BORA FICAR BONECO!\\n\\nRoquerági Especial de Março com Enfim Nós\"\\n\"Sexta o coro come no Pagode da Diretoria com Grupo Exatamente e Dj Betynho nos intervalos. \\nAs damas que chegarem até meia noite tem a entrada vip com direto a um drink super especial. \\nEntão não marca bobeira e vem curtir a melhor sexta da cidade aqui no Armazém.\"\\nComemore seu aniversário na estação Brahma aos Domingos aqui no Armazém.\\nAgora temos novo horário do Almoço do Jack. A partir das 11h30 você aproveita o cardápio especial até as 16h somente de seg a sexta. No final de semana apenas nosso cardápio normal e delicioso de sempre de 18h às 00h. #Jacknoalmoço #Steak #Burger #Beer\\n\"Deliciosamente saudável, o Bolo de Cenoura da Eti Mariqueti é feito com uma saborosa receita caseira que o torna ainda mais especial. Preparado com massa fofinha com sabor de cenoura e uma irresistível cobertura de chocolate. Experimente e comprove. 🤗\"\\n\"Quem disse que no domingo não rola promoção?! Se liga!\\n.\\nJá pensou ganhar 1 INGRESSO PARA O NOSSO RODÍZIO DE PIZZA de hoje? A gente vai te dar essa chance!\\n.\\nPra participar é fácil: Curte nossa pagina, curte essa publicação e marca 2 amigos nos comentários. Depois disso é só esperar o resultado que sai hoje às 17:30.\\n.\\nBoa sorte! 🍀\\nPrêmio válido apenas para o rodízio de pizza de hoje.\"\\nUma boa opção de drink na Hells Bar n Burgers😍😍\\n\"Sábado a noite é sinonimo de Clubinho. \\nVem curtir com a gente o melhor evento da cidade.\"\\n\"Para tudo!!!!😎😎😎\\nEsse é o nosso tradicional CHESSE BURGER.🍔\\nE somente nesse fim de semana (sexta, sábado e domingo) estaremos com uma super PROMOÇÃO.\\n\\n👀Fique de olho no Regulamento da Promô!😎\\n\\n✔Basta você marcar um (01) amigo nesse Post, convida ele (a) pra ir ao BLACK, faz um print do convite e apresenta para nosso garçom no momento do pedido... na hora, seu amigo (a) ganha outro CHESSE BURGER por nossa conta.\\n🛑🛑Lembrando que, quem foi marcado e ganhou o Burger não poderá marcar outra pessoa nesse mesmo Post.\\n✔Isso mesmo, leva seu parceiro e deixa ele comer de forma gratuita por sua conta....\\nEstamos abertos a partir das 18:00hs\\n📍Localizados no Posto Redentor (Gentil com Alcindo Cacela)\\n🚘Com estacionamento privativo e segurança.\\nNão perde essa!!!!!!!\"\\nAí sim eu digo que tu me ama! 😜😚\\nDiz xissssssssss\\nE o clima Junino chegou chegando #SãoJoao #EtiMariqueti #Brás #JoaoBalbi 🇧🇷😍\\nDesejamos uma doce semana a todos! Esperamos vocês em uma de nossas unidades. ❤️🍦\\n\"QUERIDOOS, CHEGUEI rsrsrs. Sábado tem Insanos 90 no Ziggy Hostel Club pra curtir aquele rock doido da década mais insanamente inesquecível, a de 90. Vai rolar promoção de cerveja Bohemia e Pocket Show com mais noventeira no café. Vamooo0o0o0o0o 🤓\"\\n\"Brownie de Chocolate Louis Armstrong\\nBolo de chocolate com castanha, encharcado em calda de chocolate amargo, bem quente, contracenando com duas bolas de sorvete de creme. What a wonderful brownie!\\n\\nCardápio: roxybar.com.br\\n\\n#bosquegraopara #roxybarbelém #belem\"\\n\"Deu vontade de devorar essa delícia? A casa já está aberta, vem experimentar! \\n\\n#beer #cerveja #ontap #pub #melhorescervejas #beerlovers #beeradict #cerveza #happyhour #cervejagelada #cervejao #cervejartesanal #cervejando #IronBelem #PubBelem\"\\nRolando o Open bar do Mormaço\\nServiço é algo que reforçamos sempre com nossos colaboradores para sermos o melhor atendimento ao nosso público.\\n\"Se não for de sanduíche vai de pizza saudável com massa integral, fininha e crocante, valorizando o recheio saudável e gostoso! 🍕❤🍅#Saudável #gostoso #saúde #fitness #comida #quefazbem #gastronomia #food #healthyfood #força #foco #fé\"\\nAs tardes chuvosas pedem um chocolate quente típico da Eti Mariqueti. Então que tal dar essa aquecidinha com a gente? 🍨💕\\n\"É hoje galera. Duas bandas e muita gente elegante, bonita e sincera. #feiraosemimposto #conjove #acp @conjoveacp #vemBD\"\\n\"Promoção a noite toda no balde de Brahma nesta terça no Samba do Trabalhador. \\nLembrando que a entrada é liberada das 15h até as 17h!\"\\n\":: Informações ::\\n\\n- Point Aquários: Municipalidade, 897, esquina da Wandenkolk. ☎ 3223-1686 / 3085-7229.\\n- Point Veiga: Rua Veiga Cabral, nº 450, esquina com a Tv. Bom Jardim. ☎ 3225-4647 / 3230-3162.\\n- Point Boulevard: Av. Boulevard Castilhos França, nº 744, esquina com a Av. Presidente Vargas. ☎ 3212-2168.\"\\n\"STUDIO PUB ROCK FESTIVAL - UK X US EDITION ! \\n\\nCorra para garantir seu ingresso do primeiro lote R$20,00 ! Ingressos limitadíssimos! \\n\\nVocê encontra em todos os shoppings de Belém nas Lojas Touch, no Studio Pub e no site Sympla !\\n\\n#studiopubbelem #studiopubrockfestival\"\\n\"Pro momento ficar completo, só um vinho Remanso pra acompanhar.\"\\n\"Nesse sábado, o nosso palco vai receber uma combinação lendária, uma das bandas considerada pela MTV, como a terceira melhor banda do milênio! Estamos falando deles: Linkin Park! Teremos um show especial com a banda Esquecidos - Linkin Park Cover, que irá tocar na íntegra o álbum Hybrid Theory e mais os sucessos que não podem ficar de fora do show deles! No mesmo dia ainda rola Pearl Jam Cover com a banda Still Alive em uma apresentação imperdível, tocando os maiores sucessos dessa banda incrível!\\n\\nIngressos:\\nAntecipados: R$15\\n\\n22H: Dj Junior Soares\\n00H: Linkin Park Cover\\n02H: Pearl Jam Cover \\n\\nOnde comprar:\\nStudio Pub - Tv. Presidente Pernambuco, 277.\\nDe terça à sexta, a partir das 18h.\\n\\nEntrada exclusiva para maiores de 18 anos, sendo obrigatório apresentação de documento oficial e com foto.\\n\\nOBS.: Não aceitaremos mais identidades com foto de criança ou manchadas por conta da dificuldade de identificação.\\n\\nMais informações:\\nTel: 3252-1413 / 91 99161-3677\\nInstagram: @studiopubbelem | Facebook: studiopubbelem\"\\nE aí. Bora de Blues hoje? #4nosBD #naocobramosentradagente #happyhour\\n\"Recebemos a visita da Pantera Negra😲\\nVersão Brasileira😶😶\"\\n\"Esse prato é incrível. Estrogonofe de pupunha!\\n\\nPrato 1\\nArroz integral com jambu\\nDhal de ervilha inteira com abóbora e macaxeira\\nCarne de panela com legumes\\nFalafel (bolinho de grão de bico)\\nSalada ■ Suco\\nSobremesa: Pudim de iogurte com frutas\\n\\nPrato 2\\nArroz integral com jambu\\nManiçoba vegetariana\\nBanana verde chips com gersal\\nFarofinha crocante\\nSalada ■ Suco\\nSobremesa: Pudim de iogurte com frutas\\n\\nPrato 3\\nArroz integral com jambu\\nDhal de ervilha inteira com abóbora e macaxeira\\nEstrogonofe de pupunha\\nFalafel (bolinho de grão de bico)\\nSalada ■ Suco\\nSobremesa: Pudim de iogurte com frutas\\n\\nDelivery 🏍\\nWhatsApp (91) 99804-3493*\\nOu pelos fones: 3222-2272 / 3242-1724\\n*Pedidos somente das 8h às 11h da manhã (pedidos após esse horário não serão aceitos)\\n\\nEndereço:\\nTravessa Padre Prudêncio, 166 - entre Manoel Barata e Ó de Almeida - Campina - Belém – PA\\n#vegetariano #comida #vegana #vegano #salada #belem#RestauranteGovinda #restauranteBelem\"\\nNesta quinta tem promoção no balde de antarctica a noite toda.\\n\"Quem provou essa margherita sabe que ela é especial! E hoje ela está em promoção! ❤ Sai por apenas R$24 se você pedir pelo nosso app Santé Delivery com o cupom \"\"promopizzasaudavel\"\" ! 🍕📱Baixe o aplicativo do Santé na Google Play ou Apple Store.\"\\n\"Hoje tem promôô de pizza!!! A pizza grande sai pelo precinho da individual(somente para o Salão)😲😲\\nNão fique de fora dessa!!!🍕🍕\\nLembrando tb que hoje a TAXA É ZERO! Delivery e IFOOD🆓\\n☎32690565/32591580\\n@blackburgerbelem #blackburgerbelem #pizza #burgers #hotdog #bacon\\n📍Av. Gentil com Alcindo Cacela, anexo ao Posto Shell Redentor\"\\n\"Já garantiu o seu ingresso para o aniversário de 3 anos do Baile das Novinhas que vai rolar sexta 06/04 no Mormaço & que trará a atração nacional MC NANDO DK ( parabéns novinha tu ganhou o troféu do ano ) ? Então corre na Locus do Pátio & garanta logo o seu ingresso. Quem avisa, amigo é 👊\"\\n\"Para os que querem manter a tradição, aquele Burger de Salmão, o nosso Black Fish 👏\\nHoje a partir das 18hs ⏰\\n📍Av. Alcindo cacela, 2119-B, anexo ao Posto Shell Redentor\"\\n\"Trago verdades!\\nHoje tem Baile Das Novinhas com o palco 360°\\nAtrações:\\n✔ Mc Lili\\n✔ Mc Loro\\n✔ Mc Lore\\n➕ Djs Neto Vibe e Jesus\\n👉Lista entrada free até as 23:00\\n👉Lista de aniversariantes free até as 23:30\\n\\nInf/cardápio pelos Whatsapp:\\n981796272 ↔ 980437275\"\\n\"Pensando no melhor para o seu público o @domspettooficial funcionará normalmente neste carnaval.\\n_\\nHoje temos um voz e Violao com Wilson imperdível na nossa calçada, e pra quem quer aproveitar mais a noite de segunda-feira teremos na boate o @projetotriodeouro . Amanhã não abriremos a boate, mais nossa calçada terá a presença do músico Jr. Veloso tocando todas as marchinhas de carnaval 🎊🎉 #carnaval2018 #domspetto\"\\n\"Essa é a Sexta que eu quero pra mim!🤘🏻🍺🍻🍔🍕🌭🍟🥓\\nE nesse findi nossa TAXA É ZEROOOO ( delivery e Ifood)\\n@blackburgerbelem #blackburger #sextou #burgao\\n☎️32690565/32591480\\n📍Av. Gentil com Alcindo Cacela.m anexo ao Posto Shell Redentor\\n🚘 Estacionamento privativo e gratuito\"\\nNão te esquece!\\n\"Um olhar para nossa sobremesa,uma paixão, um desejo, afinal de contas é a HAPPY DAY📸\"\\n\"Hoje, dia 06 de Março de 2018, completa 5 anos sem o vocalista da banda Charlie Brown Jr. e ícone do Rock brasileiro que serviu de inspiração para muita gente como cantor e compositor. O Studio Pub convida a todos para acompanhar a nossa homenagem ao Chorão com um set list exclusivo do ídolo hoje durante nosso Happy Hour.\"\\n\"Você quer ganhar a famosa taça MEGA HAPPY DAY,e ainda levar mais 5 amigos juntos para devorar ela😲 😲\\nPara participar é simples .\\nMarque 5 amigos seus😃\\n\\nSeguir a Hells Bar N Burgers Quanto mais pessoas você marcar,mais chances tem pra ganhar.\\nO sorteio será no HOJE 18/01 as 23horas,Bora😀😀😀\\nDepois você escolhe quando vai vir🤗🤗🤗\\nVocê já reparou o tamanho dela😲😲😲\"\\n\"Todo mundo de fantasia, cheios de alegria, pulando carnaval no meio do salão do Mormaço!\\nNesta sexta 09/02 Baile de Carnaval do Mormaço🎉🎶🎉\\nEntão fiquem ligados!\\n🚩Com nome na lista não paga entrada até as 23h.\\n🚩Lista de aniversários até as 23:30 pelo WhatsApp 98043-7275 ( comprovando ser aniversariante da semana ).\\n👉OPEN BAR DE CERVEJA ATÉ A MEIA-NOITE.\\n👉Fantasia completa não paga entrada a noite toda.\\n☡Atrações:\\n✔ The Morô\\n✔New Wave \\n\\nSexta ainda tem folia!\\n\\nInf/lista pelo Whatsapp: 981796272\\n\\n#VemSexta #Carnaval #Baile #Fantasia #Alegria #ReiMomo #Mormaço #VaiSerDemais #Vamos #BelemDoPara #SextasMormaco\"\\n\"A Copa vem com tudo & o Mormaço estará de portas abertas neste domingo na estreia do Brasil na Copa para lhe receber com portaria liberada pra todo mundo até as 14h. E das 14h às 15h ingressos somente 10 reais. Telões e TVs, as bandas que todo mundo ama & a beira do rio mais famosa da cidade com palco novíssimo no deck. As cervejas mais baratas & geladas da cidade que só o Mormaço tem pra você 🍺🍺🍺\"\\n\"MARCIUS BLUES BAND (DF) - Ao Vivo no Studio Pub 18/05/2018 22h\\n\\nMarcius Cabral comemora em 2018 trinta anos dedicados ao Blues. Inicialmente autodidata, estudou posteriormente guitarra com Nelson Faria, Lula Galvão, Ricardo Silveira e Toninho Horta; canto lírico com o professor Adelermo Matos e canto coral com o maestro Lincoln Andrade.\\n\\nNascido em Belém do Pará, chegou a Brasília em 1995 e se apresentou em importantes casas de Blues da cidade e festivais de Jazz e Blues. Viajou por Estados Unidos, França, Inglaterra e muitos outros países apurando sua técnica de blues e cantou em casas noturnas dedicadas ao estilo musical norte americano. Em novembro de 2017 fez um dos shows mais aclamados do Festival Blues nos Olhos, em Olhos D’Água - Go com a sua Marcius Cabral Band e foi convidado a voltar no Festival República Blues #7 em Brasília, ao lado de artistas como Omar Coleman, Hermeto Pachoal e Blues Etílicos.\\n\\nAtualmente produz com o artista plástico Ronaldo Lima o projeto Mestres do Blues, que une exposição de arte, show e a palestra História social do Blues, e percorre os palcos do Brasil com seu show.\\n\\nO show será um passeio pelo repertório que ponteou os trinta anos de estrada que o artista percorre sempre dedicado ao Blues.\\n\\nQUANDO? Sexta, 18/05\\nConfira a programação da noite: \\n22:00h - Dj Junior Soares \\n23:00h - Banda Onça Preta\\n00:00h - Marcius Blues Band\\n\\nCouvert Artístico 10,00 \\n\\nReserva de mesas pelo whatsapp (91) 99161-3677\"\\nE por que não presentear sua mãe com um Kit lindão do Meu Garoto? Na loja você encontra vários modelos e embalagens originais. Ela vai se surpreender! <3\\nCompre nas lojas Touch dos shoppings !\\n\"Uma nova semana começa e junto com ela, nossa alimentação saudável também. Vem saborear nossos pratos nutritivos, que tal um escalope de filé, batata chips e arroz integral? Esperamos por vocês até às 22h sem intervalos.\"\\n\"É claro que se juntar as opções vai dar muito bom. Mas na dúvida, vá de Temaki. 😎 \\n\\nNossas unidades:\\n🎌 Batista Campos - Rua dos Pariquis, 1712\\n\\n🎌 Av. Senador Lemos, 356 \\n\\n🎌 Av. Duque de Caxias, 510\\n\\nDelivery:\\n2121-4463\"\\n\"A sexta mais incrível da cidade está em festa!!\\n\\nROCK ALIVE + comemoração do aniversário do MARKINHO DURAN nessa sexta, 16/03, no Old School!!! \\n\\nVenha curtir o melhor do rock e festejar com a gente essa noite!\\nShows, parabéns especial ao aniversariante da noite e bolo oferecido pela casa pra toda a galera! 🎂🎉✌\\n\\nOLD SCHOOL GASTROPUB\\n👉 Funcionamento: de terça à sábado, à partir das 18h\\n\\n👉 Happy Hour, de terça a sábado, das 18 às 21h, com chopp Devassa puro malte a R$3,99\\n\\n📱central de informações e reservas: 99811-4389\\n🌎 Av Brás de Aguiar 304 (entre Benjamin Constant e Dr. Morares)\"\\nMelhor dia no 091barboutique.\\n\"Venha aproveitar esta TERÇA de CARNAVAL aqui no Heisenberg!\\nCHOPP Amazon Beer R$ 5,00 a noite toda 😍\\nQuer mais? Comprando um hambúrguer, o segundo sai com 50% desconto :)\\nTocando muito pop rock com Matheus Brevis.\\n#heisenbergpub\"\\n\"É uma delicia!😀\\nEsse Espaguete com legumes faz muito sucesso! \\n\\nPrato 1\\n Arroz integral com milho e salsa\\n Feijoada de feijão azuki\\n Bolinho de macaxeira\\n Couve no vapor\\n Farofa crocante de soja\\n Salada ■ Suco\\n Sobremesa: Tortinha doce de leite com amendoim\\n\\nPrato 2\\n Arroz integral com jambu\\n Maniçoba vegetariana\\n Banana verde chips com gersal\\n Farofa crocante de soja\\n Salada ■ Suco\\n Sobremesa: Tortinha doce de leite com amendoim\\n\\nPrato 3\\n Dhal de lentilha\\n Espaguete com legumes\\n Bolinho de macaxeira\\n Salada ■ Suco\\n Sobremesa: Tortinha doce de leite com amendoim\\n\\n Delivery 🏍\\n\\nWhatsApp (91) 99804-3493*\\nOu pelos fones: 3222-2272 / 3242-1724\\n*Pedidos somente das 8h às 11h da manhã (pedidos após esse horário não serão aceitos)\\n\\nEndereço: Travessa Padre Prudêncio, 166 - entre Manoel Barata e Ó de Almeida - Campina - Belém – PA\\n\\n#vegetariano #comida #vegana #vegano #salada #belem #RestauranteGovinda #restauranteBelem\"\\n\"🤩 NÃO PASSE VONTADE VEM PRO TACACÁ DO RENATO!\\n✅De seg a sex das 12:00 às 15:00\\n✅Das 16:00 às 22:00 todos os dias 📍Serzedelo Correa N401 entre Pariquis e Mundurucus\\n⭕️salgados apenas no horário da tarde\"\\n\"Sábado, antes do Baile Tropical especial de Carnaval no Ziggy, tem Pocket Show no café da casa com o músico Pratagy. Ele vai mandar aquele lo-fi amazônico, pra tu já ir tomando uns chopes e começar a aquecer a noite. A entrada será gratuita.\"\\n\"A gente espera você aqui, no tradicional almoço de domingo com a família e amigos para saborear os nossos anéis de lula grelhado ao molho teriyaki! Vem desfrutar do melhor da comida japonesa. \\n\\nFoto: Thais T\\n\\n#belém #pará #sushilovers #culinária #amazônia #sushi #gastronomia\"\\n\"Já sabe a pedida da nessa sexta-feira? 😍😍\\n.\\nNa dúvida, escolhe qualquer um dos nossos Drinks que você nào se arrependerá 😎\\n.\\n#DrinksVegas #VegasRestaurante\"\\n\"O #SRBIndica da semana é o livro “A arte da nova Culinária Japonesa”.\\n\\nEscrito pelo chef Masaharu Morimot, o livro fala sobre as novas formas de praticar a culinária oriental. Com dicas modernas, misturas inesperadas e receitas inovadoras, ele oferece 125 pratos com instruções passo a passo, ilustrados com fotos. Vem entender um pouco mais sobre como funciona os nossos toques regionais na culinária tradicional japonesa! \\n\\n#belém #pará #sushilovers #culinária #amazônia #drinksi #gastronomia\"\\nJá começamos com preparativos para o almoço. Só chegar!!\\n\"Feriadão amanhã (30), mas aqui, vamos seguir a programação normal, para almoço e jantar. Inclusive com as Ostras de São Caetano de Odivelas e Camarão Pitú na Brasa, como de praxe. 😌 #remansodobosque\"\\n\"Feito para satisfazer desejos, o Bolo Brigadeiro Gourmet pode ter diversas combinações. Escolha entre o sabor (branco ou chocolate) e o recheio (são diversos sabores gourmet feitos pela Eti Mariqueti). Seja qual for o seu pedido, uma coisa é certa: sua mãe vai adorar esta delícia feita com muito amor e carinho. 🌹\"\\nNão tem nada melhor do que matar a fome ouvindo música boa! E isso só o Studio Pub pode te oferecer. Te esperamos aqui a partir das 18h 😉\\nDesejamos uma maravilhosa semana a todos 🙏\\n\"A estrela Valéria Paiva, vocalista da banda Fruto sensual, faz um convite para a festa MEU ❤️ É BREGA nesta sexta no Mormaço. Ingressos promocionais na Locus do Shopping Pátio Belém 💥🍺 ACEITAAAAA, MEU AMOR\"\\n\"E essa delícia? É fechar o sábado com chave de ouro!\\n.\\nVocê tem que experimentar nossa banana flambada, que acompanha um maravilhoso queijo coalho e sorvete de creme.\"\\n\"Que tal começar o Dia das Mães com uma surpresa deliciosa? A Cesta de Café da Manhã da Eti Mariqueti é saborosamente especial, feita com todo o carinho para quem merece tudo de bom e de melhor. 🌹\"\\n\"🍻🍷Tá na hora de programar o fds!🍸🍹\\n.\\nMarca aqui o crush! 😉\"\\n\"Iremos abrir mais cedo pro jogão, afinal, happy hour a noite toda! #chelsea #barcelona #happyhour #thewaypub\"\\n\"O Maior Festival Tributo do Norte/Nordeste do país convida você para a segunda edição do:\\n\\nSTUDIO PUB ROCK FESTIVAL UK x US EDITION\\n\\nUma mega estrutura no Insano Marina Club!\\n10 Bandas, 02 Palcos, 10 horas de música, feira gastronômica\\n\\nPatrocinador Oficial: Heineken\\n\\nTanto os Estados Unidos como a Inglaterra são países cuja importância e criatividade são ilimitados para o surgimento e desenvolvimento do rock contribuindo cada um a seu modo para o que conhecemos hoje como rock and roll.\\n\\nNessa disputa de gosto e popularidade, os dois são os países mais fortes na representação dessa vertente musical, somando os pontos positivos de cada um não se surpreenda se ao final não consiga se decidir qual tem mais importância, pois uma coisa é certa: Rock é bom e todo mundo gosta!\\n\\nTudo isso te espera dia 19 de maio no Insano Marina Club. As melhores bandas do rock britânico e americano disputando pra vê qual país manda melhor no quesito rock e você vai curtir essa disputada de pertinho, tá preparado?\\n\\nLine-up\\nPalco US:\\n\\n18:00h – Pearl Jam Cover\\n20:00h – Red Hot Chili Peppers Cover\\n22:00h – Bon Jovi Cover\\n00:00h – Guns n’ Roses Cover\\n02:00h – System Of A Down Cover\\n\\nPalco UK:\\n19:00h – Beatles Forever\\n21:00h – Coverplay Coldplay Cover\\n23:00h – Pink Floyd Project\\n01:00h – Mistica Queen Tribute\\n03:00h – Led Zeppelin Cover Brazil\\n\\nAbertura dos portões 17:00h e início da Feira Gastronômica 18:00h\\n\\nPré-venda Oficial dia 06/04 à partir do meio dia no site SYMPLA\\nPrimeiros 100 ingressos na pré-venda por R$15,00\\n\\n1º Lote RS20. (VENDA FÍSICA À PARTIR DO DIA 13/04)\\n\\nMais informações: (91) – 3230-2475 / (91) 99161-3677\\n\\nINGRESSOS ÁREA VIP E CAMAROTE À VENDA ONLINE NO SYMPLA\\nÁREA VIP PRIMEIRO LOTE R$40,00\\n\\nPatrocinador Oficial: HEINEKEN\\nMais informações: (91) – 3230-2475 / (91) 99161-3677\\n\\nServiço:\\nData: Sábado, 19 de Maio de 2018\\nLocal: Insano Marina Clube - Cidade Velha - Belém\"\\n\"Marque sua melhor companhia! \\nViva o amor! 😍\\n\\nPrato 1\\n Arroz integral com castanhas\\n Dhal de grão de bico\\n Vegetais gratinados\\n Alu patra (rocambole de batata com especiarias)\\n Salada ■ Suco\\n Sobremesa: Bolo de chocolate com ganache de biomassa\\n\\nPrato 2\\n Arroz integral com folhas verdes\\n Maniçoba vegetariana\\n Banana verde chips com gersal\\n Farofinha crocante\\n Salada ■ Suco\\n Sobremesa: Bolo de chocolate com ganache de biomassa\\n\\nPrato 3\\n Arroz paraense\\n Vatapá vegetariano\\n Cuscuz com brócolis\\n Acarajé com vinagrete\\n Salada ■ Suco\\n Sobremesa: Bolo de chocolate com ganache de biomassa\\n\\n Delivery 🏍\\n\\nWhatsApp (91) 99804-3493*\\nOu pelos fones: 3222-2272 / 3242-1724\\n*Pedidos somente das 8h às 11h da manhã (pedidos após esse horário não serão aceitos)\\n\\nEndereço: Travessa Padre Prudêncio, 166 - entre Manoel Barata e Ó de Almeida - Campina - Belém – PA\\n\\n#vegetariano #comida #vegana #vegano #salada #belem #RestauranteGovinda #restauranteBelem\"\\n\"Confiram nosso horário de funcionamento no feriado de amanhã (21/04)! Esperamos por você! ❤\\n#doceriaamorosa #tudofeitocomamor\"\\n\"Hoje é sexta-feira e #hojetem no Remanso do Bosque. No menu Tem, Mas Tá Acabando, quem chegou foi a ostra gratinada com creme de alho poró e queijo marajoara. Uma beleza! Ah, e tem a ostra natural também. É só hoje, hein. #temmastáacabando #TGIF #remansodobosque\"\\n\"Qual você vai escolher, e quem vai acompanhar você😍😍😍\"\\nVamo que vamo moçada que é em clima de São João que trazemos para vcs mais uma edição do pinga na seringa. Cachaça no copo é para os fracos a onda é pinga na seringa 😉\\nMas Quarta estaremos esperando vocês. 😄\\n\"Pra comer com a galera os nossos nachos artesanais são a melhor pedida! Acompanha três molhos que vão fazer você subir na mesa e fazer headbang! Então já sabe, vem pro Iron e peça o nosso Isaac Newton no capricho!\\n\\n#beer #cerveja #pub #melhorescervejas #beerlovers #beeradict #cerveza #happyhour #cervejagelada #cervejao #cervejartesanal #cervejando #cervejaoliquidosagrado #IronBelem #PubBelem\"\\n\"Quem disse que no domingo não rola promoção?! Se liga!\\n.\\nJá pensou ganhar 1 INGRESSO PARA O NOSSO RODÍZIO DE PIZZA de hoje? A gente vai te dar essa chance!\\n.\\nPra participar é fácil: Curte nossa pagina, curte essa publicação e marca 2 amigos nos comentários. Depois disso é só esperar o resultado que sai hoje às 17:30.\\n.\\nBoa sorte! 🍀\\nPrêmio válido apenas para o rodízio de pizza de hoje.\"\\n\"Batata doce rechaeada com filé, uma boa pedida para o seu jantar. #Saudável #gostoso #saúde #fitness #comida #quefazbem #gastronomia #food #healthyfood #força #foco #fé\"\\n\"NESTA QUARTA\\n.\\nChopp Amazon Beer Forest, estará com o Happy Hour em DOBRO das 18 hs as 21 hs saindo a R$ 4,00 na promoção cada um chopp. Após as 21hs somente R$ 5,00 a unidade até fecharmos.\\n.\\nNo comando Voz e Guitarra com John Mccan – A voz e a guitarra do Beatles Forever. Imperdível!\\n#heisenbergpub\"\\n\"No Carnaval de Delícias Cité, o prato principal é o famoso Tour Cité com generosas torres de filé mignon com camadas de mozzarella, regadas ao molho gorgonzola, acompanhado de arroz à piamontesa e muitas fritas. Entrada + prato principal + sobremesa por R$ 49,90. Vem pro Cité!\\n-\\n☎ Delivery Cité de Seg. a Sáb. de 18:00 às 23:30 e aos Domingos de 11:30 às 15:00 e de 18:00 às 23:00h através de nosso aplicativo; ou pelo site citebelem.com.br ou através do número 3349-5777! \\n-\\n#vemprocité #cité #cite2018 #citebelem #restaurantecité #carnaval2018 #carnaval #carnavalcite #carnavaldedelicias #instafood #tasty #belem #pará.\"\\n\"Vc sabia que no Shopping Metrópole Ananindeua abrimos 12hs😍\\nEntão vem almoçar com a gente@🤩🤩\"\\n\"Clubinho, Sábado 10 de Março de 2018\"\\n\"O Kit Café da Manhã da Eti Mariqueti é um presente para, literalmente, começar o dia com tudo de bom. É uma cesta completa, com doces e salgados cuidadosamente preparados com todo o cuidado, carinho e dedicação.\"\\n\"Hoje é dia de soltar a voz e de comemorar com a gente!\\n.\\nO nosso Karaokê tem entrada LIBERADA hoje a noite toda! Vale cantar tudo, então chama todo mundo porque o palco já tá montado, microfone preparado para você mandar aquele vozeirão, com uma cerveja mega gelada no bar!\\n.\\nEntrada free a noite toda.\\nHora: A partir de 21h.\\n.\\nMais informações:\\nTelefone: 3230-2475 / Wpp: (91) 99161-3677.\"\\n\"Promo Relâmpago, somente neste Sábado e Domingo😲😲😱😱\\nNa compra de QUALQUER um dos nossos Hots - Pão Brioche com Linguiça suína de 25 cm🌭, vão estar por apenas $9.90.\\nAproveite para experimentar este que é novo no nosso Cardápio - Hot Pork 😎\"\\n\"✨🍔Domingo do Hambúrguer🍔✨\\nQuem é amigo de verdade convida pra lanchar no El Patron. Marca aqui aquela(s) pessoa(s) que vai te trazer pra curtir nossos Hambúrgueres Gourmet!😏\\n>Todo domingo, às 18h30.\\n👉Delivery: (91) 3348-6800!\\n. . . \\n#SundayBurguerElPatron #ElPatron \\n#Hambúrguer #Top #BurgerLovers\"\\n\"Prato 1\\nArroz integral com couve e castanhas de cajú\\nDhal de grão de bico com salsão\\nBurguer de quinoa e proteína de soja com purê de abóbora\\nBatata rústica\\nSalada ■ Suco\\nSobremesa: Banana gratinada\\n\\nPrato 2\\nArroz integral com jambu\\nManiçoba vegetariana\\nBanana verde chips com gersal\\nFarofinha crocante\\nSalada ■ Suco\\nSobremesa: Banana gratinada\\n\\nDelivery 🏍\\nWhatsApp (91) 99804-3493*\\nOu pelos fones: 3222-2272 / 3242-1724\\n*Pedidos somente das 8h às 11h da manhã (pedidos após esse horário não serão aceitos)\\n\\nEndereço:\\nTravessa Padre Prudêncio, 166 - entre Manoel Barata e Ó de Almeida - Campina - Belém – PA\\n#vegetariano #comida #vegana #vegano #salada #belem#RestauranteGovinda #restauranteBelem\"\\n\"Há 1 ano atrás a Me Gusta surgiu com a proposta de trazer para Belém o novo e diferente com muito amor e comprometimento, sua criadora e idealizadora Lorena Magalhães fez do mundo Me Gusta um mundo mágico , alegre e divertido onde em cada colherada você sinta o que chamamos de \"\"Saborosas Sensações \"\". Agora, graças a vocês , crescemos e procuramos sempre estar perto dos nossos clientes , é por isso que estamos inaugurando nossa segunda unidade no shopping metrópole Ananindeua com tudo que tem direito , muito amor e trabalho e claro nossas super delícias ! Queremos convidar todos vocês a estar conosco a partir do dia 01 de março no 3 piso às 17h ( INAUGURAÇÃO) ! É com muita alegria e emoção que falamos \"\" CHEGAMOS ANANINDEUA ❤️\"\"\"\\n\"#Repost\\nA @erickaviggiano passou no Grão, para saborear aquele prato leve e cheio de sabor.\"\\n\"As sobremesas do buffet de almoço também são deliciosas, experimente o nosso pudim de leite com creme de leite. Hummmm.\\n\\n#estaçãodasdocas #caponeristorante #belém\"\\n\"Bateu a vontade de comer um sanduíche e não quer perder o foco? A gente tem a solução pra você! Que tal um integral de mignon com queijo do marajó e saladinha fresca? Deu água na boca, né?! 😋❤\"\\nBora Venha fazer Parte da Familia PlanoB 💥\\n\"Neste domingo tem Heisenberg com aquelas promoções que todo mundo gosta!\\n.\\nChopp Amazon Beer em DOBRO até 21h e após R$ 6,00 a noite toda!\\n.\\nHambúrguer comprando um o outro sai por 50% desconto.\\n.\\nE mais: Ayres Sasaki mandando mto pop rock em voz e violão!\\n#heisenbergpub\"\\n\"✨🍻HAPPY HOUR EL PATRON🍻✨\\nChopp em DOBRO toda terça e quarta!!! Aproveite pra saborear nosso cardápio de entradas com preços especiais. Chama os amigos pra curtir no El Patron!😉 \\n👉Das 18h30 às 21h\\n. . . \\n#ElPatron #HappyHour #CervejaEmDobro #Curtição\"\\n\"CHEGOU O GRANDE DIA! \\n\\nHoje você tem um encontro marcado com o COLISEU DO ROCK!\\n\\nÚltimas unidades do segundo lote 25$ à venda nas lojas Touch dos Shoppings! As vendas no local começam à partir das 17:00h !! \\n\\n#StudioPubRockFestival #UKxUS #Rock\"\\n\"Literalmente um sonho, esta sobremesa é ótima em qualquer hora do dia. Feita com creme bassier, ganache de chocolate e pedaços de Bombons Sonho de Valsa, é uma delícia que vai fazer você sonhar com todo este sabor.\"\\n\"Tenha todas as delícias e facilidades Cité na palma da sua mão. Baixe nosso aplicativo para IOS e Android ou diretamente pelo site: citebelem.com.br \\nAcesse nosso cardápio e faça seu pedido muito mais fácil e rápido. Vem pro Cité!\\n-\\n#vemprocité #cité #citebelem #restaurantecité #sextou #delivery #aplicativo #site #gastronomia #instafood #tasty #belem #pará.\"\\n\"Antes de pedir o prato principal, que tal pedir uma entrada? A Mozzarella de búfala crocante ao molho sugo não pode faltar no seu jantar.\\nEla compõe mini cubos, queijo sem lactose e farinha funcional. Então, vem experimentar nossos alimentos com qualidade no preparo que só o Grão oferece!\"\\n\"A noite começa muito bem com nossos Craps Cards. Esses dadinhos de tapioca, queijo coalho e parmesão fritos são maravilhosos! Ainda acompanham saborosa geléia de tomate. Vem curtir as delícias do Vegas!\\n. . . \\n#VegasClub #VivaVegas #SaboresVegas\"\\n\"Domingo tem Fica Domingo aqui no Armazém a estreia foi um sucesso e esse domingo promete 😍😍👊🏾\\nPalco na Varanda, relembrando a história do começo ❤️! #Curte #Marque2amigas\"\\n\"Lindos & apetitosos, os nossos niguiri de salmão semi-grelhado ao azeite em cubos de tapioca com molho thai esperam por você das 18h às 23h30. Nossos chefs capricharam neste prato!\\n\\n#belém #pará #sushilovers #culinária #amazônia #sushi #gastronomia #cozinhaasiática\"\\n\"\"\"Se liga aí moçada!\"\" 😁 \\nTem recado do nosso amigo e parceiro @markinhoduran pra vocês, galera!!! \\n\\nFica esperto pq a parada é hoje!!! Com muito pop, rock, happy hour 🍻, drinks🍹e comidinhas sensacionais 🍤🍝🍔 pra selar que a sexta é mesmo o dia mais🔝da semana!! 💃🎶🎸\\n\\nMúsica ao vivo à partir das 22h com Rock Unplugged e Markinho Duran!\\n\\nOLD SCHOOL GASTROPUB\\n👉 Funcionamento: de terça à sábado, à partir das 18h .\\n👉 Happy Hour, de terça a sábado, das 18h às 21h, com chopp Devassa puro malte a R$3,99 \\n📱Central de informações e reservas: 99811-4389\\n🌎 Av Brás de Aguiar 304 (entre Benjamin Constant e Dr. Moraes)\"\\n\"Quem disse que no domingo não rola promoção?! Se liga!\\n\\nJá pensou ganhar 1 INGRESSO PARA O NOSSO RODÍZIO DE PIZZA de hoje? A gente vai te dar essa chance!\\n\\nPra participar é fácil: Curte nossa pagina, curte essa publicação e marca 2 amigos nos comentários. Depois disso é só esperar o resultado que sai hoje às 17:30.\\n\\nBoa sorte! 🍀\\nPrêmio válido apenas para o rodízio de pizza de hoje.\"\\n\"A tradição continua 01 de maio dia do trabalhador V encontro dos filhos boavistense no botequim com WANDERLEY ANDRADE,SONEL FARIAS,RIBA DI BORGE,CLEBERSON SANTOS,DJ JUNIOR DO MEGA FLUMINENSE E VARIOS CONVIDADOS\"\\n\"Tem muito sabor esperando por você aqui no Jack. Vem curtir essa terça com a gente!\\n\\n#Jackgarage #instafood #instagood #burgers #snack\"\\n\"Seladooo!\\nFiquem ligados que sexta, dia 23, tem a...\\n💋Sexta Das Solteiras💋\\n✔Atrações:\\n🚩Carol Diva\\n🚩Mizerê\\n🔊Dj Deny Amaro\\n\\nInf/Lista pelo Whatsapp: 981796272\\n\\n#VemSexta\"\\nChegou mais uma sexta do Mormaço! Mais tarde todo mundo se encontra na melhor beira do rio da cidade! Vem pro MORMA!\\nHoje tem a melhor banda de u2 Cover do norte The Way Pub! #u2 #thewaypub\\n\"Nosso renomado Chef Eduardo Amaral te convida para saborear o melhor da culinária regional e mundial em um só lugar, no almoço ou no jantar. Nesta quinta-feira, aceite este convite, vem pro Cité!\\n-\\n☎ Delivery Cité de Seg. a Sáb. de 18:00 às 23:30 e aos Domingos de 11:30 às 15:00 e de 18:00 às 23:00h através de nosso aplicativo; ou pelo site citebelem.com.br ou através do número 3349-5777! -\\n-\\n#vemprocité #cité #citebelem #restaurantecité #cheffconvida #cheffeduardo #gastronomia #instafood #tasty #belem #pará.\"\\n\"Já sente o clima dessa super sexta-feira no @domspettooficial\\nVai ser sensacional, não fique de fora! Lista Vip 98133-9770\"\\n\"Hoje tem a 29ª edição do Tributo Duplo Oficial, com TomaRock fazendo tributo à oitentista LEGIÃO URBANA e a galera do CBJR Cover mandando a noventista CHARLIE BROWN JR. E entre as bandas, o set matador do DJ Junior Beats, fazendo o Studio Pub ferver!\\n.\\nO quê? Ainda não foste em nenhuma edição da festa? Procura saber com a galera sobre as anteriores e se liga nas promos que ainda dá tempo. São 3 p*ta atrações por preços promocionais (de verdade)\\n.\\nINGRESSOS\\nPrimeiro lote: R$15,00\\nSegundo lote: R$20,00\\nTerceiro lote: R$30,00\\n.\\nIngressos à venda na bilheteria do Studio Pub (Pres Pernambuco, 277, no início da Gentil), de terça a sábado, a partir das 18h.\\n.\\nDúvidas? StudioPubWhatsApp \\n(91) 99161-3677\"\\n\"Hoje tem Ziggyridum com Liège, DBL e Zek Picoteiro no Ziggy pra tu dançar muita música paraense, tédoidé. Chama logo o teu parceiro de requebração e vemtibora 💃. Entrada: R$ 15 a partir de 22h // R$ 20 a partir de 23h\"\\n\"Começar essa segunda com leveza, não tem preço. Então a nossa sugestão é que você venha almoçar com a gente! Vem pedir uma Salada do Nutri, de filé mignon com queijo cremoso sem lactose, tomates cereja, e mix de folhas com molho da casa! Estaremos esperando a sua presença! 💛\"\\n\"Esse St. Patrick\\'s Day foi épico e o Iron Pub agradece à todos que compareceram! Tiveram bebidas exclusivas, muito rock e com direito até a Leprechaun. Simplesmente demais! Mas você não precisa esperar o próximo St. Patrick\\'s Day, aqui tem Happy Hour todo o dia e muita cerveja! Vem, estamos te esperando! 🤘\\n\\n#beer #cerveja #ontap #pub #melhorescervejas #beerlovers #beeradict #cerveza #happyhour #cervejagelada #cervejao #cervejartesanal #cervejando #cervejaoliquidosagrado #IronBelem #PubBelem\"\\nPra quem sonha com uma Tarta de Queso Cuia inteirinha pra si: o seu momento está chegando. 👀\\n\"Hoje se completam 45 anos do último show dos Beatles! 🎶🎙 E nós não poderíamos deixar de homenagear esse dia. Como bons fãs, preparamos uma homenagem ao show mais inesperado desses caras. Venha para o Spot e confira o burguer Come Together - pão, carne, cheddar, ovo, picles de cebola roxa, bacon e mostarda! 😎\\nE tem mais: quem vier com uma camisa dos Beatles e comprar um burger ganha crinkle fries!\"\\n\"Ligue pro nosso Delivery e receba em sua casa um açaí geladinho e diversos pratos regionais!\\nVai viajar? Entregamos também açaí congelado, já embalado no isopor, em hotéis e residências. ☎ 😉\\n\\n👉 Por enquanto, entregas até São Brás.\\n\\n- Point Boulevard Castilhos França: (91) 3212-2168\\n- Point Veiga Cabral: (91) 3225-4647 / 3230-3162\\n- Point Aquários (Municipalidade): (91) 3223-1686 / 3085-7229\\n- Central de Distribuição (Cidade Velha): (91) 3241-4917\"\\n\"A originalidade da tradicional Cupuaçu com Brigadeiro Branco, acrescenta um inusitado sabor a um bolo especialmente delicioso. #Cupuaçu #BrigadeiroBranco #ExclusividadeEtiMariqueti 💕\"\\n\"Na Hells Bar n Burgers é assim😙\\nFamília😎😎😎\"\\n\"Nesse sábado é dia de Open Bar até 00h ! \\nNosso Clubinho estourado demais ! \\n#Curte #Marque2amigas\"\\nQue tal um cafézinho para esquentar depois da chuva? ☕️ ☔️\\n\"Hoje tem Malino’s Hein!!\\n🍔🍺🍟\"\\n\"Que tal ter um sábado #TOP no El Patron? Vem curtir com os amigos ao som do Dj Nape!🎶🍻\\n*A partir das 21h, será cobrado couvert artístico de R$15\\n. . . \\n#ElPatron #ViniciusNape #Curtição\"\\n\"Pra te deixar com mais vontade de sushi, temos #RodízioTodoDia em nossas três unidades.\\n\\n🎌 Batista Campos- Rua dos Pariquis,1712. ⠀\\n🎌Av.Senador Lemos,356\\n🎌Av. Duque de Caxias,510\\nDelivery 2121-4463 ☎/98053-9587\"\\n\"Hoje tem ondinha de leve com Happy Hour + Pocket Show da Liège + promoção de Colorado & Burguers. Chama os crushs tudo, que o clima vai ser bem de boa pra bater um papo, tomar uma cebreja e comer umas broquinhas 😉\\n\\nHappy Hour + Liège no Café do Ziggy\"\\nQuem resiste a um risotto especial?! Aproveita que hoje no almoço o de salmão e qualquer um dos risottos do nosso cardápio saem por apenas R$29 para pedidos pelo app Santé usando o cupom de desconto! E não esquece que pedidos até 11h ganham taxa GRÁTIS!\\nMais tarde tem tomarock pra gente terminar uma semana duka muito bem! #vemBD\\n\"Hoje a noite promete na hells bar n Burgers🎶\\nEla está de volta com seu novo repertório músical a @_gabinascimentoc📸\\nEntão vc já sabe vem😃😃😃😃\"\\n\"Hoje é véspera de feriado! Sabe o que o Studio Pub preparou pra você? KARAOKÊ!\\n.\\nO nosso Karaokê tem entrada LIBERADA! Vale cantar tudo, então chama todo mundo porque o palco já tá montado, microfone preparado para você mandar aquele vozeirão, com uma cerveja mega gelada no bar!\\nAlém disso, vamos ter show do John Mccam na área do Pub!\\n.\\nEntrada FREE\\nHora: A partir de 21h.\\n.\\nMais informações:\\nTelefone: 3230-2475 / Wpp: (91) 99161-3677.\"\\n\"Todo sábado é dia de Villa Aurora... a melhor estrutura com as melhores banda da cidade !!! Vem pro Villa ... Thiago Costa + Betto e Naldo + Luan Kassio + Dj Renato Sandres ...\\nReservas: 98869-5863\"\\n\"Logo mais tem a Mega Promo do HOT 😎🤘🏻\\nQualquer um por apenas R$9.90. Aproveita pra comer o seu preferido ou para experimentar um de outro sabor...\\nPq o seu Domingo pode ser o melhor dia da semana, sim!!! \\nA partir das 18hs estaremos te aguardando com tudo o que VC tem direito🌭🍔🍕🍟🥓🍻🍺 \\n#blackburgerbelem @blackburgerbelem\"\\n\"Salmão com mousseline de mandioquinha, uma ótima opção para sua sexta-feira! pede que está com promoção!\"\\n\"Faltam Apenas 3 Dias pro nosso PAGODE PRA SE APAIXONAR, com Vava&Marcio + Nosso Tom + I Love Pagode, ingressos à venda na ELLUS Boulevard.\\nReservas:. 98869-5863 @huggo_mattos\\n#PagodePraSeApaixonar #VillaAurora \\n#Ondeehoje\"\\n\"O que você faz pra ser feliz? 😀\\n\\nPrato 1\\n Arroz integral com milho e salsa\\n Feijoada de feijão azuki\\n Bolinho de macaxeira\\n Couve no vapor\\n Farofa crocante de soja\\n Salada ■ Suco\\n Sobremesa: Tortinha doce de leite com amendoim\\n\\nPrato 2\\n Arroz integral com jambu\\n Maniçoba vegetariana\\n Banana verde chips com gersal\\n Farofa crocante de soja\\n Salada ■ Suco\\n Sobremesa: Tortinha doce de leite com amendoim\\n\\nPrato 3\\n Dhal de lentilha\\n Espaguete com legumes\\n Bolinho de macaxeira\\n Salada ■ Suco\\n Sobremesa: Tortinha doce de leite com amendoim\\n\\n Delivery 🏍\\nWhatsApp (91) 99804-3493*\\nOu pelos fones: 3222-2272 / 3242-1724\\n*Pedidos somente das 8h às 11h da manhã (pedidos após esse horário não serão aceitos)\\n\\nEndereço:\\nTravessa Padre Prudêncio, 166 - entre Manoel Barata e Ó de Almeida - Campina - Belém – PA\\n\\n#vegetariano #comida #vegana #vegano #salada #belem #RestauranteGovinda #restauranteBelem\"\\n\"Hoje tem show da Dois na Janela, às 21h, aqui no Café da casa. Vai logo conferindo o repertório e te prepara pra cantar junto 🍺🤭🍺. \\n\\n> Quarta de Bolso com Dois na Janela no Ziggy Hostel Club <\"\\nNossa maior preocupação é com a sua satisfação.\\n\"Clubinho, Sábado 05 de Maio de 2018\"\\n\"Falaê, seus selvagens à procura de lei! AINDA TEM INGRESSO PRO SHOW DE HOJE. As últimas unidades estão à venda em nosso Sympla (LINK NA BIO) ATÉ 16h DE HOJE. Depois desse horário, as vendas serão somente na bilheteria da casa, a partir de 21h, se sobrar ingresso. BORA TIETAR OS CARAAAAA 🤩\\n\\nVENDAS ANTECIPADAS ATÉ 16h: bit.ly/SelvagensNoZiggy\"\\nDo projeto: banda que amamos #4nosBD\\nVeeeeem!\\nMuita caipirinha na mente\\n\"👉🏻👉🏻👉🏻Deslize👉🏻👉🏻👉🏻\\n_\\nConfira nossa programação da semana MÚSICA AO VIVO NA CALÇADA @domspettooficial programe-se e aproveite nossas promoções. #vemprodom #musicaaovivo #musicanacalçada #ambienteconfortavel #ambienteaconchegante #segurança\"\\n\"#Repost @waldamarques with @get_repost ・・・ @famigliasiciliaoficial novo dengo da casa, delicia, Burrata de Caprese, parabéns @angelasicilia #cozinheira #culinary #iltaliana #cozinhaitaliana\"\\n\"🤩 NÃO PASSE VONTADE VEM PRO TACACÁ DO RENATO!\\n✅De seg a sex das 12:00 às 15:00\\n✅Das 16:00 às 22:00 todos os dias 📍Serzedelo Correa N401 entre Pariquis e Mundurucus\\n⭕️salgados apenas no horário da tarde\"\\n\"Close nessa belezinha que faz parte do nosso @cardapiosushiboulevard e também dos nossos 4 TIPOS DE RODÍZIO! Confere as opções e corre pro Melhor da Cidade! \\nNossas unidades:\\n🎌 Batista Campos - Rua dos Pariquis, 1712\\n🎌 Av. Senador Lemos, 356 \\n🎌 Av. Duque de Caxias, 510\\n\\n🛵📲 Delivery:\\n2121-4463\"\\n\"✨🍔Domingo do Hambúrguer🍔✨\\nChama a galera pro El Patron! Vem provar os hambúrgueres gourmet mais surpreendentes!\\n🍔Todo domingo\\n🍟Às 18h30\\n👉Delivery: (91) 3348-6800!\\n. . . \\n#SundayBurguerElPatron #ElPatron \\n#Hambúrguer #Top #BurgerLovers\"\\n\"Hoje a Quarta-Sábado Indie rola a partir de 21h e traz pro club da casa muito Strokes / Tame Impala / Arctic Monkeys / Interpol / Sonic Youth / Pixies / E MUITO MAIS. Entrada: R$ 10 (Já ganha 2 chopes + pulseira pra festa) - 18h às 21h\\n // R$ 10 a partir de 21h // R$ 15 a partir de 22h\\n\\nQuarta-Sábado Indie no Ziggy Hostel Club\"\\nQuintas das amigas !!! Lotaaaado !!\\n\"HOJE É TERÇA-FEIRA!!!😍🍣\\n⠀\\n👉🏽 4 tipos de rodízio nas nossas 3 unidades!\\n⠀\\n👉🏽 Rodízio de sushi por R$39,90 na unidade pariquis!\\n⠀\\n👉🏽 Rodízio de sushi por R$43,90 nas unidades Senador e Duque!\"\\n\"Essa maravilha é a nossa barca de 45 peças. Ela vem em duas versões: tradicional ou do chef. Além de pedir normalmente no salão, você também pode encomendar com 24h de antecedência: 3355-2275 ou 98249-8434.\\n\\nAh! Não esqueça que amanhã, das 12h às 15h, temos #ExecutivoSRB com sushi ilimitado.\\n#amazônia #sushi #gastronomia #cozinhaasiática #belém #restaurante\\nFoto: @carla.dipietro\"\\n\"Esse 091barboutique é f... mesmo! \\nCheio de tudo para você. \\nChega cedo heim!\\nTe liga no horário.\"\\n\"Domingo é dia de pizza no #StudioPubBelem !! Rodízio de pizza das 19h às 23h por 29,90 🍕\"\\n\"Delicioso e nutritivo, o Filé mignon em crosta de cebolas caramelizadas vai deixar seu domingo mais leve. Os medalhões de filé mignon ainda acompanham farofa de ovo funcional e macaxeira salteada na ghee. Gostou? Funcionamos até às 16h, esperamos por vocês!\"\\n\"Vai essa combinação de Chopp gelado + Henry Ford? \\n\\n#beer #cerveja #ontap #pub #melhorescervejas #beerlovers #beeradict #cerveza #happyhour #cervejagelada #cervejao #cervejartesanal #cervejando #cervejaoliquidosagrado #IronBelem #PubBelem\"\\n\"Aniversariantes do mês de abril ! \\nComemore seu aniversário sábado no Clubinho Sertanejo, envie sua lista, reserve um lugar. Zap: 98104-1931 ! \\n#Curte #Marque2amigas\"\\n\"Hoje é dia de Villa Aurora !!! Farra Boa, com Luann Kassyo, Beto & Naldo e Thiago Costa !!! Palco 360 graus, venha se divertir na melhor casa de shows do Norte do Brasil !! O villa é o villa !!\"\\n\"DOM 25/02 #Luxuoso Biruta Estilizado\\nPromoção Camarote Estilizado\\n1 - Curta Nossa página \\n2 - Marque 5 amigos \\n3 - Curta + Compartilhe o Flyer\\nConcorra:\\n3 - Baldes de Cerveja \\n5 - Ingressos Camarotes\\n5 - Copos \\nLista Vip/Camarotes: 98994-7972 wpp\"\\n\"Aquele momento que você está almoçando e não para de pensar naquele mega almoço maravilhoso das galáxias do universo todo do final de semana!\\n\\nDe sexta a domingo tem ALMOÇO DO MORMAÇO!\\n🍴SEXTA: música de leve pra você relaxar e se preparar pro final de semana.\\n🍴SÁBADO: música ao vivo com sangue bom e talentoso FLAVIANO RAMOS.\\n🍴DOMINGO: a música fica a cargo do maravilhoso BETINHO SOUSA.\\n\\nInf/cardápio pelo WhatsApp:\\n981796272 ↔️ 980437275\\n\\n#VemSexta #Sabado #Domingo #Almoco #Mormaço\"\\n\"Caldinho de abóbora com frango, quentinho e cheio de saúde para o seu jantar 🍲❤🍅\"\\n\"À todos aqueles que estão todos os dias ao nosso lado, construindo com a gente nosso sonho.\\nE à todos nós, os trabalhadores lutadores brasileiros:\\nParabéns pelo Dia do Trabalhador!\\n...\\n#ElPatron #DiaDoTrabalho #Feriado\"\\nSexta-feira linda e radiante. Que tal pedir o risoto que você mais gosta? 😍\\n\"Marca aquele amigo que adora um camarão empanado! No rodízio prime você conta com todas as opções de entradas da casa! Bora de Sushi Boulevard!? 🍤💕\\nNossas unidades:\\n🎌 Batista Campos - Rua dos Pariquis, 1712\\n🎌 Av. Senador Lemos, 356 \\n🎌 Av. Duque de Caxias, 510\\n🛵📲 Delivery:\\n2121-4463\"\\n\"A nossa história, algumas receitas clássicas... confessamos que ainda ficamos bobos e sempre olhamos o livro Cozinha de Origem, disponível na #MerceariaRemanso 📗\"\\n\"Mores, bateu a vontade de uma festinha pop pra aquecer pro fim de semana? Então cola aqui, que hoje tem No Laço da Rabiola pra tu dançar muito funk, pop, brega e muitcho maisss. O nosso happy hour vai até 21h e depois ainda tem promoção de breja! Entrada gratuita até 20h. \\n\\nNo Laço da Rabiola no Ziggy Hostel Club\"\\nIé ié ié\\n\"Happy hour de 18 ás 21 hr, show de comédia e depois muita onda que só o The Way tem. #happyhour #comedyclub #humor #standup\"\\n\"Aproveite o buffet de almoço do Capone.\\nTemos opções muito saborosas para você.\\n \\n#caponeristorante #estaçãodasdocas #belém\"\\nAté o Ronaldinho gaúcho veio conhecer o Mormaço 😄😛\\n\"Vamos de pizza em dobro hoje? 🍕🍕Na compra de uma margherita você ganha outra! \\nCrocante, saudável e fresquinha pra você! ❤\\nPromoção válida apenas para pedidos pelo app Santé Delivery com cupom de desconto!\"\\n\"De segunda à quinta tem Happy Hour de chopp Tijuca no Cité. O mais gelado chopp da cidade por R$ 6,50 das 18h às 21h. Vem aproveitar!! 🍺\\n-\\n#vemprocité #cité #cite2018 #citebelem #restaurantecité #happyhour #chopp #tijuca #instafood #tasty #belem #pará.\"\\nJá se alimentou bem neste início de semana? Que tal aproveitar a nossa terça sem taxa e começar uma vida mais saudável hoje? No nosso delivery não temos intervalo 💛. Faça seu pedido através dos nossos contatos (91) 98910-2505 / (91) 3222-6056. Estamos ansiosos para lhe atender!\\n\"A comida aqui é feita com uma fórmula muito conhecida por todas as mães, o amor. \\nEstaremos abertos no dia das mães, com um cardápio especial para elas. \\nNo dia 13/05 Comemore o dia dela aqui. \\n\\n#RestauranteAvenida #RestauranteAvenidaCuiaba #DiadasMaes2018\"\\nSexta tem música ao vivo aqui no Malino’s e com HAPPY HOUR até 22h. Você não vai querer perder essa hein!!!\\nChegamos ao @metropoleananindeua 🤗🤗🤗\\n\"Rock Unplugged na área! \\nDaqui há pouco, Markinho Duran!!! \\nChega mais ♪🍹🙋 \\n\\nOLD SCHOOL GASTROPUB\\n👉 Funcionamento: de terça à sábado, à partir das 18h\\n\\n👉 Happy Hour, de terça a sábado, das 18 às 21h, com chopp Devassa puro malte a R$3,99\\n\\n📱Central de informações e reservas: 99811-4389\\n🌎 Av Brás de Aguiar 304 (entre Benjamin Constant e Dr. Morares)\"\\n\"Quinta, 20:30h tem o lançamento do EP País da Propina do cantor Sanddro no @StudioPubBelem ! Vale conferir e apoiar os músicos paraenses!\"\\n\"Hoje é dia de Black Tuesday!! 😎🤘🏻\\nJá sabe como funciona? Na compra de qlqr Burger, vc ganha o Combo Big Black(batata ou onion+refri)🍟🍔\\nTemos a melhor estrutura para lhe atender...estacionamento privativo, segurança e fácil acesso 🚘🚲🛵\\n📍Av. Gentil esquina com Alcindo Cacela (anexo ao posto redentor) @ Black Burger\"\\n\"Quando foi a última vez que você comeu maniçoba?\\n\\nPrato 1\\nDhal de ervilhas com legumes\\nLasanha 3 queijos com molho vermelho e molho de espinafre\\nBanana verde chips com gersal\\nSalada ■ Suco\\nSobremesa: Torta cream chease com calda de ameixa fresca\\n\\nPrato 2\\nArroz integral com jambu\\nManiçoba vegetariana\\nBanana verde chips com gersal\\nFarofinha crocante de soja\\nSalada ■ Suco\\nSobremesa: Torta cream chease com calda de ameixa fresca\\n\\nPrato 3\\nArroz integral com jambu\\nBobó vegetariano\\nCoxinha de ricota e tomate seco\\nFarofa de milho com feijão da colônia\\nSalada ■ Suco\\nSobremesa: Torta cream chease com calda de ameixa fresca\\nDelivery 🏍\\nWhatsApp (91) 99804-3493*\\nOu pelos fones: 3222-2272 / 3242-1724\\n*Pedidos somente das 8h às 11h da manhã (pedidos após esse horário não serão aceitos)\\n\\nEndereço:\\nTravessa Padre Prudêncio, 166 - entre Manoel Barata e Ó de Almeida - Campina - Belém – PA\\n\\n#vegetariano #comida #vegana #vegano #salada #belem #RestauranteGovinda #restauranteBelem\"\\nÉ muito mignon nesse sanduíche!!! Bem recheado e com pão integral para matar sua fome e deixar sua consciência levinha!\\n\"Dizem que comer salmão três vezes por semana melhora o seu humor. Nós te damos uma ajudinha com o incrível Salmão com risoto, queijo do marajó e pesto de jambu.\\nFoto: Claudia Di Giorgio\\n#amazônia #sushi #gastronomia #cozinhaasiática #salmão #peixe\"\\n\"INAUGURAÇÃO DA UNIDADE SHOPPING METRÓPOLE\\n\\nPara você que não deu para vir na inauguração da Hells Bar n Burgers, no Shopping Metrópole Ananindeua um pouco como foi🤗🤗🤗\\nA gente se encontra no 2piso, na frente das lojas americanas🐻\\nHorário de segunda a domingo a partir das 12hs\"\\n\"Vai um burger de costela bovina para devorar e saciar a fome? Vem que o nosso H.G. Wells está te aguardando. Estamos abertos à partir das 18h.\\n\\n#beer #cerveja #pub #melhorescervejas #beerlovers #beeradict #cerveza #happyhour #cervejagelada #cervejao #cervejartesanal #cervejando #cervejaoliquidosagrado #IronBelem #PubBelem\"\\nSua noite de sábado pode ser muito bem acompanhada ❤️🍕🍺\\n\"Ops, I did it again, e a festa TEENEGE 90 voltou!\\nLiga pra todas as suas amigas de Beverly Hills e avisa que a festa vai ser só pra aqueles que viajaram na nave da Xuxa, viu as quatros estações passarem com a Sandy e Júnior e pra quem achou que Rose foi egoísta por não ter salvado o Jack em Titanic. \\nE você novinho, também pode vir e curtir o que é festa de verdade!\\nTEENAGE 90, o melhor dos anos 90 vai ser aqui no STUDIO PUB, e você não pode perder!\\n\\nE te prepara para tudo que vai rolar nesta edição: \\n\\n🎸Banda Teenage tocando ao vivo as músicas das bandas dos posters que enfeitavam as paredes do seu quarto naquela época: Estamos falando de BACKSTREETBOYS, NSYNC, SPICE GIRLS, BRITNEY, HANSON e muito mais \\n\\n🎤Karaokê à partir das 21h no palco do Studio Pub para você e seus amigos cantarem AS LONG AS YOU LOVE ME ... e muitos outros sucessos e mostrar o seu talento! PS: Sabemos que você não vai precisar nem olhar o monitor para ler a letra... você sabe a letra de cabo a rabo que eu seu! \\n\\n🎧E Fazendo o After tem o Dj Junior Soares discotecando os clips que eram febre na MTV dos anos 90! \\n\\nOs Ingressos antecipados saem por R$15,00 na bilheteria do Studio Pub ou online no Sympla! E se liga na PROMO: Se você nasceu nos anos 80/90, basta apresentar seu RG que você paga o valor de antecipado a noite toda!! 😱😍\\n\\nSe liga na programação da Sexta, 08 de Junho! \\n21:00h - Karaokê \\n00:00h - Banda Teenage ao Vivo \\n02:30h - Dj Junior Soares \\n\\nEvento para maiores de 18 anos.\"\\n\"A nossa famosa parede de folhas! Quem nunca fez uma foto aqui? Hoje funcionaremos no jantar, a partir das 18h. #VemProSRB\\n\\nFoto: @selenastilianidi\\n\\n#belém #pará #sushilovers #culinária #amazônia #sushi #gastronomia #cozinhaasiática\"\\n\"❤ Faça logo sua reserva para o Dia dos Namorados #ElPatron ❤\\nO amor vai estar no ar, e nós queremos fazer parte da história de amor de vocês dois. Venha comemorar junto conosco o dia mais apaixonante do ano! 😍\\n🗓 Data: 12/06 (Terça-feira)\\n⏰ Horários: 1º 19:30 / 2º 21:40\\n💲 Pacote 1: R$ 280,00 (Entrada + Prato Principal + Sobremesa para o casal)\\n💲 Pacote 2: R$ 330,00 (Entrada + Prato Principal + Sobremesa + garrafa de Chandom para o casal)\\n☎ Reservas: (91) 98402-2006\"\\n#ficadica\\nAinda não almoçou? Aproveite as delícias do @domspettooficial 😋\\n\"Guiozas de carne com jambú, molho de tucupi, melaço e shoyu... chega mais de pertinho pra conferir. 😏\"\\n\"É sexta!!\\n\\nVenha saborear o nosso menu à la carte que está delicioso.\\n\\n#caponeristorante #estaçãodasdocas #belém\"\\n\"Já garantiu seu ingresso?? Dia 19 de Maio o Coliseu Do Rock te chama 🤘 \\n\\n#StudioPubRockFestival UK x US EDITION ! O maior festival tributo do Norte e Nordeste do Brasil !\"\\n\"Esta delícia já vem com todo o sabor de infância. Um bolo feito com massa macia, consistente e sem recheio. Vai bem com um cafezinho ou chá, no final da tarde ou em qualquer hora do dia experimente o Bolo Simples da Eti Mariqueti e transforme seus momentos.\"\\n\"Junta o squad, que o hoje a Ziggyridum de carnaval com Lauvaite Penoso vai botar todo mundo pra suar na pista ao som de um bocado de música doida de carnaval, minha gente. Só vamo. Entrada: R$ 15 a partir de 22h // R$ 20 a partir de 23h\"\\n\"Afim de comemorar seu aniversário aos domingos aqui no Armazém? Só chamar a gente no whatsapp e mandar sua lista.\\nO numero para contato está na imagem. 😉\"\\nAbertos a partir das 18 horas. Toda segunda a gente faz precinho de happy hour á noite toda.\\n\"Sabe o que deixa sua quarta-feira melhor ainda? O Open Bar Night do Studio Pub! Cerveja à vontade das 18h às 23:30h, por apenas R$33,90!\"\\n\"Com uma mistura de diferentes cores e texturas, o nosso clássico filhote Ruy Barbosa em crosta de Castanha do Pará com risoto de jambu e queijo coalho veio pra te conquistar. Não vai ficar só na vontade, né?\\n\\n#belém #pará #sushilovers #culinária #amazônia #sushi #gastronomia #cozinhaasiática\"\\n\"Qualidade e sofisticação de um jeito que você nunca viu. O novo SRB chega em breve!\\n\\n#belém #pará #sushilovers #culinária #amazônia #sushi #gastronomia\"\\n\"Enquanto o almoço não chega, que tal saborear um petisco delicioso? Essa gostosura é feita com farinhas funcionais e produtos fresquinhos para seu consumo. Gostou? Vem experimentar!\"\\n\"Qual?\\n❤️\"\\n\"Ficamos sempre felizes com o retorno positivo de vocês. São 8 anos de tradição e dedicação na nossa cozinha e no atendimento. Avaliações assim enchem nossos corações de orgulho e nos fazem acreditar que estamos no caminho certo! \\n\\n#belém #pará #sushilovers #culinária #amazônia #sushi #gastronomia #cozinhaasiática\"\\nÉ HOJE!!! Reza a lenda que quem não vier vai passar 20 anos sóbrio! Que a sorte do Irlandês e os potes de ouro estejam com vocês! Portões abertos ás 18h!\\n\"Sábado tem SUPLA ao vivo em Belém fazendo o lançamento do seu novo Álbum! Show exclusivo! Garanta seu ingresso e não fique de fora!! Vendas no SYMPLA.com.br e na bilheteria do Studio Pub \\n\\n#Supla #SuplaemBelem #StudioPubBelem\"\\nDomingo? Domingo é dia de RODÍZIO DE PIZZA 🍕 no @studiopubbelem !!!\\n#vemBD\\n\"Vem aí a quinta edição da festa MEU ❤️ É BREGA com as bandas AR-15, Nelsinho Rodrigues & Fruto sensual. Sexta 02 março. Ingressos à venda por valor promocional de 10 & 15 reais a partir da próxima segunda na Locus do Pátio Belém. Vai ser explosão total mais uma vez 💥💥\"\\nTerças a noite a gente tem o que? Jazz! Com ou sem greve. Somos movidos a música e cerveja. #vemBD\\n\"Aqui no Remanso do Bosque, trabalhamos com jardinagem também. O nosso mousse de chocolate do Combu não nos deixa mentir. 😌\\n\\nFoto: Marcelo Yokoyama\"\\nQUE TIRO FOI ESSE ? Ruth Diva do Mormaço prova que chegará aos 50 anos nesta sexta toda gatinha & com sede de barrar os cheirosos sem RG. Sexta tem Baile das Novinhas edição 50 tons de Ruth 💥💥💥💥💥\\n\"Você sabia que um canudinho de plástico demora 1 minuto para ser fabricado, mas, 100 anos para se decompor na natureza? Durante esses 100 anos, um simples descartável, pode prejudicar várias espécies marinhas. Peça a sua bebida sem canudinho, e ajude a retirar este mal dos oceanos. O Grão apoia essa idéia! 💚\"\\n\"Especialmente nesta semana, a nossa festinha Pop se mudou pra quarta-feira, véspera de feriado. Vai rolar happy hour, promoção de caipirinha e muita rebolação de raba até altas horas da matina. Entrada: FREE até 20h // R$ 10 após\\n\\n> Quarta No Laço da Rabiola - Especial bagaceira (rsrsrs)\"\\nBotequim lotado no primeiro oficial samba com cerveja a 1 real\\nMarca aqui os seus amigos que vão encher uma mesa assim com você no Remanso do Peixe. 👭👫👬\\n\"Preparados para mais uma noite memorável? \\nSAVE THE DATE! Pois a próxima edição do Studio Pub Rock Festival já tem Data e Local confirmados! \\n\\nSTUDIO PUB ROCK FESTIVAL UK X US EDITION 2018 ! \\n\\n🗓19/05 - Abertura 17:00h\\n📍Insano Marina Club \\n\\nFique ligado nas nossas redes sociais pois vamos divulgar tudo que vai rolar ao longo desta semana! \\n\\n#StudioPubRockFestival #UKxUS #Maio #2018 #studiopubbelem #studiopub\"\\n\"FAROFADA... e a nova vibe de Belém com festa estilo \"\"Brazuca\"\" irada, com gente bonita e descolada, tocando Surf-music, Samba-Rock, Pagode 90, reguaezinho, Axé, Lambada, Guitarrada, Carimbó, Flashbrega... e quem estiver afim de curtir um pôr-do-sol tem entrada free até 16 horas... Bora??? No Comando\\n#RENATO ROSAS & FAROFA\\n# GIGI FURTADO\\n# JEFF MORAES\\n# GUTO RISUENHO\\n# BUDA\\n# DONNA LADY\\n# REGINA RAMOS\\n# DJ BLUE > VEMTIMBORA que é SÁBADO, 17/02;\\n>> Onde? No Palafita.\\n>>> Mas onde é isso? \\nRua Siqueira Mendes;\\nLargo da Sé - Cidade-Velha.\\nSiga @palafitabelem\"\\nESTAMOS FUNCIONANDO NORMALMENTE NESTE CARNAVAL DAS 16H ÀS 22H!\\n\"Essa semana será especial para o Heisenberg. Primeiramente, pelo fato do pub completar 1 ano e por outro que é a semana internacional da mulher. 😍 \\n\\nPensando nisso, uma das ações será que toda mulher nesta semana ganhará um welcome drink quando chegar por aqui. 😎\\n* Promoção válida para todos os dias, exceto no sábado.\\n\\nFiquem ligados no Insta e Face para saber de mais promoções.\\n#heisenbergpub #bday\"\\n\"Estamos abertos hoje, terça, das 18 :00 às 1:00. Happy hour até as 21:00 e Jazz ao vivo a partir das 22:00. Tá esperando o que pra #virBD?\"\\n\"Para começar a semana a pedida é o cocktail Summertime que tem na sua mistura tem gin,morango,tomate e alecrim, um bebida super leve e garantia de refrescância. 😋🍹 #VegasClub #CocktailVegas #OMelhor\"\\n\"CACEEETEEE 💥💥💥\\n#faltam11dias PRA MAIOR RODA DE SAMBA DO BRASIL 🇧🇷 \\n\\n30 de maio vai ser histórico, o Botequim recebe PELA PRIMEIRA VEZ O MELHOR GRUPO DE SAMBA DA ATUALIDADE @vouproserenooficial e mais 13 atrações locais!! Ingressos nas lojas Lupa Lupa(Boulevard e Pátio Belém). \\n\\n#nadaprafazer\\n#churrasconabrasa \\n#explodiuuuuu💥\\n@freedomentretenimento\"\\nHoje é dia de matar a saudade dos Mamonas Assassinas no #StudioPubBelem\\n\"Super desconto aqui na TPS pra levar pra casa: todos os cortes de Bufalo com 40% de desconto.\\n#thepremiumsteaks #cortesdebufalo #promocao #meatshop #bbqlovers #bestintown #steak #belem\"\\n\"Dia 23 é dia da nossa dupla clássica! O Studio Pub apresenta duas das bandas mais reconhecidas do mundo para compor nosso line e deixar sua Sexta-feira melhor ainda: Se prepare para cantar junto com Red Hot Chili Peppers e Coldplay Cover, a dupla que sempre promete casa cheia e um som impactante! Te esperamos aqui, viu?\\n.\\nIngressos:\\nAntecipados: R$15\\n.\\nOnde comprar:\\nStudio Pub - Tv. Presidente Pernambuco, 277.\\nDe terça à sexta, a partir das 18h.\\nOnline: https://www.sympla.com.br/coldplay-e-red-hot__258150\\n.\\nEntrada exclusiva para maiores de 18 anos, sendo obrigatório apresentação de documento oficial e com foto.\\n.\\nOBS.: Não aceitaremos mais identidades com foto de criança ou manchadas por conta da dificuldade de identificação.\\n.\\nMais informações:\\nTel: 3252-1413 / 91 99161-3677\\nInstagram: @studiopubbelem | Facebook: studiopubbelem\"\\nJá experimentou a nossa batata recheada? Bem diferente para quem quer um jantar especial nessa sexta. Prove!\\n\"FALTA POUCO!\\nSe liga nos valores de ingressos hoje NA HORA DA FESTA para a estreia da temporada 2018 do Meu ❤️ é brega:\\nCom nomes na lista: 10 ( até as 22h )\\nCom nomes na lista: 20 ( até as 23h )\\nBilheteria: 30 ( podendo aumentar após a 1h )\\nCamarotes: esgotados \\nTodos os ingressos promocionais: esgotados\\n\\nInformações pelo Whatsapp: 981796272\"\\nVem curtir com a gente o melhor domingo da cidade.\\nHoje tem U2 Cover na casa! @u2bel4u Vão mandar todos os clássicos. Chega cedo que tem Happy hour até 22 hr. #thewaypub #vemquetem\\nTe programa logo pra vir!\\nColoque em sua Páscoa um sabor tradicional: Ovo com Paçoca da Eti Mariqueti. Mais uma delícia preparada com receita caseira e feita para tornar a sua Páscoa ainda melhor. Aproveite e faça sua encomenda: (91) 3222-3956 e WhatsApp (91) 99113-0665 🐰🐰🐰\\nA semana vai começando bem leve que tal jantar saudável e gostoso no pós treino? 💪🏋⛹🚴🏊\\nREGRAM @thiagocastanho Chegou!⚡️🍻🍺 manga + cana #remansomango #sessionipa @remansodopeixe @remansodobosque\\n\"Todos o comentários foram muito bons e a decisão não foi fácil! \\n\\nAgradecemos mais uma vez o carinho de cada um que votou no SRB e ajudou a trazer esse prêmio pra casa. Parabéns pela criatividade, @marinatocantins! E quem não foi contemplado, não desanima. Faremos novos concursos em breve!\\n\\n#belém #pará #sushilovers #culinária #amazônia #sushi #gastronomia #cozinhaasiática\"\\nPede uma margherita e ganha a outra: essa é a nossa promoção SENSACIONAL de quarta-feira. Basta você pedir pelo nosso app Santé Delivery na aba Combo Saúde 🍕🏍📱🍅❤\\nÉ o que tenho dito! 😉\\nLucas Imbiriba hoje com o melhor do rock e da música celta! Esses caras são MUITO FODAS! #vemBD\\n\"Sextou, sextou só chego de manhã\\n🎉BAILE DAS NOVINHAS de Carnaval🎉\\n👉Com o nome da lista ninguém paga entrada até as 23h.\\n♨Banda:\\n✔MC Dourado ( boquinha do animal )\\n✔MC Loren Love\\n✔Mizerê\\n🔉DJ Dhodhu Roots\\n🚫Promoções de bebidas no flyer.\\nVai estar um arraso!\\n\\n#VemSexta #Mormaço #BaileDasNovinhas #Festa #BelemDoPara #VaiSerDemais\"\\n\"O Projeto Dakkapo vai mandar um som DAQUELES! 🤘 \\nPortas abertas às 18h.\\n\\n#beer #cerveja #ontap #pub #melhorescervejas #beerlovers #beeradict #cerveza #happyhour #cervejagelada #cervejao #cervejartesanal #cervejando #cervejaoliquidosagrado #IronBelem #PubBelem\"\\n\"A Roquerági dessa semana vai trazer a Dois na Janela e a Gael Conhece o Mar pro palco da casa. Vai ser uma noite de muito rock autoral belenense, acompanhado por muita breja gelada e comidinhas TOP’s. Ah, às 21h, ainda tem pocket da Semente de Maçã!\"\\n\"Nesta sexta tem Intimistas no Pagode da Diretoria.\\nAssista o video e sinta o clima. #intimistas #pdd #deixaalagar #tomorrendodeamor #partiu\"\\nO seu fim de semana só é completo com a deliciosa combinação de Peixe + Açaí + Point do Açaí. Aguardamos você pro seu dia ficar completo! 😎🤭\\n\"Funcionaremos normalmente neste feriado! E somente nesta terça, abriremos no almoço e jantar. Vem aproveitar o seu feriado com o melhor da culinária japonesa! #VemProSRB\\n\\n#belém #pará #sushilovers #culinária #amazônia #sushi #gastronomia #cozinhaasiática\"\\n\"É SÁBADO AQUI NO #MelhorDeBelém!\\n⠀\\n👉🏽 4 tipos de rodízio nas nossas 3 unidades!\\n⠀\\n👉🏽 Sushis//temakis do cardápio de rodízio por 16,90//17,90 na unidade Pariquis!\\n⠀\\n👉🏽 Rodízio de sushi por R$39,90 na unidade pariquis! 👉🏽 Aproveite o melhor sushi no conforto da sua casa. Liga pra gente! 2121-4463\"\\n\"Um mês cheio de amor chegou! Seja bem-vindo, maio! 😍❤\\n #doceriaamorosa #mesdasmaes #tudofeitocomamor\"\\nChegamos ao Shopping Metrópole Ananindeua🐻🐻\\n\"A @rayanacorrea escolheu o Iron para comemorar seu aniversário. Faça o mesmo, vem comemorar seu dia com muito chopp gelado, comida boa e gente bonita!\"\\n\"O dia pode até estar nublado, mas nada nos impede de fazer o melhor almoço na cidade.\"\\nQuem vc vai convidar pra ir na Hells Bar N Burgers hoje🙄🙄🙄\\n\"Caldinho, quentinho e com ingredientes mais leves. Cai muito bem nesse tempo que a chuvinha adora aparecer🌧🍅! Peça agora!\"\\n\"Na Doceria Amorosa você personaliza seu bolo do jeitinho que preferir! \\nEncomende o seu! 😍❤\\n📞Gentil: (91) 3249-6670 / 3229-0107\\n📞Boaventura: (91) 3347 - 4573 \\n📲Whatsapp: (91) 98405-3362\"\\n\"Bora comer hambúrguer hoje😁😁\\nEntão venha para Hells Bar N Burgers😀😀\"\\n\"O Festival Ver-o-Peso da Cozinha Paraense está chegando e mais uma vez estamos com eles!! Em sua 15ª edição, o Festival acontecerá de 25/05 a 03/06 no Shopping Boulevard. O Chef do Santé, Rafael Menezes, integra a programação com um prato super especial! Saiba mais em :http://bit.ly/2JfJ8UJ\\n#vop2018 #veropesodacozinha #paraobraprimadaamazonia #belemcidadecriativadagastronomia #gastronomiaparaense\"\\nLISTA FREE sexta 22 no Mormaço. Festa normal a note. Basta colocar os nomes nos comentários abaixo & entrar de graça até as 23h. Lista aniversariantes até as 23:30 💥🇧🇷\\n\"Parabéns @maraminea88 você é a ganhadora da nossa PROMOÇÃO KIT SERENO, entre em contato via direct. #dia30demaio tem a maior roda de samba do Brasil 🇧🇷 @vouproserenooficial\"\\n\"Aquele peixinho cru que a gente ama! ♥\\nFoto: Claudia Di Giorgio\\n#amazônia #sushi #gastronomia #cozinhaasiática\"\\nDeu fome? Que tal vir provar nossos pratos? 😉\\n\"Sorte do dia: hoje abrimos a partir das 18h. Vai perder essa experiência? Convide alguém para vir com você, vamos adorar receber vocês aqui!\\n📸@lauraqfernandes_\\n#belém #pará #sushilovers #culinária #amazônia #sushi #gastronomia #cozinhaasiática\"\\n\"SUPLA EM BELÉM! \\n\\nCorra para garantir seu ingresso e não ficar de fora!! São apenas 200 ingressos à venda para você vir curtir uma noite com um do mais Icônicos nomes do Rock Brasileiro! \\n\\nPrimeiro lote 25,00 à venda no Sympla e na bilhete do Studio Pub! \\n\\nCome on, Kids!\\n\\nSeparamos o Sábado do dia 26 de Maio para que todos possam curtir um show exclusivo do ícone do Rock brasileiro SUPLA! É isso mesmo, o Supla vai estar aqui no Studio Pub com o lançamento do seu novo álbum “Illegal” para enlouquecer todos os seus fãs belenenses! Não perde esse showzaço e garante teu ingresso antecipado que a gente te espera aqui.\\n\\nLineup:\\n22h – DJ Júnior Soares\\n00h – Supla\\n\\nIngressos:\\n1º Lote: R$25 \\n\\nOnde comprar:\\nStudio Pub - Tv. Presidente Pernambuco, 277.\\nDe terça à sexta, a partir das 18h.\\n\\nEntrada exclusiva para maiores de 18 anos, sendo obrigatório apresentação de documento oficial e com foto.\\nOBS.: Não aceitaremos mais identidades com foto de criança ou manchadas por conta da dificuldade de identificação.\\n\\nMais informações:\\nTel: 3252-1413 / 91 99161-3677\\nInstagram: @studiopubbelem | Facebook: studiopubbelem\"\\n\"Além de refeições, o Grão oferece uma variedade de lanches com sanduíches do tamanho da sua fome, e todos eles acompanham chips de batata doce, que delícia! Corre pra cá ou peça o seu através do Ifood, pelo App do Grão ou por meio de nossos telefones na bio!\"\\n\"Hoje tem Festa de lançamento do filme Para ter Onde ir, de Jorane Castro com MUITO BREGA E MÚSICAS REGIONAIS. Vem que é a oportunidade ideal pra tu te acabaar de tanto dançar. Entrada gratuita até 20h / R$15 após\"\\n\"O Festival Fartura Brasil acontece em Belém neste final de semana e claro que nós vamos fazer bonito com a Cachaça de Jambu Meu Garoto <3 \\n\\nBora? \\n\\nSaiba mais: https://www.facebook.com/events/129484504513543/\"\\nVenha almoçar no melhor buffet a quilo da cidade !!Estacionamento grátis e coberto !! Cervejaria Oficial Umarizal !\\n\"*HELLS BAR N BURGERS APRESENTA*\\n“Back To The 80s”\\nOs inesquecíveis anos 80 estão de volta na *HELLS BAR N BURGERS* do Shopping Metrópole Ananindeua, é Isso mesmo! Sábado dia 23 de junho teremos uma super festa com pista de dança, iluminação especial, globo espelhado, laser e muito mais com inicio as 21:00hs! O som fica a cargo do DJ Fábio Miranda do Projeto SÓ80 tocando no vinil os hits que marcaram a década do neon.\\nOs melhores burgers, coquetéis, petiscos e o chopp mais gelado da cidade regados ao som dos anos 80. Venha curtir e dançar nessa noite divertida e inédita no Shopping Metrópole Ananindeua . Traga a família, os amigos que a diversão é garantida!\\nSorteio de brindes para as melhores duplas caracterizada da noite.\\nAs primeiras 30 pessoas que estiverem caracterizada vão ganhar brindes. Tire do armário aquela roupa dos anos 80 cheia de naftalina e vem pra *HELLS BAR N BURGERS*\"\\n\"Mais uma novidade @domspettooficial baixe nosso app e fique por dentro do nosso cardápio, programações e etc. 😍 #app #appdomspetto #sempreconectados\"\\n\"Sua semana está super corrida? Dê um break na rotina e venha relaxar experimentando nosso rodízio. O menu inclui entradas, rolls, sashimis, gukans e sushi à vontade por R$69. A partir das 12h, toda quarta e quinta. \\n📸@lore_vivaleve\\n#belém #pará # #sushilovers #culinária #amazônia #sushi #gastronomia #cozinhaasiática #rodízio #salmão #peixe\"\\n\"Pensando em reunir os amigos e botar o papo em dia acompanhado do melhor petisco de filé ao molho gorgonzola e happy hour de tijuca super gelado? Então vem passar esta noite de quinta no Cité. Já estamos te esperando!\\n-\\n☎ Delivery Cité de Seg. a Sáb. de 18:00 às 23:30 e aos Domingos de 11:30 às 15:00 e de 18:00 às 23:00h através de nosso aplicativo; ou pelo site citebelem.com.br ou através do número 3349-5777! \\n-\\n#vemprocité #cité #cite2018 #citebelem #restaurantecité #petisco #happyhour #instafood #tasty #belem #pará. @ Cité Gastronomia e Boemia\"\\n\"Amanhã, mais uma transmissão ao vivo do Superbowl: Eagles x Patriots! À partir das 18H30 no Studio Pub. #Superbowl #EaglesXPatriots\"\\n\"Temos uma notícia boa para você😲😲\\nNão pode comer carne,então apresentamos nosso hambúrguer de soja😍\\nRealmente é uma explosão de sabor,então na sua próxima visita não esquece de pedir🤗🎶\"\\n\"E essa delícia? É fechar o sábado com chave de ouro!\\n.\\nVocê tem que experimentar nossa banana flambada, que acompanha um maravilhoso queijo coalho e sorvete de creme.\"\\n\"No almoço, o buffet do Capone vai te surpreender com seus pratos deliciosos.\\nNo jantar, a cozinha italiana toma conta do restaurante, com pizzas e pratos à la carte que você vai adorar.\\n\\n#caponeristorante #estaçãodasdocas #belém\"\\n\"Com mais de 8 anos de tradição, queremos continuar surpreendendo Belém! Uma das novidades do menu são os Escargots la creme com fettucine. De dar água na boca!\\n#belém #pará #sushilovers #culinária #amazônia #sushi #gastronomia #cozinhaasiática #escargots\"\\n\"Vamos brindar à vida, pq hj é Sexta!! 😎 Let\\'s Burger 🍔\\n@blackburgerbelem #blackburgerbelem\\nEstacionamento privativo, segurança e conforto 🚘\\n📍 Av. Gentil com Alcindo Cacela, anexo ao Posto Shell Redentor \\n @ Black Burger\"\\n\"Você já sabe, né?\\n🍻 HOJE E AMANHÃ É DIA DE HAPPY HOUR EL PATRON🍻\\nChopp Devassa em dobro toda terça e quarta!!!\\nAproveite nosso cardápio de entradas com preços super especiais.\\nChama a galera e vem curtir!\\n👉Das 18h30 às 21h#\\n...\\n#HappyHourElPatron #ElPatron #ChoppEmDobro\"\\nBoa tarde com aquele gostinho que a gente ama. 😍❤️❣️ #amocairu #cairu #amelhordobrasil #sorvetescairu #sorvete\\n\"Seu sábado é no El Patron! Vem saborear nossa feijoada #top e curtir a atração musical Cacau Sinimbú. Chama a família, os amigos e vem curtir com a gente!🍻✨\\n⏰ Das 12h às 16h. \\n📍Rua Antonio Barreto, 127.\\n#FeijoadaElPatron #Sábado #Almoço\"\\n\"Ziggy\\'s lost control agaaain 👽. Gente, essa quinta-feira tem Roquerági Especial Joy Division com DançA NO EscurO com direito a show de banda pós punk + discotecagens. Entrada free até 20h!\"\\n\"Noite de sábado para saborear um suculento filé com bacon, requeijão e mozzarella, acompanhado do arroz do cheff e muitas batatas chips. Este é o nosso prato Ibiza. Vem jantar com a gente, já estamos te esperando!\\n-\\n☎ Delivery Cité de Seg. a Sáb. de 18:00 às 23:30 e aos Domingos de 11:30 às 15:00 e de 18:00 às 23:00h através de nosso aplicativo; ou pelo site citebelem.com.br ou através do número 3349-5777! -\\n-\\n#vemprocité #cité #cite2018 #citebelem #restaurantecité #2018 #gastronomia #instafood #tasty #belem #pará.\"\\n\"Vamo de batatinha com cheddar e bacon agora!\\nPorque sexta Pode!\"\\n\"Clubinho, Sábado 19 de Maio de 2018\"\\n\"SEXTA TEM OFICIAL SAMBA NO BOTEQUIM COM FERNANDO JACARÉ, BILÃO DA CANÇÃO E TRAMA DO SAMBA.chop 1 real,cerveja 600ml 5 real\"\\n\"Estão ESGOTADOS os camarotes avulsos & fechados para a festa MEU ❤️ É BREGA desta sexta, véspera do feriado, no Mormaço 💥 Garanta logo o seu ingresso pista mais barato na Locus do Pátio Belém 👊\"\\n\"Quinta-feira especial hoje no Cité! Que tal um sempre na moda filé à parmegiana acompanhado do especial fettuccine ao sugo? Vem jantar com a gente, já estamos te esperando.\\n-\\nDelivery através de nosso aplicativo; ou pelo site citebelem.com.br ou através do número 3349-5777! -\\n-\\n#vemprocité #cité #citebelem #restaurantecité #quinta #pratomilao #gastronomia #gastronomia #instafood #tasty #belem #pará.\"\\n\"Sundae Brigadeiro de colher , maravilhoso , uma das nossas taças mais pedidas ! ❤️😱\"\\n\"🥂 “Aqui começa o nosso felizes para sempre...” 💍 É uma honra participar do início da realização de tantos sonhos! 🌹 ⠀\\n⠀ ✨ Esse espaço é o “aquário”, o cantinho mais charmoso do mezanino do @restaurantecasamia. Ideal para mini eventos com até 15 convidados! 💐 ⠀\\n⠀ 📸 @sidleite 🎈 @balao_magico_belem 🍰 @telmaconsolacaobolos 🍬 @quitandinha_ 🍥 @cristinapingarilho ⠀\\n⠀ 🍾 Conheça os pacotes de eventos do @restaurantecasamia com ESPAÇO + BUFFET + DECORAÇÃO por @mia.decor ✨ WhatsApp (91)991599728 📲\"\\n\"Acompanha o vídeo com a gente: nibs de cacau, crumble de chocolate do Combú e doce de cupuçu. Esse é o nosso mousse, A Jardinagem. 😏\\n\\nVídeo: Carlos Fernandes\"\\n#vemBD\\n\"Rockzinho de toda sexta, hoje tem!\\n\\n#beer #cerveja #ontap #pub #melhorescervejas #beerlovers #beeradict #cerveza #happyhour #cervejagelada #cervejao #cervejartesanal #cervejando #cervejaoliquidosagrado #IronBelem #PubBelem\"\\n\"Temos sobremesas refrescantes com sorvete, já experimentou o Sônia Braga Frozen?\\nBananas caramelizadas com açúcar e canela, mais duas bolas de sorvete de creme.\\nVeja mais opções em roxybar.com.br\\n\\nRESERVAS - Roxy Bosque Grão-Pará\\nSegunda a quinta, menos nos feriados.\\nHorário para realização das reservas: segunda a sexta das 10h às 12h e das 14h às 18h.\\nMais informações e reservas ☎ 3349-9197/ 99375-9484\\n\\nDELIVERY - Roxy Bosque Grão-Pará\\nSexta, sábado, domingo e segunda: 12h às 15h.\\nTodos os dias: 19h às 23h.\\nLigue ☎ (91) 3349-9197 / 3199-3211 / 99185-7405 / 98733-2426 / 99375-9484\\n\\nDELIVERY - Roxy Senador Lemos\\nTodos os dias: 19:15 às 23:30.\\nLigue ☎ (91) 3352-6457 / 3224-4897 / 3224-4514 \\n\\n#bosquegraopara #roxybarbelém #belem\"\\n\"Todo domingo quem faz o clima ficar perfeito aqui no FICA DOMINGO <3\\nÉ o grupo VIBE POSITIVA, que VIBEEEEEE! \\nTodo domingo a partir das 18h até 1h da manhã!\\n#Curte #Marque2amigas\"\\n\"Galera, o show da Selvagens à Procura de Lei vai rolar na sexta-feira, aqui no Ziggy. No sábado, os rapazes da banda retornam pro club, mas atacando de DJ\\'s pra fazer a tua pista indie dos sonhos. Quem participar do show na sexta tem 50% de desconto na entrada do sábado ATÉ 23h. Entrada: R$ 20 a partir de 22h // R$ 25 o resto da noite (17/03). \\n\\nZiggy apresenta: Selvagens à Procura de Lei - DJ SET\"\\n\"Para matar aquela vontade de comer um salgado sem culpa neste fim de tarde, você pode escolher qual delícia levar pra casa na nossa estufa de salgados! Para manter os seus salgados favoritos bem quentinhos e macios enquanto você deixa o carro no nosso estacionamento na Av. Senador Lemos, 730. A primeira hora é grátis! 💛\"\\n\"É HOJE a primeira segunda do mês de maio, OU SEJA, #ChedDay aqui no Spot! O Ched Melt vai sair a R$10! Marca todo mundo e vem fechar com a gente. 🍔🧀💸 #BurgerSpotBelém\\n⠀\\n*Válido somente na loja// não válido para o Delivery.\"\\n\"Programação especial!!!\\nO Restaurante Govinda convida todos(as) para ciclo de palestras com Kaunteya Das. \\nKaunteya é um líder espiritual Hare Krishna . De origem italiana, natural de Roma, é PHD em psicologia e atua como professor de Psicologia Indovédica e filosofia no Bhakti-yoga College (Flórida, USA).\"\\n\"#TBT de um grande momento que fizemos parte: o casamento de Ive e Claudinho, realizado no Espaço Remanso, o nosso ambiente especial para eventos. Obrigado por nos escolherem para esse dia memorável. 💐✨\\n\\nPara mais informações sobre reservas de eventos: \\n(91) 3352-5335 ou contato@restauranteremanso.com.br\\n\\nFotos: Karina Santiago Cerimonial\"\\n\"Hoje é dia do amigo! Se liga nessa promoção:\\n.\\nJá pensou em ganhar Open Bar de cerveja do Studio Pub para você e seu amigo? A gente vai te dar essa chance!\\n.\\nPra participar é fácil:\\n1. Curte nossa pagina\\n2. Curte essa publicação\\n3. Marca esse amigo nos comentários\\nDepois disso é só esperar o resultado que sai hoje às 18h.\\n.\\nBoa sorte! 🍀\\nPrêmio válido apenas para o dia de hoje.\"\\n\"Hoje é dia da nossa BLACK MONDAY!😎\\n✔Pão brioche, linguiça de 25cm e algumas cositas mais..🌭🌭\\n✔Apenas R$9.90\\n🛵 válido tbm no delivery 🆓️Sem Taxa de entrega\\n☎️32690565/32591480\\n@blackburgerbelem #blackburgerbelem 📍Av. Gentil com Alcindo Cacela, anexo ao posto Shell Redentor, com estacionamento privativo\"\\nPreparados? Próximo sábado o Coliseu do Rock te aguarda! Studio Pub Rock Festival UK X US Edition !!\\n\"A indicação da semana é para todos nós apaixonados por culinária! O filme Julie & Julia é uma comédia romântica e conta a história da chef Julia Child ( Meryl Streep) nos primeiros anos da sua carreira. Paralelamente, o filme também acompanha uma jovem cozinheira, Julie (Amy Adams), que tem o objetivo de cozinhar todas as 524 receitas do livro de Child em 365 dias. Super divertido e disponível no netflix!\\n\\n#belém #pará #sushilovers #culinária #amazônia #sushi #gastronomia #cozinhaasiática\"\\n\"American ROCK! \\n\\nNeste sábado tem programação de peso para os amantes do Rock Made in USA! \\nÉ show para cantar do início ao fim e para fã não botar defeito! Venha viver a experiência de estar de frente para RED HOT CHILI PEPPERS com a banda RHCP Cover Belém & cantar os sucessos de Chester e sua turma com a banda Esquecidos LINKIN PARK COVER! Por que ficar em casa na noite de sábado se você pode estar com a gente e uma Heineken trincando na mão? \\n\\nStudio Pub - Live a Real Rock Experience With Us! \\n\\nCompre seu Ingresso antecipado ONLINE no Sympla! https://www.sympla.com.br/linkin-park-cover--red-hot-chili-peppers-cover__298652\\n\\nQuando? Sábado, 02 de Junho 2018\\nOnde? Studio Pub \\nQuanto? R$15,00 antecipado e R$20,00 na hora primeiro lote \\nAtrações: ESQUECIDOS LINKIN PARK COVER & RED HOT CHILI PEPPERS COVER BELÉM\"\\n\"Funciona assim: Confira o seu mês de nascimento e dia do aniversário para conhecer seu verdadeiro nome de cachaceiro. \\n\\nNão esquece de escrever o resultado aqui nos comentários! \\n\\nwww.cachacameugaroto.com.br\"\\n\"No almoço, você tem encontro marcado com El Patron. Vem relaxar e curtir o melhor de nosso buffet!😉🍻 . . . \\n#BuffetElPatron #Almoço \\n#Buffet #ElPatron #Refeição\"\\nAquela amiga que é assim kkkk\\nA sobremesa que faz sucesso por aqui é nossa Taça de Chocorango. Já experimentou?\\n\"Hoje é dia de jogão! A casa abre 16.30 hr com Happy hour a noite toda para ninguém colocar defeito, sem frescura, vem! #thewaypub #vemquetem\"\\nSe liga!!! Delivery pelo telefone com taxa promocional!!! 😋 #blackburgerbelem\\n\"Os 100 primeiros a comprar ingresso c/ Open Bar de Heineken para o St. Patrick’s Day Studio Pub 2018 garantem brinde exclusivo Heineken !!! Eles chegaram e estão lindos! #stpatricksday #StudioPubBelem \\n\\nST. PATRICK’S DAY STUDIO PUB 2018! \\nDia 17, sábado, vai rolar a maior celebração ao St. Patrick’s Day de Belém! E com ele o tão aguardado OPEN BAR de Heineken com direito a brindes exclusivos da marca para os primeiros 100 que comprarem ingressos!\\nTeremos cartolas personalizadas, suspensórios, camisas e muito mais! \\n\\nE para a festa ficar completa vai rolar: \\n- Jack Brandal Irish Band com o melhor da música irlandesa\\n- Banda U2-4U tocando os maiores sucessos da banda do Irlandês Bono Vox\\n- The Cranberries Cover para matarmos a saudade que a irlandesa Dolores deixou em todos nós!\\n\\nCorra para garantir seu ingresso! Serão disponibilizados apenas 150 ingressos com direito a OPEN BAR!!! Vai perder essa???\\n\\nHorário do Open Bar: das 18:30h às 22:00h (03:30 Horas sem parar para acordar o irlandês que existe dentro de você!)\\n\\nIngressos:\\nINGRESSO C/ OPEN BAR DE HEINEKEN R$59,90 (apenas 150 unidades)\\n\\nINGRESSO SEM OPEN BAR R$20,00 (Primeiro lote) * Acesso à casa apenas após o fim do open bar\\n.\\nOnde comprar?\\nStudio Pub - Tv. Presidente Pernambuco, 277.\\nDe terça à sexta, a partir das 18h.\\n\\nOnline no Sympla: https://www.sympla.com.br/st-patricks-day-studio-pub-2018__257494\\n.\\nEntrada exclusiva para maiores de 18 anos, sendo obrigatório apresentação de documento oficial e com foto.\\n.\\nOBS.: Não aceitaremos mais identidades com foto de criança ou manchadas por conta da dificuldade de identificação.\\n.\\nMais informações:\\nTel: 3252-1413 / 91 99161-3677\\nInstagram: @studiopubbelem | Facebook: studiopubbelem\"\\n\"Essa delícia merece uma caipirinha para acompanhar. Fica a dica!\\n\\n#beer #cerveja #pub #melhorescervejas\\n#beerlovers #beeradict #cerveza #happyhour\\n#cervejagelada #cervejao #cervejartesanal\\n#cervejando #cervejaoliquidosagrado\\n#IronBelem #PubBelem\"\\n\"Essa quinta, a voz de Karen Tavares vai animar o Happy Hour da noite com muito samba. A ocasião ainda traz a promoção de Colorado & Burguers, pra todo mundo comer e tomar umas cervejas diferenciadas rsrsrs\\n\\nHappy Hour + Karen Tavares no Café do Ziggy\"\\nEntão vem!\\n\"Sábado é dia de saborear nossos camarões empanados acompanhados de arroz piamontese e batata frita do melhor lugar de Belém! Deu água na boca? Então vem pro Cité e aprecie nosso prato Turim!\\n-\\n☎ Delivery Cité de Seg. a Sáb. de 18:00 às 23:30 e aos Domingos de 11:30 às 15:00 e de 18:00 às 23:00h através de nosso aplicativo; ou pelo site citebelem.com.br ou através do número 3349-5777! \\n-\\n#vemprocité #cité #cite2018 #citebelem #restaurantecité #sabado #pratpturim #gastronomia #instafood #tasty #belem #pará.\"\\n\"Na dúvida do que pedir… peça todos! O que não falta é opção. 😎 \\n\\nNossas unidades:\\n🎌 Batista Campos - Rua dos Pariquis, 1712\\n🎌 Av. Senador Lemos, 356 \\n🎌 Av. Duque de Caxias, 510\\n\\n🛵📲 Delivery:\\n2121-4463\"\\n\"Por pouco nosso mascote🐻🐻\\nFoi com a @babimu pra São Paulo😲😍😍\"\\nAlmoço de qualidade é aqui!!!!!\\n\"Bateu a fome aí? \\nEntão imagine chegando para você nosso delicioso e aclamado William bonner!\\nTem como resistir? É só ligar que a gente entrega.\\nFaça seu pedido: (91) 3348-6800 WhatsApp: (91) 98414-1679✨📞\\n. . . \\n#DeliveryElPatron #Saboroso \\n#Prático #MelhorDelivery #Top #Belém #ElPatron #Instafood\"\\n\"O Delivery da Mia leva nossos pratos no conforto da sua casa.\\nLiga pra gente!\\n(91) 2121-2661\"\\n\"A Roquerági dessa sexta vai trazer mais uma vez o show da Maraú pro Ziggy, mas desta vez com BANDA COMPLETA! Bora, te arruma, que vai ser doidêra demais. Lembrando que hoje tem promoção de 03 Brahma Chopps por R$ 20 (enquanto durar o estoque, vcs bebem pra dédéu).\\n\\n> Roquerági com Maraú e Cais Virado no Ziggy Hostel Club <\"\\n\"Estação Brahma, Domingo 13 de Maio de 2018\"\\n\"Nossa cliente com a MEGA TAÇA HAPPY DAY😲😲😲\\nLembrando que serve 5 pessoas,você tem coragem para consumir sozinho🤔🤔\\nVocê conhece alguém que tem tamanha coragem😲😲\"\\n\"Aproveite o sabadão para saborear nossos cortes especiais. Experimente nosso prato Texas City, com o nosso famoso T-Bone, com contra filé e filé mignon acompanhado de baked potato! Vem almoçar com a agente!\\n-\\n☎ Delivery Cité de Seg. a Sáb. de 18:00 às 23:30 e aos Domingos de 11:30 às 15:00 e de 18:00 às 23:00h através de nosso aplicativo; ou pelo site citebelem.com.br ou através do número 3349-5777! -\\n-\\n#vemprocité #cité #cite2018 #citebelem #restaurantecité #2018 #gastronomia #instafood #tasty #belem #pará.\"\\n\"A bebida é por nossa conta no seu pedido com o combo no delivery do Roxy Bosque.\\n\\nVálido durante o almoço de hoje (23/03), das 12h às 15h.\\n\\nTodo pedido a partir de 85 reais tem direito a DOIS sucos de 300ml (acerola, maracujá e cupuaçu), ou UM refrigerante de 1 Litro (Pepsi Cola ou Guaraná Antarctica Normal), Guaraná Zero está em falta.\\n\\nLigue ☎ (91) 3349-9197 / 3199-3211 / 99185-7405 / 98733-2426 / 99375-9484\\n\\nSaddam: Filé alto com queijo e presunto, acompanhado de arroz à piamontese, batatas fritas e farofa de ovo.\\n\\nCardápio: roxybar.com.br\\n\\n#bosquegraopara #roxybarbelém #belem\"\\n\"Nossa Casa é cheia de histórias de amor, cada uma mais linda do que a outra... 😍 ⠀\\nNeste dia dos Namorados, surpreenda o seu amor com um jantar romântico aqui em casa! ⠀\\nNosso cardápio tradicional será servido normalmente e teremos música ao vivo, decoração especial por @mia.decor e varias surpresas ✨❤\\n⠀\\nEstamos ansiosos pra viver o clima de romance juntos nesta noite mágica. 💘\\n⠀\\nAceitamos reservas apenas por WHATSAPP 9159-9728 📲\"\\n\"Comente #EU QUERO e Ganhe uma mesa + lista de 20 amigos GRÁTIS.\\n\\nSexta. Inauguração Sambôtequim\\n• Nosso tom: Sorriso moleque: Vaguinho Db: Resenha: De Bobeira.\\n• 03 horas de open bar e balde RS20 a noite toda.\\n\\nSorteio sexta as 10h\\ninformações 98968-3496/98146-5107\"\\nDepois do cortejo do Bloco Unidos do Camaleão - Ziggy Hostel Club vai rolar um showzão do Bando Mastodontes dentro do Ziggy. Entrada: R$ 10 a partir de 18h // R$ 15 a partir de 20h\\nQuem já fez a reserva hoje?\\nSexta feira merece Me Gusta ! Hoje funcionamos até às 23h\\n\"Pensado para ser uma sobremesa irresistível, o sabor insuperável do bacuri torna-se surpreendente na versão caramelada, feita com o creme da fruta e açúcar queimado. Um encanto para seu Dia das Mães ser celebrado com tudo o que ele merece. 🌹\"\\n\"Neste sábado 24.03 prepare-se para o segundo Amazon Day. Serão 10 estilos de cerveja produzida pela Amazon Beer que você vai poder provar ao longo das 17h até a Meia Noite.\\n\\nVai rolar ali no @container__, que fica na Diogo Móia, 340 entre Wandekolk e Dom Romualdo de Seixas. E vá com fome para provar todos os burgers incríveis pensados pelo chef @renanbarata\\n\\nVamos ter os melhores DJs da cidade mandando um som legal. Bambata Brothers, DJ Faca e Bernardo Pinheiro. \\nEntão você não pode perder. E a entrada é grátis.\\n\\nO Quê? AmazonDay no Container.\\nQuando? Hoje!\\nQuanto? De graça.\\nOnde? Container Burger, Diogo Móia, 340.\"\\n\"Domingo é dia de rodizio de pizza do Studio Pub! Comer até não aguentar por R$29,90. 🍕\"\\n\"Quem toparia um rodízio vegano por aqui levanta a mão! 🙋\\u200d♂🙋\\u200d♀\\n\\nA vontade de veganizar nossas peças tá muito grande! Nosso Joy Califórnia da foto é quase uma opção vegana! Já imaginaram um rodízio inteiro com peças assim? 🤔😍\"\\n\"Fala galera! Chegou o dia do tão merecido descanso para esses nossos clientes labutadores! Mas, aqui no Iron a gente se mantém firme no batente pra fazer a alegria de vocês, com muita cerveja e comida boa! E claro, música foda! Se liga, Pyramide e Mística na casa, fechou? Estamos te esperando!\\n\\n#beer #cerveja #ontap #pub #melhorescervejas #beerlovers #beeradict #cerveza #happyhour #cervejagelada #cervejao #cervejartesanal #cervejando #cervejaoliquidosagrado #IronBelem #PubBelem\"\\n\"Todas as terças você já sabe! TODAS as nossas cervejas guerreiras com preços especiais: Pilsen R$6,00 | Vienna R$6,80 | Witbier R$7,00 | Hoptus IPA R$14,00.\"\\n\"#diadamulher \\nToda mulher vai amar uma Cesta de Café da manhã da Amorosa. Vá até uma de nossas unidades e monte sua Cesta de Café da Manhã personalizada e deixe do jeitinho que ela mais gosta! 😍😋❤\\n\\n#cestadecafe #diadamulher #doceriamorosa #tudofeitocomamor\"\\nA turma animada da noite🤗🤗🤗\\n\"Pra noite ficar perfeita, peça uma caneca de chopp no Roxy Bosque.\\n \\n#bosquegraopara #roxybarbelém #belem\"\\n\"A massa integral fininha e crocante, irresistível para o seu sábado!\"\\n\"Neste sábado tem mais uma edição do Clubinho com Open Bar de cerveja e vodka com energético liberado até 00h ! \\nTodos os sábados sempre bombando 😍\\n#Curte #Marque2amigas\"\\n\"Na Quinta Cover dessa semana vai rolar THE KILLERS 👊 \\nCurte a banda, né? ✌Então junte sua galera e venham cantar: \\n\\n🎤🎸Well somebody told me\\nyou had a boyfriend\\n who looked like a girlfriend\\nthat I had in february of last year\\nit\\'s not confidental \\nI\\'ve got potential...🎼🎸\\n\\nShow a partir das 21h 🔞\\nEntrada R$ 10\\n\\n👉 De terça a sábado Happy Hour das 18 às 21h.\\n\\n📲Central de informações e reservas: 99811-4389. \\n🌍Av. Brás de Aguiar 304 (entre Benjamin Constant e Dr Moraes)\"\\n\"Hoje é terça dia de PROMO + PIZZA E CERVEJA! Se liga!\\n\\nJá pensou ganhar 1 ingresso para o nosso Happy Hour Night de hoje, com direito a cerveja e pizza a vontade? A gente vai te dar essa chance!\\n\\nPra participar é fácil: Curte nossa pagina, curte essa publicação e marca 2 amigos nos comentários. Depois disso é só esperar o resultado que sai hoje ás 17:30.\\n\\nBoa sorte! 🍀\\n\\nPrêmio válido apenas para o Happy Hour de hoje.\"\\n\"Já é quinta, brother! \\nHoje começa a programação de shows 🎶🎸 da nossa casa,'"
            ],
            "application/vnd.google.colaboratory.intrinsic+json": {
              "type": "string"
            }
          },
          "metadata": {},
          "execution_count": 3
        }
      ]
    },
    {
      "cell_type": "markdown",
      "source": [
        "Para modelar a língua e possibilitar que a máquina a entenda, são necessários pré-processamentos que abstraem e estruturam a língua, deixando apenas o que é informação relevante. Esse pré-processamento reduz o vocabulário e torna os dados menos esparsos, característica conveniente para o processamento computacional.\n",
        "\n",
        "O processo de tokenização tem como objetivo separar palavras ou sentenças em unidades. A tokenização lexical marca cada palavra como um token no texto, identificando-a mesmo se tiver encostada em alguma pontuação. Um exemplo de texto tokenizado lexicalmente seria:\n",
        "\n",
        "\n",
        "\n",
        "> Começando uma frase. \n",
        "\n",
        "> ['começando','uma','frase','.']\n",
        "\n",
        "\n",
        "A tokenização sentencial identifica e marca sentenças. Um exemplo seria:\n",
        "\n",
        "\n",
        "\n",
        "> Sentença primeira. Segunda setença. Terceira setença.\n",
        "\n",
        "\n",
        "> ['Sentença primeira.','Segunda setença.','Terceira setença.']\n",
        "\n",
        "\n",
        "A normalização é importante por começar a estruturar o texto, já que os processamentos seguintes atuam em cima de unidades sentenciais e lexicais.\n",
        "\n",
        "\n",
        "\n",
        "\n",
        "\n",
        "\n"
      ],
      "metadata": {
        "id": "QjU8UjvYAI_A"
      }
    },
    {
      "cell_type": "markdown",
      "source": [
        "# **Tratamento do Corpus**"
      ],
      "metadata": {
        "id": "41pOdItFYvUP"
      }
    },
    {
      "cell_type": "code",
      "source": [
        "#função para preparar dados de texto em sequências para treinamento \n",
        "def data_sequencing(data):   \n",
        "    #  codificar sequências de palavras (tokenização)\n",
        "    tokenizer = Tokenizer()\n",
        "    tokenizer.fit_on_texts([data])\n",
        "    with open('tokenizer.pkl', 'wb') as f: # salvando o tokenizer para usar depois\n",
        "        pickle.dump(tokenizer, f)\n",
        "\n",
        "    encoded = tokenizer.texts_to_sequences([data])[0]\n",
        "    # recuperar o tamanho do vocabulário\n",
        "    vocab_size = len(tokenizer.word_index) + 1\n",
        "    print('Vocabulary Size: %d' % vocab_size)\n",
        "    \n",
        "    # criar sequências baseadas em linha\n",
        "    sequences = list()\n",
        "    rev_sequences = list()\n",
        "    for line in data.split('.'):\n",
        "        encoded = tokenizer.texts_to_sequences([line])[0]\n",
        "        rev_encoded = encoded[::-1]\n",
        "        for i in range(1, len(encoded)):\n",
        "            sequence = encoded[:i+1]\n",
        "            rev_sequence = rev_encoded[:i+1]\n",
        "            sequences.append(sequence)\n",
        "            rev_sequences.append(rev_sequence)\n",
        "    print('Total Sequences: %d' % len(sequences))\n",
        "    \n",
        "    \n",
        "    #comprimento máximo da sequência \n",
        "    max_length = max([len(seq) for seq in sequences])\n",
        "    with open('max_length.pkl', 'wb') as f: # salvando o comprimento máximo para usar depois\n",
        "        pickle.dump(max_length, f)\n",
        "    print('Max Sequence Length: %d' % max_length)\n",
        "\n",
        "    # pad_sequences é usado para garantir que todas as sequências em uma lista tenham o mesmo comprimento\n",
        "    sequences = pad_sequences(sequences, maxlen=max_length, padding='pre')\n",
        "    # dividido em elementos de entrada e saída\n",
        "    sequences = array(sequences)\n",
        "    X, y = sequences[:,:-1],sequences[:,-1]\n",
        "    \n",
        "\n",
        "    return X,y,max_length,vocab_size"
      ],
      "metadata": {
        "id": "fzxAEgscZUCU"
      },
      "execution_count": null,
      "outputs": []
    },
    {
      "cell_type": "markdown",
      "source": [
        "Retornando sequências diretas e reversas junto com o comprimento máximo da sequência dos dados"
      ],
      "metadata": {
        "id": "NUtV2v6vZFCe"
      }
    },
    {
      "cell_type": "code",
      "source": [
        "X,y,max_length,vocab_size = data_sequencing(data)"
      ],
      "metadata": {
        "colab": {
          "base_uri": "https://localhost:8080/"
        },
        "id": "Z8cxMBgdZ3FN",
        "outputId": "acd80f96-32d4-43f3-8cac-3cf11e016dc8"
      },
      "execution_count": null,
      "outputs": [
        {
          "output_type": "stream",
          "name": "stdout",
          "text": [
            "Vocabulary Size: 3590\n",
            "Total Sequences: 15938\n",
            "Max Sequence Length: 229\n"
          ]
        }
      ]
    },
    {
      "cell_type": "markdown",
      "source": [
        "# **Definição do modelo**"
      ],
      "metadata": {
        "id": "xCC812EHY8ef"
      }
    },
    {
      "cell_type": "code",
      "source": [
        "# definir modelo de sequência direta\n",
        "model = Sequential()\n",
        "model.add(Embedding(vocab_size,100, input_length=max_length-1))\n",
        "model.add(SimpleRNN(100))\n",
        "model.add(Dense(vocab_size, activation='softmax'))\n",
        "print(model.summary())"
      ],
      "metadata": {
        "colab": {
          "base_uri": "https://localhost:8080/"
        },
        "id": "OXB0i4_EaWOu",
        "outputId": "dd1abd32-f1c6-4eec-d30c-205974947632"
      },
      "execution_count": null,
      "outputs": [
        {
          "output_type": "stream",
          "name": "stdout",
          "text": [
            "Model: \"sequential\"\n",
            "_________________________________________________________________\n",
            " Layer (type)                Output Shape              Param #   \n",
            "=================================================================\n",
            " embedding (Embedding)       (None, 228, 100)          359000    \n",
            "                                                                 \n",
            " simple_rnn (SimpleRNN)      (None, 100)               20100     \n",
            "                                                                 \n",
            " dense (Dense)               (None, 3590)              362590    \n",
            "                                                                 \n",
            "=================================================================\n",
            "Total params: 741,690\n",
            "Trainable params: 741,690\n",
            "Non-trainable params: 0\n",
            "_________________________________________________________________\n",
            "None\n"
          ]
        }
      ]
    },
    {
      "cell_type": "markdown",
      "source": [
        "# **Treinamento do modelo**"
      ],
      "metadata": {
        "id": "-c1192ocoDPL"
      }
    },
    {
      "cell_type": "code",
      "source": [
        "#compilar a rede de sequência direta\n",
        "model.compile(loss='sparse_categorical_crossentropy', optimizer='adam', metrics=['accuracy'])\n",
        "# Treina o modelo para um número fixo de epochs (iterações em um conjunto de dados).\n",
        "model.fit(X, y,batch_size=100, epochs=50, verbose=2)\n",
        "# salve o modelo em arquivo h5\n",
        "# Um arquivo h5 é um arquivo de dados salvo no Formato de Dados Hierárquico (HDF). Contém matrizes multidimensionais de dados científicos\n",
        "model.save('model_rnn.h5')"
      ],
      "metadata": {
        "colab": {
          "base_uri": "https://localhost:8080/"
        },
        "id": "uZKvWxmzadY1",
        "outputId": "f94c8194-18bf-4c88-ccbe-2071a8e680c8"
      },
      "execution_count": null,
      "outputs": [
        {
          "output_type": "stream",
          "name": "stdout",
          "text": [
            "Epoch 1/50\n",
            "160/160 - 27s - loss: 7.1572 - accuracy: 0.0363 - 27s/epoch - 170ms/step\n",
            "Epoch 2/50\n",
            "160/160 - 29s - loss: 6.6893 - accuracy: 0.0383 - 29s/epoch - 181ms/step\n",
            "Epoch 3/50\n",
            "160/160 - 26s - loss: 6.3352 - accuracy: 0.0537 - 26s/epoch - 165ms/step\n",
            "Epoch 4/50\n",
            "160/160 - 26s - loss: 5.9001 - accuracy: 0.0907 - 26s/epoch - 160ms/step\n",
            "Epoch 5/50\n",
            "160/160 - 25s - loss: 5.4312 - accuracy: 0.1373 - 25s/epoch - 157ms/step\n",
            "Epoch 6/50\n",
            "160/160 - 25s - loss: 5.0684 - accuracy: 0.1782 - 25s/epoch - 158ms/step\n",
            "Epoch 7/50\n",
            "160/160 - 25s - loss: 4.6054 - accuracy: 0.2205 - 25s/epoch - 157ms/step\n",
            "Epoch 8/50\n",
            "160/160 - 28s - loss: 4.2123 - accuracy: 0.2629 - 28s/epoch - 176ms/step\n",
            "Epoch 9/50\n",
            "160/160 - 25s - loss: 3.8556 - accuracy: 0.3071 - 25s/epoch - 158ms/step\n",
            "Epoch 10/50\n",
            "160/160 - 26s - loss: 3.5250 - accuracy: 0.3591 - 26s/epoch - 160ms/step\n",
            "Epoch 11/50\n",
            "160/160 - 26s - loss: 3.4421 - accuracy: 0.3783 - 26s/epoch - 161ms/step\n",
            "Epoch 12/50\n",
            "160/160 - 26s - loss: 3.0631 - accuracy: 0.4355 - 26s/epoch - 160ms/step\n",
            "Epoch 13/50\n",
            "160/160 - 26s - loss: 2.7328 - accuracy: 0.4997 - 26s/epoch - 164ms/step\n",
            "Epoch 14/50\n",
            "160/160 - 25s - loss: 2.4780 - accuracy: 0.5486 - 25s/epoch - 158ms/step\n",
            "Epoch 15/50\n",
            "160/160 - 26s - loss: 2.2530 - accuracy: 0.5937 - 26s/epoch - 162ms/step\n",
            "Epoch 16/50\n",
            "160/160 - 25s - loss: 2.0450 - accuracy: 0.6335 - 25s/epoch - 157ms/step\n",
            "Epoch 17/50\n",
            "160/160 - 25s - loss: 1.8558 - accuracy: 0.6694 - 25s/epoch - 157ms/step\n",
            "Epoch 18/50\n",
            "160/160 - 28s - loss: 1.6851 - accuracy: 0.7004 - 28s/epoch - 175ms/step\n",
            "Epoch 19/50\n",
            "160/160 - 26s - loss: 1.5306 - accuracy: 0.7283 - 26s/epoch - 162ms/step\n",
            "Epoch 20/50\n",
            "160/160 - 25s - loss: 1.3899 - accuracy: 0.7572 - 25s/epoch - 159ms/step\n",
            "Epoch 21/50\n",
            "160/160 - 26s - loss: 1.2651 - accuracy: 0.7781 - 26s/epoch - 160ms/step\n",
            "Epoch 22/50\n",
            "160/160 - 26s - loss: 1.1518 - accuracy: 0.8010 - 26s/epoch - 165ms/step\n",
            "Epoch 23/50\n",
            "160/160 - 25s - loss: 1.0468 - accuracy: 0.8185 - 25s/epoch - 159ms/step\n",
            "Epoch 24/50\n",
            "160/160 - 26s - loss: 1.5227 - accuracy: 0.7108 - 26s/epoch - 160ms/step\n",
            "Epoch 25/50\n",
            "160/160 - 26s - loss: 1.1119 - accuracy: 0.7991 - 26s/epoch - 161ms/step\n",
            "Epoch 26/50\n",
            "160/160 - 25s - loss: 0.9523 - accuracy: 0.8324 - 25s/epoch - 158ms/step\n",
            "Epoch 27/50\n",
            "160/160 - 26s - loss: 0.8623 - accuracy: 0.8503 - 26s/epoch - 163ms/step\n",
            "Epoch 28/50\n",
            "160/160 - 28s - loss: 0.7630 - accuracy: 0.8716 - 28s/epoch - 173ms/step\n",
            "Epoch 29/50\n",
            "160/160 - 26s - loss: 0.6952 - accuracy: 0.8846 - 26s/epoch - 163ms/step\n",
            "Epoch 30/50\n",
            "160/160 - 26s - loss: 0.6480 - accuracy: 0.8927 - 26s/epoch - 160ms/step\n",
            "Epoch 31/50\n",
            "160/160 - 26s - loss: 0.5885 - accuracy: 0.9052 - 26s/epoch - 160ms/step\n",
            "Epoch 32/50\n",
            "160/160 - 26s - loss: 0.5431 - accuracy: 0.9131 - 26s/epoch - 160ms/step\n",
            "Epoch 33/50\n",
            "160/160 - 26s - loss: 0.5025 - accuracy: 0.9195 - 26s/epoch - 162ms/step\n",
            "Epoch 34/50\n",
            "160/160 - 26s - loss: 0.4648 - accuracy: 0.9276 - 26s/epoch - 166ms/step\n",
            "Epoch 35/50\n",
            "160/160 - 26s - loss: 0.4303 - accuracy: 0.9337 - 26s/epoch - 163ms/step\n",
            "Epoch 36/50\n",
            "160/160 - 26s - loss: 0.3999 - accuracy: 0.9379 - 26s/epoch - 160ms/step\n",
            "Epoch 37/50\n",
            "160/160 - 25s - loss: 0.3719 - accuracy: 0.9420 - 25s/epoch - 158ms/step\n",
            "Epoch 38/50\n",
            "160/160 - 28s - loss: 0.3459 - accuracy: 0.9464 - 28s/epoch - 176ms/step\n",
            "Epoch 39/50\n",
            "160/160 - 26s - loss: 0.3212 - accuracy: 0.9509 - 26s/epoch - 163ms/step\n",
            "Epoch 40/50\n",
            "160/160 - 25s - loss: 0.2990 - accuracy: 0.9539 - 25s/epoch - 157ms/step\n",
            "Epoch 41/50\n",
            "160/160 - 25s - loss: 0.2785 - accuracy: 0.9566 - 25s/epoch - 154ms/step\n",
            "Epoch 42/50\n",
            "160/160 - 26s - loss: 0.2599 - accuracy: 0.9593 - 26s/epoch - 161ms/step\n",
            "Epoch 43/50\n",
            "160/160 - 26s - loss: 0.2433 - accuracy: 0.9609 - 26s/epoch - 164ms/step\n",
            "Epoch 44/50\n",
            "160/160 - 25s - loss: 0.2281 - accuracy: 0.9627 - 25s/epoch - 157ms/step\n",
            "Epoch 45/50\n",
            "160/160 - 26s - loss: 0.2180 - accuracy: 0.9652 - 26s/epoch - 162ms/step\n",
            "Epoch 46/50\n",
            "160/160 - 26s - loss: 0.2002 - accuracy: 0.9656 - 26s/epoch - 161ms/step\n",
            "Epoch 47/50\n",
            "160/160 - 26s - loss: 0.1888 - accuracy: 0.9688 - 26s/epoch - 162ms/step\n",
            "Epoch 48/50\n",
            "160/160 - 28s - loss: 0.1769 - accuracy: 0.9698 - 28s/epoch - 174ms/step\n",
            "Epoch 49/50\n",
            "160/160 - 26s - loss: 0.1677 - accuracy: 0.9686 - 26s/epoch - 164ms/step\n",
            "Epoch 50/50\n",
            "160/160 - 26s - loss: 0.1582 - accuracy: 0.9708 - 26s/epoch - 162ms/step\n"
          ]
        }
      ]
    },
    {
      "cell_type": "markdown",
      "source": [
        "**Predição de embeddings das OOVs**"
      ],
      "metadata": {
        "id": "Ci_Cd6dQhaS9"
      }
    },
    {
      "cell_type": "code",
      "source": [
        "#Download stop words da biblioteca NLTK.\n",
        "nltk.download(\"stopwords\")"
      ],
      "metadata": {
        "colab": {
          "base_uri": "https://localhost:8080/"
        },
        "id": "0JWIQyF6gk_N",
        "outputId": "572f77fc-0927-49c4-a11f-f8253a3c54d8"
      },
      "execution_count": null,
      "outputs": [
        {
          "output_type": "stream",
          "name": "stderr",
          "text": [
            "[nltk_data] Downloading package stopwords to /root/nltk_data...\n",
            "[nltk_data]   Package stopwords is already up-to-date!\n"
          ]
        },
        {
          "output_type": "execute_result",
          "data": {
            "text/plain": [
              "True"
            ]
          },
          "metadata": {},
          "execution_count": 8
        }
      ]
    },
    {
      "cell_type": "code",
      "source": [
        "#Modelo pré-treinado com embeddings em português para a biblioteca spaCy\n",
        "!python -m spacy download pt_core_news_md"
      ],
      "metadata": {
        "colab": {
          "base_uri": "https://localhost:8080/"
        },
        "id": "NRuF9ioDg8bk",
        "outputId": "11def06e-f05a-4482-8917-d329213a3aad"
      },
      "execution_count": null,
      "outputs": [
        {
          "output_type": "stream",
          "name": "stdout",
          "text": [
            "2022-11-05 13:40:00.560823: E tensorflow/stream_executor/cuda/cuda_driver.cc:271] failed call to cuInit: CUDA_ERROR_NO_DEVICE: no CUDA-capable device is detected\n",
            "Looking in indexes: https://pypi.org/simple, https://us-python.pkg.dev/colab-wheels/public/simple/\n",
            "Collecting pt-core-news-md==3.4.0\n",
            "  Downloading https://github.com/explosion/spacy-models/releases/download/pt_core_news_md-3.4.0/pt_core_news_md-3.4.0-py3-none-any.whl (42.4 MB)\n",
            "\u001b[K     |████████████████████████████████| 42.4 MB 1.3 MB/s \n",
            "\u001b[?25hRequirement already satisfied: spacy<3.5.0,>=3.4.0 in /usr/local/lib/python3.7/dist-packages (from pt-core-news-md==3.4.0) (3.4.2)\n",
            "Requirement already satisfied: srsly<3.0.0,>=2.4.3 in /usr/local/lib/python3.7/dist-packages (from spacy<3.5.0,>=3.4.0->pt-core-news-md==3.4.0) (2.4.5)\n",
            "Requirement already satisfied: wasabi<1.1.0,>=0.9.1 in /usr/local/lib/python3.7/dist-packages (from spacy<3.5.0,>=3.4.0->pt-core-news-md==3.4.0) (0.10.1)\n",
            "Requirement already satisfied: typing-extensions<4.2.0,>=3.7.4 in /usr/local/lib/python3.7/dist-packages (from spacy<3.5.0,>=3.4.0->pt-core-news-md==3.4.0) (4.1.1)\n",
            "Requirement already satisfied: thinc<8.2.0,>=8.1.0 in /usr/local/lib/python3.7/dist-packages (from spacy<3.5.0,>=3.4.0->pt-core-news-md==3.4.0) (8.1.5)\n",
            "Requirement already satisfied: cymem<2.1.0,>=2.0.2 in /usr/local/lib/python3.7/dist-packages (from spacy<3.5.0,>=3.4.0->pt-core-news-md==3.4.0) (2.0.7)\n",
            "Requirement already satisfied: spacy-loggers<2.0.0,>=1.0.0 in /usr/local/lib/python3.7/dist-packages (from spacy<3.5.0,>=3.4.0->pt-core-news-md==3.4.0) (1.0.3)\n",
            "Requirement already satisfied: tqdm<5.0.0,>=4.38.0 in /usr/local/lib/python3.7/dist-packages (from spacy<3.5.0,>=3.4.0->pt-core-news-md==3.4.0) (4.64.1)\n",
            "Requirement already satisfied: langcodes<4.0.0,>=3.2.0 in /usr/local/lib/python3.7/dist-packages (from spacy<3.5.0,>=3.4.0->pt-core-news-md==3.4.0) (3.3.0)\n",
            "Requirement already satisfied: catalogue<2.1.0,>=2.0.6 in /usr/local/lib/python3.7/dist-packages (from spacy<3.5.0,>=3.4.0->pt-core-news-md==3.4.0) (2.0.8)\n",
            "Requirement already satisfied: numpy>=1.15.0 in /usr/local/lib/python3.7/dist-packages (from spacy<3.5.0,>=3.4.0->pt-core-news-md==3.4.0) (1.21.6)\n",
            "Requirement already satisfied: typer<0.5.0,>=0.3.0 in /usr/local/lib/python3.7/dist-packages (from spacy<3.5.0,>=3.4.0->pt-core-news-md==3.4.0) (0.4.2)\n",
            "Requirement already satisfied: preshed<3.1.0,>=3.0.2 in /usr/local/lib/python3.7/dist-packages (from spacy<3.5.0,>=3.4.0->pt-core-news-md==3.4.0) (3.0.8)\n",
            "Requirement already satisfied: setuptools in /usr/local/lib/python3.7/dist-packages (from spacy<3.5.0,>=3.4.0->pt-core-news-md==3.4.0) (57.4.0)\n",
            "Requirement already satisfied: jinja2 in /usr/local/lib/python3.7/dist-packages (from spacy<3.5.0,>=3.4.0->pt-core-news-md==3.4.0) (2.11.3)\n",
            "Requirement already satisfied: spacy-legacy<3.1.0,>=3.0.10 in /usr/local/lib/python3.7/dist-packages (from spacy<3.5.0,>=3.4.0->pt-core-news-md==3.4.0) (3.0.10)\n",
            "Requirement already satisfied: pydantic!=1.8,!=1.8.1,<1.11.0,>=1.7.4 in /usr/local/lib/python3.7/dist-packages (from spacy<3.5.0,>=3.4.0->pt-core-news-md==3.4.0) (1.10.2)\n",
            "Requirement already satisfied: packaging>=20.0 in /usr/local/lib/python3.7/dist-packages (from spacy<3.5.0,>=3.4.0->pt-core-news-md==3.4.0) (21.3)\n",
            "Requirement already satisfied: pathy>=0.3.5 in /usr/local/lib/python3.7/dist-packages (from spacy<3.5.0,>=3.4.0->pt-core-news-md==3.4.0) (0.6.2)\n",
            "Requirement already satisfied: murmurhash<1.1.0,>=0.28.0 in /usr/local/lib/python3.7/dist-packages (from spacy<3.5.0,>=3.4.0->pt-core-news-md==3.4.0) (1.0.9)\n",
            "Requirement already satisfied: requests<3.0.0,>=2.13.0 in /usr/local/lib/python3.7/dist-packages (from spacy<3.5.0,>=3.4.0->pt-core-news-md==3.4.0) (2.23.0)\n",
            "Requirement already satisfied: zipp>=0.5 in /usr/local/lib/python3.7/dist-packages (from catalogue<2.1.0,>=2.0.6->spacy<3.5.0,>=3.4.0->pt-core-news-md==3.4.0) (3.10.0)\n",
            "Requirement already satisfied: pyparsing!=3.0.5,>=2.0.2 in /usr/local/lib/python3.7/dist-packages (from packaging>=20.0->spacy<3.5.0,>=3.4.0->pt-core-news-md==3.4.0) (3.0.9)\n",
            "Requirement already satisfied: smart-open<6.0.0,>=5.2.1 in /usr/local/lib/python3.7/dist-packages (from pathy>=0.3.5->spacy<3.5.0,>=3.4.0->pt-core-news-md==3.4.0) (5.2.1)\n",
            "Requirement already satisfied: chardet<4,>=3.0.2 in /usr/local/lib/python3.7/dist-packages (from requests<3.0.0,>=2.13.0->spacy<3.5.0,>=3.4.0->pt-core-news-md==3.4.0) (3.0.4)\n",
            "Requirement already satisfied: certifi>=2017.4.17 in /usr/local/lib/python3.7/dist-packages (from requests<3.0.0,>=2.13.0->spacy<3.5.0,>=3.4.0->pt-core-news-md==3.4.0) (2022.9.24)\n",
            "Requirement already satisfied: urllib3!=1.25.0,!=1.25.1,<1.26,>=1.21.1 in /usr/local/lib/python3.7/dist-packages (from requests<3.0.0,>=2.13.0->spacy<3.5.0,>=3.4.0->pt-core-news-md==3.4.0) (1.24.3)\n",
            "Requirement already satisfied: idna<3,>=2.5 in /usr/local/lib/python3.7/dist-packages (from requests<3.0.0,>=2.13.0->spacy<3.5.0,>=3.4.0->pt-core-news-md==3.4.0) (2.10)\n",
            "Requirement already satisfied: blis<0.8.0,>=0.7.8 in /usr/local/lib/python3.7/dist-packages (from thinc<8.2.0,>=8.1.0->spacy<3.5.0,>=3.4.0->pt-core-news-md==3.4.0) (0.7.9)\n",
            "Requirement already satisfied: confection<1.0.0,>=0.0.1 in /usr/local/lib/python3.7/dist-packages (from thinc<8.2.0,>=8.1.0->spacy<3.5.0,>=3.4.0->pt-core-news-md==3.4.0) (0.0.3)\n",
            "Requirement already satisfied: click<9.0.0,>=7.1.1 in /usr/local/lib/python3.7/dist-packages (from typer<0.5.0,>=0.3.0->spacy<3.5.0,>=3.4.0->pt-core-news-md==3.4.0) (7.1.2)\n",
            "Requirement already satisfied: MarkupSafe>=0.23 in /usr/local/lib/python3.7/dist-packages (from jinja2->spacy<3.5.0,>=3.4.0->pt-core-news-md==3.4.0) (2.0.1)\n",
            "\u001b[38;5;2m✔ Download and installation successful\u001b[0m\n",
            "You can now load the package via spacy.load('pt_core_news_md')\n"
          ]
        }
      ]
    },
    {
      "cell_type": "markdown",
      "source": [
        "# **Carregar o modelo tratado**"
      ],
      "metadata": {
        "id": "FjnnZfIDovqP"
      }
    },
    {
      "cell_type": "code",
      "source": [
        "# carregar o modelo treinado com base no RNN\n",
        "model = load_model('/content/model_rnn.h5')\n",
        "\n",
        "#carregar o tokenizer e max_length\n",
        "with open('/content/tokenizer.pkl', 'rb') as f:\n",
        "    tokenizer = pickle.load(f)\n",
        "    \n",
        "with open('/content/max_length.pkl', 'rb') as f:\n",
        "    max_length = pickle.load(f)\n",
        "    \n",
        "#carregando palavras irrelevantes para melhorar as previsões de palavras relevantes   \n",
        "stopwords = nltk.corpus.stopwords.words('portuguese')\n",
        "\n",
        "#carregar o modelo spacy em português optimizado\n",
        "nlp = spacy.load('pt_core_news_md')"
      ],
      "metadata": {
        "id": "OL-D3Tbnf6U8"
      },
      "execution_count": null,
      "outputs": []
    },
    {
      "cell_type": "markdown",
      "source": [
        "# **Criar função para gerar sequências**"
      ],
      "metadata": {
        "id": "Wlf81p17o3xn"
      }
    },
    {
      "cell_type": "code",
      "source": [
        "# gerar uma sequência usando um modelo de linguagem\n",
        "def generate_seq(model, tokenizer, max_length, seed_text):\n",
        "    if seed_text == \"\":\n",
        "        return \"\"\n",
        "    else:\n",
        "        in_text = seed_text\n",
        "        n_words = 1\n",
        "        n_preds = 5 #número de palavras a prever para o texto inicial (pode ser qualquer valor) \n",
        "        pred_words = \"\"\n",
        "        # gerar um número fixo de palavras\n",
        "        for _ in range(n_words):\n",
        "            # codificar o texto como inteiro\n",
        "            encoded = tokenizer.texts_to_sequences([in_text])[0]\n",
        "            # sequências de pré-pad para um comprimento fixo\n",
        "            encoded = pad_sequences([encoded], maxlen=max_length, padding='pre')\n",
        "            # prever probabilidades para cada palavra\n",
        "            proba = model.predict(encoded, verbose=0).flatten()\n",
        "            #pegue as classes de probabilidade mais altas (n_preds)\n",
        "            yhat = numpy.argsort(-proba)[:n_preds] \n",
        "            # mapear palavras previstas\n",
        "            out_word = ''\n",
        "\n",
        "            for _ in range(n_preds):\n",
        "                for word, index in tokenizer.word_index.items():\n",
        "                    if index == yhat[_] and word not in stopwords:\n",
        "                        out_word = word\n",
        "                        pred_words += ' ' + out_word\n",
        "                        #print(out_word)\n",
        "                        break\n",
        "\n",
        "\n",
        "        return pred_words"
      ],
      "metadata": {
        "id": "1wYDrx2Mf171"
      },
      "execution_count": null,
      "outputs": []
    },
    {
      "cell_type": "markdown",
      "source": [
        "Vamos verificar algumas palavras para saber se o modelo padrão possui embedding para elas."
      ],
      "metadata": {
        "id": "ENDil-hDhnQO"
      }
    },
    {
      "cell_type": "code",
      "source": [
        "#BANZEIRO – Onda do mar\n",
        "nlp.vocab.get_vector('banzeiro')"
      ],
      "metadata": {
        "colab": {
          "base_uri": "https://localhost:8080/"
        },
        "id": "NeDJ5bmrh-Z9",
        "outputId": "f3dd6bea-9c18-4547-aede-ad7259a714e0"
      },
      "execution_count": null,
      "outputs": [
        {
          "output_type": "execute_result",
          "data": {
            "text/plain": [
              "array([0., 0., 0., 0., 0., 0., 0., 0., 0., 0., 0., 0., 0., 0., 0., 0., 0.,\n",
              "       0., 0., 0., 0., 0., 0., 0., 0., 0., 0., 0., 0., 0., 0., 0., 0., 0.,\n",
              "       0., 0., 0., 0., 0., 0., 0., 0., 0., 0., 0., 0., 0., 0., 0., 0., 0.,\n",
              "       0., 0., 0., 0., 0., 0., 0., 0., 0., 0., 0., 0., 0., 0., 0., 0., 0.,\n",
              "       0., 0., 0., 0., 0., 0., 0., 0., 0., 0., 0., 0., 0., 0., 0., 0., 0.,\n",
              "       0., 0., 0., 0., 0., 0., 0., 0., 0., 0., 0., 0., 0., 0., 0., 0., 0.,\n",
              "       0., 0., 0., 0., 0., 0., 0., 0., 0., 0., 0., 0., 0., 0., 0., 0., 0.,\n",
              "       0., 0., 0., 0., 0., 0., 0., 0., 0., 0., 0., 0., 0., 0., 0., 0., 0.,\n",
              "       0., 0., 0., 0., 0., 0., 0., 0., 0., 0., 0., 0., 0., 0., 0., 0., 0.,\n",
              "       0., 0., 0., 0., 0., 0., 0., 0., 0., 0., 0., 0., 0., 0., 0., 0., 0.,\n",
              "       0., 0., 0., 0., 0., 0., 0., 0., 0., 0., 0., 0., 0., 0., 0., 0., 0.,\n",
              "       0., 0., 0., 0., 0., 0., 0., 0., 0., 0., 0., 0., 0., 0., 0., 0., 0.,\n",
              "       0., 0., 0., 0., 0., 0., 0., 0., 0., 0., 0., 0., 0., 0., 0., 0., 0.,\n",
              "       0., 0., 0., 0., 0., 0., 0., 0., 0., 0., 0., 0., 0., 0., 0., 0., 0.,\n",
              "       0., 0., 0., 0., 0., 0., 0., 0., 0., 0., 0., 0., 0., 0., 0., 0., 0.,\n",
              "       0., 0., 0., 0., 0., 0., 0., 0., 0., 0., 0., 0., 0., 0., 0., 0., 0.,\n",
              "       0., 0., 0., 0., 0., 0., 0., 0., 0., 0., 0., 0., 0., 0., 0., 0., 0.,\n",
              "       0., 0., 0., 0., 0., 0., 0., 0., 0., 0., 0.], dtype=float32)"
            ]
          },
          "metadata": {},
          "execution_count": 26
        }
      ]
    },
    {
      "cell_type": "code",
      "source": [
        "#ESCRITINHO – Muito parecido. Semelhante. Igual.\n",
        "nlp.vocab.get_vector('escritinho')"
      ],
      "metadata": {
        "colab": {
          "base_uri": "https://localhost:8080/"
        },
        "id": "NHSOpHcK88z9",
        "outputId": "66ba988b-b042-4e73-89ca-2ba0392a9f1b"
      },
      "execution_count": null,
      "outputs": [
        {
          "output_type": "execute_result",
          "data": {
            "text/plain": [
              "array([0., 0., 0., 0., 0., 0., 0., 0., 0., 0., 0., 0., 0., 0., 0., 0., 0.,\n",
              "       0., 0., 0., 0., 0., 0., 0., 0., 0., 0., 0., 0., 0., 0., 0., 0., 0.,\n",
              "       0., 0., 0., 0., 0., 0., 0., 0., 0., 0., 0., 0., 0., 0., 0., 0., 0.,\n",
              "       0., 0., 0., 0., 0., 0., 0., 0., 0., 0., 0., 0., 0., 0., 0., 0., 0.,\n",
              "       0., 0., 0., 0., 0., 0., 0., 0., 0., 0., 0., 0., 0., 0., 0., 0., 0.,\n",
              "       0., 0., 0., 0., 0., 0., 0., 0., 0., 0., 0., 0., 0., 0., 0., 0., 0.,\n",
              "       0., 0., 0., 0., 0., 0., 0., 0., 0., 0., 0., 0., 0., 0., 0., 0., 0.,\n",
              "       0., 0., 0., 0., 0., 0., 0., 0., 0., 0., 0., 0., 0., 0., 0., 0., 0.,\n",
              "       0., 0., 0., 0., 0., 0., 0., 0., 0., 0., 0., 0., 0., 0., 0., 0., 0.,\n",
              "       0., 0., 0., 0., 0., 0., 0., 0., 0., 0., 0., 0., 0., 0., 0., 0., 0.,\n",
              "       0., 0., 0., 0., 0., 0., 0., 0., 0., 0., 0., 0., 0., 0., 0., 0., 0.,\n",
              "       0., 0., 0., 0., 0., 0., 0., 0., 0., 0., 0., 0., 0., 0., 0., 0., 0.,\n",
              "       0., 0., 0., 0., 0., 0., 0., 0., 0., 0., 0., 0., 0., 0., 0., 0., 0.,\n",
              "       0., 0., 0., 0., 0., 0., 0., 0., 0., 0., 0., 0., 0., 0., 0., 0., 0.,\n",
              "       0., 0., 0., 0., 0., 0., 0., 0., 0., 0., 0., 0., 0., 0., 0., 0., 0.,\n",
              "       0., 0., 0., 0., 0., 0., 0., 0., 0., 0., 0., 0., 0., 0., 0., 0., 0.,\n",
              "       0., 0., 0., 0., 0., 0., 0., 0., 0., 0., 0., 0., 0., 0., 0., 0., 0.,\n",
              "       0., 0., 0., 0., 0., 0., 0., 0., 0., 0., 0.], dtype=float32)"
            ]
          },
          "metadata": {},
          "execution_count": 27
        }
      ]
    },
    {
      "cell_type": "markdown",
      "source": [
        "# **Colocar textos de amostras para teste**"
      ],
      "metadata": {
        "id": "KFKvrdMWpEO_"
      }
    },
    {
      "cell_type": "markdown",
      "source": [
        "Colocar as palavras em uma frase para que o sistema consiga achar o embedding da palavra desconhecida através do contexto"
      ],
      "metadata": {
        "id": "ok_8FfqQ9aWi"
      }
    },
    {
      "cell_type": "code",
      "source": [
        "doc1 = nlp('O Barco atravessou o banzeiro sem sofrer danos')\n",
        "doc2 = nlp('Alessandro é escritinho um ator da Globo.')"
      ],
      "metadata": {
        "id": "YGh1srV4hryu"
      },
      "execution_count": null,
      "outputs": []
    },
    {
      "cell_type": "markdown",
      "source": [
        "# **Função para criar embeddings**"
      ],
      "metadata": {
        "id": "mskqgXSMpRBj"
      }
    },
    {
      "cell_type": "code",
      "source": [
        "#Encontrar e definir embeddings para palavras OOV\n",
        "def set_embedding_for_oov(doc):\n",
        "    #verificando palavras oov e adicionando embeddings\n",
        "    for token in doc:\n",
        "        if token.is_oov == True:\n",
        "            before_text = doc[:token.i].text\n",
        "\n",
        "            pred_before = generate_seq(model, tokenizer, max_length-1, before_text).split()\n",
        "            \n",
        "            embedding = numpy.zeros((300,))\n",
        "\n",
        "            i=len(before_text)\n",
        "            print('Palavras previstas a partir do modelo de sequência direta:')\n",
        "            for word in pred_before:\n",
        "                print(word)\n",
        "                embedding += i*nlp.vocab.get_vector(word)\n",
        "                i= i*.5\n",
        "\n",
        "            nlp.vocab.set_vector(token.text, embedding)\n",
        "            print(token.text,nlp.vocab.get_vector(token.text)) "
      ],
      "metadata": {
        "id": "KRa_ZSnghHUM"
      },
      "execution_count": null,
      "outputs": []
    },
    {
      "cell_type": "code",
      "source": [
        "set_embedding_for_oov(doc1)"
      ],
      "metadata": {
        "colab": {
          "base_uri": "https://localhost:8080/"
        },
        "id": "NniENUct9qKd",
        "outputId": "f73ec687-418a-48e9-b8c9-1f3dbd00fa68"
      },
      "execution_count": null,
      "outputs": [
        {
          "output_type": "stream",
          "name": "stdout",
          "text": [
            "Palavras previstas a partir do modelo de sequência direta:\n",
            "buffet\n",
            "menu\n",
            "prato\n",
            "karaokê\n",
            "mousse\n",
            "banzeiro [ -64.47635     -87.33981      68.83192      38.484562     35.888676\n",
            "   53.577538    -66.816376    -14.410992     -6.007527     58.80371\n",
            "   92.36438      -9.231775    -83.074554    -24.189436      1.8833873\n",
            "   25.681711    -54.617188    -91.63767     -13.947974      4.8483295\n",
            "   68.83746      64.51637     -41.676987    -12.301951     65.64211\n",
            " -159.68423       9.086562     33.49015     -95.21148     -42.72248\n",
            "   24.46715     -44.482002     74.89695      26.155186    -11.703712\n",
            "   52.912975    -89.314705     83.46609     104.551       -23.072426\n",
            "   43.252277    -48.111893    -31.859987    -21.2511      177.3565\n",
            "   21.7375       26.142988     25.148949    -21.37669     -74.630424\n",
            "  -52.44545      38.445538    -89.79812     -68.7722      -18.333313\n",
            "   47.083378     88.716095    -79.73404      45.89295      -2.5014884\n",
            "   66.92924       1.8813242    23.066124     29.74415      83.75575\n",
            "   84.44636      -6.2515206    34.37118       5.9167747    24.377825\n",
            "  -42.695522    -50.60871      61.8819       32.992664   -124.19214\n",
            "    1.0758176    21.049551    -26.256586    -56.648476      9.451912\n",
            "   66.4661       54.52995      23.664501    -45.322124    -24.1832\n",
            "    4.4174337    27.821205     47.6153       -1.5494992   -61.135345\n",
            "   24.232462      1.7504542    69.0842       44.47046      -0.47969913\n",
            "   57.025       -23.346096    -54.56774     -14.269715    134.23575\n",
            "   70.1464      -10.757435     73.479576     50.692524    -84.23604\n",
            "   -3.3873367    44.24963      25.520288    -46.14181      25.844173\n",
            "   10.883425    -33.92859     -14.624437    -20.089487     13.1668\n",
            "  -51.404446      7.196963     61.355625     77.64454       5.9974\n",
            "  -36.3056       36.715553    -51.813385    -42.0793      -35.6107\n",
            "   -3.0748506     0.22575021   45.709824     15.588475    101.04546\n",
            "    1.4205674    56.807026     13.442362     31.628143      8.63623\n",
            "   23.305439     41.050625    -29.18594      28.462387      1.7651283\n",
            "   37.9139       28.333176    -41.57539     -33.762226    -35.760475\n",
            "  -16.872025     -7.449952   -114.838776    -31.264076     15.664249\n",
            "   27.903925     36.3703      -12.993725    -68.34723       8.21499\n",
            "  -46.707287    168.71219      16.91225      30.730236   -189.65201\n",
            "    2.7223744  -117.262375    -34.328487     -3.3204873   -52.04337\n",
            "   57.75428      40.051228    -35.216667     11.359617     -9.87098\n",
            " -117.43672      31.5278      -37.362198     22.610588     52.07815\n",
            "  -58.37876     -20.280075      8.622928     23.351315    -44.767433\n",
            "   54.254635    -37.782326     26.906752    136.93416      65.53888\n",
            "  -23.70025      49.32421     -33.61455      14.151375    129.21461\n",
            "   82.87761      70.334595     20.47624     -17.633749    -64.54926\n",
            "  -48.1282      -75.81119      69.98531      30.836975    -59.790802\n",
            "   48.387783     53.95721      39.024223   -103.4869      -36.91886\n",
            "    6.5610895    23.463425     52.72865     -52.2916       18.29235\n",
            "  -44.0008      -10.575387    -79.95096     -12.871008     76.5113\n",
            "   38.19209     -57.503178     45.190643      2.5272622   -53.02885\n",
            "   65.49864       1.0379992    42.1642      -10.138959   -130.38179\n",
            "   -2.468276     10.327897     58.798927     35.267162    -19.4774\n",
            "   27.60565      67.742096    -80.79517    -134.69057     -49.7561\n",
            "  -45.934734    -37.302498     50.944374    -22.834042     -6.208475\n",
            "  -46.745598    -54.725414    146.80048     115.404755      3.6987255\n",
            "   25.196924   -113.76412      62.392452    -27.294964    -34.70895\n",
            "  -25.69048     -10.635599     65.80455      -3.558375     -8.830052\n",
            "  -48.334473     32.911102    -40.970867    -23.670376   -114.15998\n",
            "   45.859753    -14.483812    -74.39334      41.018574    -57.781563\n",
            " -216.37541      35.99385     -36.21045     -25.6575       -8.195555\n",
            "   48.667076   -110.265785    -93.94931     -54.514156     10.145827\n",
            "  -31.131193     44.54939      68.245575     44.801178     83.3135\n",
            "  -43.128098     17.696114    -47.51799      46.699837      3.6634998\n",
            "   61.495674    -36.68287      39.789974      8.033797     -6.1682997\n",
            "   49.740536    -26.329426    -33.951714     -4.5169377   -45.071323\n",
            "   11.259138     23.824825    -31.090475     -0.9502979   -43.53345   ]\n"
          ]
        }
      ]
    },
    {
      "cell_type": "code",
      "source": [
        "set_embedding_for_oov(doc2)"
      ],
      "metadata": {
        "colab": {
          "base_uri": "https://localhost:8080/"
        },
        "id": "i_KD_3jrixIW",
        "outputId": "47b9ff07-a643-49f9-b763-81658734d7ed"
      },
      "execution_count": null,
      "outputs": [
        {
          "output_type": "stream",
          "name": "stdout",
          "text": [
            "Palavras previstas a partir do modelo de sequência direta:\n",
            "claro\n",
            "dia\n",
            "escritinho [-4.45187988e+01 -5.01300049e+00 -2.98920002e+01 -2.79959869e+00\n",
            " -2.46634216e+01 -8.05620098e+00 -2.89094791e+01  1.58987989e+01\n",
            "  7.70268011e+00  1.81577778e+01 -1.14081230e+01  9.40920258e+00\n",
            "  4.24312782e+01 -2.98121395e+01 -1.69356022e+01 -4.59624100e+00\n",
            "  9.91380095e-01  4.65372009e+01 -1.22183990e+01  7.04700012e+01\n",
            " -4.25526009e+01  1.48374023e+01  1.72970409e+01  4.17155991e+01\n",
            "  1.43778658e+01  8.82726002e+00 -3.19200001e+01  3.11136017e+01\n",
            " -4.95858002e+01 -5.27463608e+01  2.33987999e+01  8.09747982e+00\n",
            "  2.09530830e+01  1.61425190e+01  3.04220409e+01 -5.60759544e-01\n",
            " -2.14656029e+01  1.69723206e+01  2.52578411e+01  6.32159805e+00\n",
            " -1.17077999e+01  2.23293610e+01  9.88614082e+00  2.52693615e+01\n",
            "  6.67499924e+00 -2.18299599e+01  1.54410000e+01 -3.00601215e+01\n",
            " -2.31148796e+01 -4.34987984e+01  1.75658398e+01  4.93151999e+00\n",
            " -2.23468781e+01  1.83846016e+01 -3.56760025e+01 -1.83073196e+01\n",
            " -1.09967995e+01  1.17117605e+01 -2.37245998e+01  3.59399796e-01\n",
            "  6.83165970e+01  2.60652008e+01 -1.48492813e+01  5.22924042e+00\n",
            " -1.30404005e+01  3.26512222e+01  5.80554008e+01  9.40198898e-01\n",
            " -4.02239799e-01  2.45872784e+01  4.21094398e+01 -6.60501556e+01\n",
            " -3.31230011e+01 -3.97319984e+00  2.85046806e+01  5.65859985e+00\n",
            " -2.61180115e+00  3.27200394e+01 -3.84977989e+01  4.50390015e+01\n",
            " -1.08990955e+01 -1.05780029e+00  7.01202011e+00  2.19953995e+01\n",
            " -6.45372009e+01  1.23214798e+01 -1.93263588e+01 -1.63110008e+01\n",
            "  1.07927999e+01  3.80629196e+01  3.02860794e+01 -1.47245998e+01\n",
            "  2.83115997e+01  7.56000519e-01  1.98281395e+00  1.98100548e+01\n",
            "  3.85790863e+01  1.14197998e+01 -2.38705215e+01  3.45447578e+01\n",
            "  1.84096794e+01  3.56879902e+00  4.44792023e+01  3.95100021e+00\n",
            "  3.20396385e+01  8.80680084e-01  3.05068798e+01  3.36667213e+01\n",
            " -3.18107963e+00 -1.29852018e+01  1.74334793e+01 -3.69763222e+01\n",
            " -7.23744011e+00  1.15759201e+01 -2.27858410e+01  3.14027929e+00\n",
            " -2.50388145e+01 -1.98357620e+01 -1.27993202e+01 -1.85844040e+00\n",
            " -3.98286018e+01 -5.76648045e+00  7.19658051e+01 -2.64309578e+01\n",
            " -3.63186035e+01  2.06288643e+01  2.07389984e+01  3.04662018e+01\n",
            "  1.94430008e+01  2.33848801e+01 -1.34266205e+01  1.04746199e+01\n",
            " -1.88828392e+01 -9.21485996e+00  9.14418030e+00 -1.99927177e+01\n",
            " -7.72679996e+00 -3.06571913e+00  3.06399612e+01  7.89780045e+00\n",
            " -1.17432003e+01  1.96305618e+01  4.50887918e+00 -1.70820236e+00\n",
            " -4.31490021e+01 -9.66864014e+00  3.76619987e+01  6.61020041e+00\n",
            " -2.93879890e+00 -1.46166000e+01 -2.37780724e+01  6.03318024e+00\n",
            " -1.21680593e+01 -2.29313965e+01 -3.60680428e+01  2.53088398e+01\n",
            " -1.75733986e+01  1.18523979e+01 -2.50103989e+01 -8.39436035e+01\n",
            "  1.01090403e+01 -4.73412018e+01 -2.80397987e+01  3.01529427e+01\n",
            " -1.03260002e+01 -1.55256596e+01 -1.59159002e+01 -4.07183990e+01\n",
            "  2.02595997e+00  1.79111958e+00 -9.76727962e+00  4.27439880e+00\n",
            "  1.39753799e+01 -3.75250816e+00  1.79080200e+01 -1.37666941e+01\n",
            " -3.71903992e+01 -2.49536400e+01 -1.89240265e+00 -2.09141998e+01\n",
            "  4.41539955e+00  3.44015999e+01 -1.38477106e+01  2.96848679e+01\n",
            "  2.11532402e+01  9.36132050e+00 -2.22124805e+01  1.46777992e+01\n",
            "  1.00192795e+01  1.15761604e+01 -2.11504211e+01  3.75127182e+01\n",
            "  3.32476807e+01 -2.86097984e+01  3.46416588e+01 -9.80747986e+00\n",
            "  3.31728005e+00 -1.45701599e+01 -2.12203789e+01 -4.34660416e+01\n",
            "  6.35064011e+01  1.28111992e+01 -1.38461990e+01 -2.91073799e+01\n",
            " -2.27469711e+01 -2.13395996e+01  2.55743980e+01  2.26413612e+01\n",
            "  4.46148014e+00 -3.91595993e+01  1.26209998e+00 -2.86798477e-02\n",
            " -4.51402817e+01  1.07388000e+01 -1.94931602e+01  2.82197990e+01\n",
            " -2.27339935e+00  2.44253387e+01 -1.19979601e+01 -7.95132065e+00\n",
            "  3.11745567e+01  6.36168003e+00 -4.72331953e+00 -2.23380013e+01\n",
            " -4.20006027e+01 -3.79753189e+01 -1.60242004e+01  5.63345947e+01\n",
            "  4.84740019e+00 -6.81167984e+00  2.50914001e+01  1.49762392e+01\n",
            "  5.25050354e+00 -3.07110023e+01  5.66118011e+01 -7.22501984e+01\n",
            "  3.13572025e+00  2.15939999e+01 -4.33890057e+00  6.87509995e+01\n",
            " -1.27168808e+01  1.26992397e+01  4.36704025e+01  2.73953991e+01\n",
            "  1.19610004e+01 -3.35664024e+01 -5.50067978e+01  3.91695633e+01\n",
            "  8.61900139e+00 -2.23188019e+01  2.62736397e+01 -1.68708019e+01\n",
            " -1.54230003e+01  2.43245964e+01  1.96207199e+01 -1.25749741e+01\n",
            " -4.39109955e+01  1.21883965e+00 -3.24373207e+01  7.60020256e-01\n",
            "  3.72201614e+01  2.97065926e+00  5.93063965e+01  3.84239998e+01\n",
            " -8.02188015e+00 -4.34741402e+01  5.37736778e+01 -1.60205994e+01\n",
            "  1.55167198e+01 -2.04449997e+01 -3.83629227e+01 -3.57765579e+01\n",
            " -3.55019569e-01  1.67339706e+00 -6.33737984e+01  2.39101791e+01\n",
            "  1.33606806e+01  1.65414009e+01  1.35480003e+01 -1.60210190e+01\n",
            "  1.41873589e+01 -3.27779961e+00  3.71819973e+00 -4.21199894e+00\n",
            " -3.07271996e+01  3.07427998e+01 -1.21980000e+01  2.87032795e+01\n",
            " -2.32048798e+01 -1.23624001e+01  6.08616028e+01  6.69960022e+00\n",
            " -3.05649586e+01  2.49737396e+01  3.46776009e+01 -1.03923006e+01\n",
            "  3.68266792e+01  1.15920601e+01 -1.47297010e+01  1.31052017e+00]\n"
          ]
        }
      ]
    },
    {
      "cell_type": "markdown",
      "source": [
        "# **Testar a similaridade das palavras**"
      ],
      "metadata": {
        "id": "3Tv2itiwpdMj"
      }
    },
    {
      "cell_type": "markdown",
      "source": [
        "A função, através do contexto, conseguiu achar um vetor válido para as palavras antes desconhecidas.\n",
        "\n",
        "Nessa etapa, vamos verificar a semelhança entre frases que contenham o significado dessas OOVs. Verificar a semelhança pelo contexto."
      ],
      "metadata": {
        "id": "9dh_CBOQ98aX"
      }
    },
    {
      "cell_type": "markdown",
      "source": [
        "Testando a similaridade entre frases"
      ],
      "metadata": {
        "id": "IqDyv8oSpqC_"
      }
    },
    {
      "cell_type": "code",
      "source": [
        "doc3 = nlp('Senhor, a perseverança das ondas do mar, que fazem de cada recuo um ponto de partida para um novo avanço.')\n",
        "\n",
        "doc4 = nlp('As vezes é preciso ser como as ondas do mar, recuar para ganhar força.')\n",
        "\n",
        "doc5 = nlp('Como ondas do mar')"
      ],
      "metadata": {
        "id": "9FgeemVYi0Cu"
      },
      "execution_count": null,
      "outputs": []
    },
    {
      "cell_type": "code",
      "source": [
        "print(doc1, \"<->\", doc3, \"=\", doc1.similarity(doc3))\n",
        "print(doc1, \"<->\", doc4, \"=\", doc1.similarity(doc4))\n",
        "print(doc1, \"<->\", doc5, \"=\",doc1.similarity(doc5))"
      ],
      "metadata": {
        "colab": {
          "base_uri": "https://localhost:8080/"
        },
        "id": "g99usYXhjSWu",
        "outputId": "93eb0244-d313-480e-bc89-d267e6977769"
      },
      "execution_count": null,
      "outputs": [
        {
          "output_type": "stream",
          "name": "stdout",
          "text": [
            "O Barco atravessou o banzeiro sem sofrer danos <-> Senhor, a perseverança das ondas do mar, que fazem de cada recuo um ponto de partida para um novo avanço. = 0.09259158185615217\n",
            "O Barco atravessou o banzeiro sem sofrer danos <-> As vezes é preciso ser como as ondas do mar, recuar para ganhar força. = 0.004209054188134099\n",
            "O Barco atravessou o banzeiro sem sofrer danos <-> Como ondas do mar = 0.08802868025359584\n"
          ]
        }
      ]
    },
    {
      "cell_type": "code",
      "source": [
        "doc6 = nlp('Você fica muito parecido com as pessoas que convive')\n",
        "\n",
        "doc7 = nlp('Para muitas pessoas a felicidade é semelhante a uma bola.')\n",
        "\n",
        "doc8 = nlp('Ninguém é igual a ninguém.')"
      ],
      "metadata": {
        "id": "TrprW06P-ilM"
      },
      "execution_count": null,
      "outputs": []
    },
    {
      "cell_type": "code",
      "source": [
        "print(doc2, \"<->\", doc6, \"=\", doc1.similarity(doc6))\n",
        "print(doc2, \"<->\", doc7, \"=\", doc1.similarity(doc7))\n",
        "print(doc2, \"<->\", doc8, \"=\", doc1.similarity(doc8))"
      ],
      "metadata": {
        "colab": {
          "base_uri": "https://localhost:8080/"
        },
        "id": "I_GmfxO3-iUg",
        "outputId": "3c9b4dda-0c62-4365-d83d-62241d7d7d65"
      },
      "execution_count": null,
      "outputs": [
        {
          "output_type": "stream",
          "name": "stdout",
          "text": [
            "Alessandro é escritinho um ator da Globo. <-> Você fica muito parecido com as pessoas que convive = 0.1727255149241579\n",
            "Alessandro é escritinho um ator da Globo. <-> Para muitas pessoas a felicidade é semelhante a uma bola. = 0.01820143928820385\n",
            "Alessandro é escritinho um ator da Globo. <-> Ninguém é igual a ninguém. = 0.007311788470478939\n"
          ]
        }
      ]
    },
    {
      "cell_type": "markdown",
      "source": [
        "Nessa etapa, através da similaridade de cosseno, vamos ver se os vetores achados para as palavras OOVs se aproximam do seu significado"
      ],
      "metadata": {
        "id": "HFhiOmV7-9r2"
      }
    },
    {
      "cell_type": "markdown",
      "source": [
        "Testando a similaridade entre palavras"
      ],
      "metadata": {
        "id": "dk5OyYV4pyO4"
      }
    },
    {
      "cell_type": "code",
      "source": [
        "nlp('banzeiro').similarity(nlp('onda do mar'))"
      ],
      "metadata": {
        "colab": {
          "base_uri": "https://localhost:8080/"
        },
        "id": "wdrTvCOzjjc9",
        "outputId": "02804416-c4ec-4a65-e625-7c710222efdb"
      },
      "execution_count": null,
      "outputs": [
        {
          "output_type": "execute_result",
          "data": {
            "text/plain": [
              "-0.05794341649543755"
            ]
          },
          "metadata": {},
          "execution_count": 77
        }
      ]
    },
    {
      "cell_type": "code",
      "source": [
        "nlp('banzeiro').similarity(nlp('onda'))"
      ],
      "metadata": {
        "colab": {
          "base_uri": "https://localhost:8080/"
        },
        "id": "gx4sMVJakR39",
        "outputId": "c39f6281-c8b5-462e-ef29-09762d9c9395"
      },
      "execution_count": null,
      "outputs": [
        {
          "output_type": "execute_result",
          "data": {
            "text/plain": [
              "-0.09558590545909755"
            ]
          },
          "metadata": {},
          "execution_count": 78
        }
      ]
    },
    {
      "cell_type": "code",
      "source": [
        "nlp('banzeiro').similarity(nlp('mar'))"
      ],
      "metadata": {
        "colab": {
          "base_uri": "https://localhost:8080/"
        },
        "id": "FJ_oJ0i1kUck",
        "outputId": "1faf59fb-bc0e-4248-db36-8240e6aec7e2"
      },
      "execution_count": null,
      "outputs": [
        {
          "output_type": "execute_result",
          "data": {
            "text/plain": [
              "0.1751030014473412"
            ]
          },
          "metadata": {},
          "execution_count": 79
        }
      ]
    },
    {
      "cell_type": "code",
      "source": [
        "nlp('escritinho').similarity(nlp('muito parecido'))"
      ],
      "metadata": {
        "colab": {
          "base_uri": "https://localhost:8080/"
        },
        "id": "tijqgGoC_OU_",
        "outputId": "ef30d5f0-bcc0-4d62-9766-70835d119f80"
      },
      "execution_count": null,
      "outputs": [
        {
          "output_type": "execute_result",
          "data": {
            "text/plain": [
              "0.46181413531294874"
            ]
          },
          "metadata": {},
          "execution_count": 81
        }
      ]
    },
    {
      "cell_type": "code",
      "source": [
        "nlp('escritinho').similarity(nlp('parecido'))"
      ],
      "metadata": {
        "colab": {
          "base_uri": "https://localhost:8080/"
        },
        "id": "UVUTaqEB_OFN",
        "outputId": "e5de2aac-3d0d-41c0-d598-6027c227bb0b"
      },
      "execution_count": null,
      "outputs": [
        {
          "output_type": "execute_result",
          "data": {
            "text/plain": [
              "0.3340517898560717"
            ]
          },
          "metadata": {},
          "execution_count": 82
        }
      ]
    },
    {
      "cell_type": "code",
      "source": [
        "nlp('escritinho').similarity(nlp('semelhante'))"
      ],
      "metadata": {
        "colab": {
          "base_uri": "https://localhost:8080/"
        },
        "id": "XPfTSYbm_N3f",
        "outputId": "99f3bd5e-3641-439c-87e2-57eb195ad9b8"
      },
      "execution_count": null,
      "outputs": [
        {
          "output_type": "execute_result",
          "data": {
            "text/plain": [
              "0.17767209936516296"
            ]
          },
          "metadata": {},
          "execution_count": 83
        }
      ]
    },
    {
      "cell_type": "markdown",
      "source": [
        "# **EXTRA - Verificando a marcação gramatical**"
      ],
      "metadata": {
        "id": "UAZyddbGp5xt"
      }
    },
    {
      "cell_type": "markdown",
      "source": [
        "Nessa etapa, será verificado a marcação gramatical das palavras"
      ],
      "metadata": {
        "id": "MNdt7jUA_avw"
      }
    },
    {
      "cell_type": "code",
      "source": [
        "for token in doc1:\n",
        "    print(token.text, token.lemma_, token.pos_, token.tag_, token.dep_,\n",
        "            token.shape_)"
      ],
      "metadata": {
        "colab": {
          "base_uri": "https://localhost:8080/"
        },
        "id": "RjzVBowpjr9t",
        "outputId": "693e9f70-4901-474a-8c37-b3036abb2f30"
      },
      "execution_count": null,
      "outputs": [
        {
          "output_type": "stream",
          "name": "stdout",
          "text": [
            "O o DET DET det X\n",
            "Barco Barco PROPN PROPN nsubj Xxxxx\n",
            "atravessou atravessar VERB VERB ROOT xxxx\n",
            "o o DET DET det x\n",
            "banzeiro banzeiro NOUN NOUN obj xxxx\n",
            "sem sem SCONJ SCONJ mark xxx\n",
            "sofrer sofrer VERB VERB advcl xxxx\n",
            "danos dano NOUN NOUN obj xxxx\n"
          ]
        }
      ]
    },
    {
      "cell_type": "code",
      "source": [
        "for token in doc2:\n",
        "    print(token.text, token.lemma_, token.pos_, token.tag_, token.dep_,\n",
        "            token.shape_)"
      ],
      "metadata": {
        "colab": {
          "base_uri": "https://localhost:8080/"
        },
        "id": "5wxfvCn-_ZtX",
        "outputId": "f5ff03e8-05ca-4807-e32a-d3f0a97f0a68"
      },
      "execution_count": null,
      "outputs": [
        {
          "output_type": "stream",
          "name": "stdout",
          "text": [
            "Alessandro Alessandro PROPN PROPN nsubj Xxxxx\n",
            "é ser AUX AUX cop x\n",
            "escritinho escritinho ADJ ADJ ROOT xxxx\n",
            "um um DET DET det xx\n",
            "ator ator NOUN NOUN nsubj xxxx\n",
            "da de o ADP ADP case xx\n",
            "Globo globo NOUN NOUN nmod Xxxxx\n",
            ". . PUNCT PUNCT punct .\n"
          ]
        }
      ]
    },
    {
      "cell_type": "markdown",
      "source": [
        "# **EXTRA - Olhando graficamente a questão das similaridades**"
      ],
      "metadata": {
        "id": "HXsojB2AqDbC"
      }
    },
    {
      "cell_type": "markdown",
      "source": [
        "Colocar as palavras em uma matriz"
      ],
      "metadata": {
        "id": "OTCYGF9g_o8d"
      }
    },
    {
      "cell_type": "code",
      "source": [
        "!pip install whatlies"
      ],
      "metadata": {
        "colab": {
          "base_uri": "https://localhost:8080/",
          "height": 1000
        },
        "id": "OYHZBtdkAM_U",
        "outputId": "b5a6b126-42ce-4247-f071-e783fc19e4a0"
      },
      "execution_count": null,
      "outputs": [
        {
          "output_type": "stream",
          "name": "stdout",
          "text": [
            "Looking in indexes: https://pypi.org/simple, https://us-python.pkg.dev/colab-wheels/public/simple/\n",
            "Collecting whatlies\n",
            "  Downloading whatlies-0.7.0-py2.py3-none-any.whl (84 kB)\n",
            "\u001b[K     |████████████████████████████████| 84 kB 2.4 MB/s \n",
            "\u001b[?25hRequirement already satisfied: scikit-learn>=1.0.0 in /usr/local/lib/python3.7/dist-packages (from whatlies) (1.0.2)\n",
            "Collecting matplotlib>=3.5.0\n",
            "  Downloading matplotlib-3.5.3-cp37-cp37m-manylinux_2_5_x86_64.manylinux1_x86_64.whl (11.2 MB)\n",
            "\u001b[K     |████████████████████████████████| 11.2 MB 38.7 MB/s \n",
            "\u001b[?25hRequirement already satisfied: altair>=4.2.0 in /usr/local/lib/python3.7/dist-packages (from whatlies) (4.2.0)\n",
            "Collecting gensim~=3.8.3\n",
            "  Downloading gensim-3.8.3-cp37-cp37m-manylinux1_x86_64.whl (24.2 MB)\n",
            "\u001b[K     |████████████████████████████████| 24.2 MB 1.6 MB/s \n",
            "\u001b[?25hCollecting bpemb>=0.3.0\n",
            "  Downloading bpemb-0.3.4-py3-none-any.whl (19 kB)\n",
            "Requirement already satisfied: numpy in /usr/local/lib/python3.7/dist-packages (from altair>=4.2.0->whatlies) (1.21.6)\n",
            "Requirement already satisfied: entrypoints in /usr/local/lib/python3.7/dist-packages (from altair>=4.2.0->whatlies) (0.4)\n",
            "Requirement already satisfied: jsonschema>=3.0 in /usr/local/lib/python3.7/dist-packages (from altair>=4.2.0->whatlies) (4.3.3)\n",
            "Requirement already satisfied: toolz in /usr/local/lib/python3.7/dist-packages (from altair>=4.2.0->whatlies) (0.12.0)\n",
            "Requirement already satisfied: pandas>=0.18 in /usr/local/lib/python3.7/dist-packages (from altair>=4.2.0->whatlies) (1.3.5)\n",
            "Requirement already satisfied: jinja2 in /usr/local/lib/python3.7/dist-packages (from altair>=4.2.0->whatlies) (2.11.3)\n",
            "Requirement already satisfied: tqdm in /usr/local/lib/python3.7/dist-packages (from bpemb>=0.3.0->whatlies) (4.64.1)\n",
            "Collecting sentencepiece\n",
            "  Downloading sentencepiece-0.1.97-cp37-cp37m-manylinux_2_17_x86_64.manylinux2014_x86_64.whl (1.3 MB)\n",
            "\u001b[K     |████████████████████████████████| 1.3 MB 38.7 MB/s \n",
            "\u001b[?25hRequirement already satisfied: requests in /usr/local/lib/python3.7/dist-packages (from bpemb>=0.3.0->whatlies) (2.23.0)\n",
            "Requirement already satisfied: scipy>=0.18.1 in /usr/local/lib/python3.7/dist-packages (from gensim~=3.8.3->whatlies) (1.7.3)\n",
            "Requirement already satisfied: six>=1.5.0 in /usr/local/lib/python3.7/dist-packages (from gensim~=3.8.3->whatlies) (1.15.0)\n",
            "Requirement already satisfied: smart-open>=1.8.1 in /usr/local/lib/python3.7/dist-packages (from gensim~=3.8.3->whatlies) (5.2.1)\n",
            "Requirement already satisfied: importlib-metadata in /usr/local/lib/python3.7/dist-packages (from jsonschema>=3.0->altair>=4.2.0->whatlies) (4.13.0)\n",
            "Requirement already satisfied: pyrsistent!=0.17.0,!=0.17.1,!=0.17.2,>=0.14.0 in /usr/local/lib/python3.7/dist-packages (from jsonschema>=3.0->altair>=4.2.0->whatlies) (0.18.1)\n",
            "Requirement already satisfied: attrs>=17.4.0 in /usr/local/lib/python3.7/dist-packages (from jsonschema>=3.0->altair>=4.2.0->whatlies) (22.1.0)\n",
            "Requirement already satisfied: typing-extensions in /usr/local/lib/python3.7/dist-packages (from jsonschema>=3.0->altair>=4.2.0->whatlies) (4.1.1)\n",
            "Requirement already satisfied: importlib-resources>=1.4.0 in /usr/local/lib/python3.7/dist-packages (from jsonschema>=3.0->altair>=4.2.0->whatlies) (5.10.0)\n",
            "Requirement already satisfied: zipp>=3.1.0 in /usr/local/lib/python3.7/dist-packages (from importlib-resources>=1.4.0->jsonschema>=3.0->altair>=4.2.0->whatlies) (3.10.0)\n",
            "Requirement already satisfied: kiwisolver>=1.0.1 in /usr/local/lib/python3.7/dist-packages (from matplotlib>=3.5.0->whatlies) (1.4.4)\n",
            "Requirement already satisfied: packaging>=20.0 in /usr/local/lib/python3.7/dist-packages (from matplotlib>=3.5.0->whatlies) (21.3)\n",
            "Collecting fonttools>=4.22.0\n",
            "  Downloading fonttools-4.38.0-py3-none-any.whl (965 kB)\n",
            "\u001b[K     |████████████████████████████████| 965 kB 29.0 MB/s \n",
            "\u001b[?25hRequirement already satisfied: cycler>=0.10 in /usr/local/lib/python3.7/dist-packages (from matplotlib>=3.5.0->whatlies) (0.11.0)\n",
            "Requirement already satisfied: pillow>=6.2.0 in /usr/local/lib/python3.7/dist-packages (from matplotlib>=3.5.0->whatlies) (7.1.2)\n",
            "Requirement already satisfied: pyparsing>=2.2.1 in /usr/local/lib/python3.7/dist-packages (from matplotlib>=3.5.0->whatlies) (3.0.9)\n",
            "Requirement already satisfied: python-dateutil>=2.7 in /usr/local/lib/python3.7/dist-packages (from matplotlib>=3.5.0->whatlies) (2.8.2)\n",
            "Requirement already satisfied: pytz>=2017.3 in /usr/local/lib/python3.7/dist-packages (from pandas>=0.18->altair>=4.2.0->whatlies) (2022.5)\n",
            "Requirement already satisfied: threadpoolctl>=2.0.0 in /usr/local/lib/python3.7/dist-packages (from scikit-learn>=1.0.0->whatlies) (3.1.0)\n",
            "Requirement already satisfied: joblib>=0.11 in /usr/local/lib/python3.7/dist-packages (from scikit-learn>=1.0.0->whatlies) (1.2.0)\n",
            "Requirement already satisfied: MarkupSafe>=0.23 in /usr/local/lib/python3.7/dist-packages (from jinja2->altair>=4.2.0->whatlies) (2.0.1)\n",
            "Requirement already satisfied: chardet<4,>=3.0.2 in /usr/local/lib/python3.7/dist-packages (from requests->bpemb>=0.3.0->whatlies) (3.0.4)\n",
            "Requirement already satisfied: certifi>=2017.4.17 in /usr/local/lib/python3.7/dist-packages (from requests->bpemb>=0.3.0->whatlies) (2022.9.24)\n",
            "Requirement already satisfied: idna<3,>=2.5 in /usr/local/lib/python3.7/dist-packages (from requests->bpemb>=0.3.0->whatlies) (2.10)\n",
            "Requirement already satisfied: urllib3!=1.25.0,!=1.25.1,<1.26,>=1.21.1 in /usr/local/lib/python3.7/dist-packages (from requests->bpemb>=0.3.0->whatlies) (1.24.3)\n",
            "Installing collected packages: sentencepiece, gensim, fonttools, matplotlib, bpemb, whatlies\n",
            "  Attempting uninstall: gensim\n",
            "    Found existing installation: gensim 3.6.0\n",
            "    Uninstalling gensim-3.6.0:\n",
            "      Successfully uninstalled gensim-3.6.0\n",
            "  Attempting uninstall: matplotlib\n",
            "    Found existing installation: matplotlib 3.2.2\n",
            "    Uninstalling matplotlib-3.2.2:\n",
            "      Successfully uninstalled matplotlib-3.2.2\n",
            "Successfully installed bpemb-0.3.4 fonttools-4.38.0 gensim-3.8.3 matplotlib-3.5.3 sentencepiece-0.1.97 whatlies-0.7.0\n"
          ]
        },
        {
          "output_type": "display_data",
          "data": {
            "application/vnd.colab-display-data+json": {
              "pip_warning": {
                "packages": [
                  "matplotlib",
                  "mpl_toolkits"
                ]
              }
            }
          },
          "metadata": {}
        }
      ]
    },
    {
      "cell_type": "code",
      "source": [
        "!pip install whatlies[all]"
      ],
      "metadata": {
        "colab": {
          "base_uri": "https://localhost:8080/"
        },
        "id": "kWekWCIOV0BT",
        "outputId": "0a01b19e-a390-401a-cb2f-ee4289f9c991"
      },
      "execution_count": null,
      "outputs": [
        {
          "output_type": "stream",
          "name": "stdout",
          "text": [
            "Looking in indexes: https://pypi.org/simple, https://us-python.pkg.dev/colab-wheels/public/simple/\n",
            "Requirement already satisfied: whatlies[all] in /usr/local/lib/python3.7/dist-packages (0.7.0)\n",
            "Requirement already satisfied: scikit-learn>=1.0.0 in /usr/local/lib/python3.7/dist-packages (from whatlies[all]) (1.0.2)\n",
            "Requirement already satisfied: altair>=4.2.0 in /usr/local/lib/python3.7/dist-packages (from whatlies[all]) (4.2.0)\n",
            "Requirement already satisfied: gensim~=3.8.3 in /usr/local/lib/python3.7/dist-packages (from whatlies[all]) (3.8.3)\n",
            "Requirement already satisfied: matplotlib>=3.5.0 in /usr/local/lib/python3.7/dist-packages (from whatlies[all]) (3.5.3)\n",
            "Requirement already satisfied: bpemb>=0.3.0 in /usr/local/lib/python3.7/dist-packages (from whatlies[all]) (0.3.4)\n",
            "Collecting transformers>=4.19.0\n",
            "  Downloading transformers-4.24.0-py3-none-any.whl (5.5 MB)\n",
            "\u001b[K     |████████████████████████████████| 5.5 MB 5.0 MB/s \n",
            "\u001b[?25hCollecting tensorflow-text<2.10,>=2.9.0\n",
            "  Downloading tensorflow_text-2.9.0-cp37-cp37m-manylinux_2_17_x86_64.manylinux2014_x86_64.whl (4.6 MB)\n",
            "\u001b[K     |████████████████████████████████| 4.6 MB 35.1 MB/s \n",
            "\u001b[?25hCollecting sense2vec>=2.0.0\n",
            "  Downloading sense2vec-2.0.0-py2.py3-none-any.whl (39 kB)\n",
            "Collecting fasttext~=0.9.1\n",
            "  Downloading fasttext-0.9.2.tar.gz (68 kB)\n",
            "\u001b[K     |████████████████████████████████| 68 kB 7.0 MB/s \n",
            "\u001b[?25hRequirement already satisfied: tensorflow-hub<1.0,>=0.12.0 in /usr/local/lib/python3.7/dist-packages (from whatlies[all]) (0.12.0)\n",
            "Collecting sentence-transformers>=2.2.0\n",
            "  Downloading sentence-transformers-2.2.2.tar.gz (85 kB)\n",
            "\u001b[K     |████████████████████████████████| 85 kB 5.2 MB/s \n",
            "\u001b[?25hCollecting floret>=0.10.1\n",
            "  Downloading floret-0.10.2-cp37-cp37m-manylinux_2_17_x86_64.manylinux2014_x86_64.whl (316 kB)\n",
            "\u001b[K     |████████████████████████████████| 316 kB 46.7 MB/s \n",
            "\u001b[?25hRequirement already satisfied: spacy>=3.3.0 in /usr/local/lib/python3.7/dist-packages (from whatlies[all]) (3.4.2)\n",
            "Requirement already satisfied: tensorflow<2.10,>=2.9.0 in /usr/local/lib/python3.7/dist-packages (from whatlies[all]) (2.9.2)\n",
            "Collecting spacy-lookups-data>=0.3.2\n",
            "  Downloading spacy_lookups_data-1.0.3-py2.py3-none-any.whl (98.5 MB)\n",
            "\u001b[K     |████████████████████████████████| 98.5 MB 93 kB/s \n",
            "\u001b[?25hCollecting umap-learn>=0.5.0\n",
            "  Downloading umap-learn-0.5.3.tar.gz (88 kB)\n",
            "\u001b[K     |████████████████████████████████| 88 kB 6.9 MB/s \n",
            "\u001b[?25hRequirement already satisfied: pandas>=0.18 in /usr/local/lib/python3.7/dist-packages (from altair>=4.2.0->whatlies[all]) (1.3.5)\n",
            "Requirement already satisfied: jsonschema>=3.0 in /usr/local/lib/python3.7/dist-packages (from altair>=4.2.0->whatlies[all]) (4.3.3)\n",
            "Requirement already satisfied: toolz in /usr/local/lib/python3.7/dist-packages (from altair>=4.2.0->whatlies[all]) (0.12.0)\n",
            "Requirement already satisfied: numpy in /usr/local/lib/python3.7/dist-packages (from altair>=4.2.0->whatlies[all]) (1.21.6)\n",
            "Requirement already satisfied: entrypoints in /usr/local/lib/python3.7/dist-packages (from altair>=4.2.0->whatlies[all]) (0.4)\n",
            "Requirement already satisfied: jinja2 in /usr/local/lib/python3.7/dist-packages (from altair>=4.2.0->whatlies[all]) (2.11.3)\n",
            "Requirement already satisfied: requests in /usr/local/lib/python3.7/dist-packages (from bpemb>=0.3.0->whatlies[all]) (2.23.0)\n",
            "Requirement already satisfied: sentencepiece in /usr/local/lib/python3.7/dist-packages (from bpemb>=0.3.0->whatlies[all]) (0.1.97)\n",
            "Requirement already satisfied: tqdm in /usr/local/lib/python3.7/dist-packages (from bpemb>=0.3.0->whatlies[all]) (4.64.1)\n",
            "Collecting pybind11>=2.2\n",
            "  Using cached pybind11-2.10.1-py3-none-any.whl (216 kB)\n",
            "Requirement already satisfied: setuptools>=0.7.0 in /usr/local/lib/python3.7/dist-packages (from fasttext~=0.9.1->whatlies[all]) (57.4.0)\n",
            "Requirement already satisfied: scipy>=0.18.1 in /usr/local/lib/python3.7/dist-packages (from gensim~=3.8.3->whatlies[all]) (1.7.3)\n",
            "Requirement already satisfied: six>=1.5.0 in /usr/local/lib/python3.7/dist-packages (from gensim~=3.8.3->whatlies[all]) (1.15.0)\n",
            "Requirement already satisfied: smart-open>=1.8.1 in /usr/local/lib/python3.7/dist-packages (from gensim~=3.8.3->whatlies[all]) (5.2.1)\n",
            "Requirement already satisfied: pyrsistent!=0.17.0,!=0.17.1,!=0.17.2,>=0.14.0 in /usr/local/lib/python3.7/dist-packages (from jsonschema>=3.0->altair>=4.2.0->whatlies[all]) (0.18.1)\n",
            "Requirement already satisfied: importlib-metadata in /usr/local/lib/python3.7/dist-packages (from jsonschema>=3.0->altair>=4.2.0->whatlies[all]) (4.13.0)\n",
            "Requirement already satisfied: attrs>=17.4.0 in /usr/local/lib/python3.7/dist-packages (from jsonschema>=3.0->altair>=4.2.0->whatlies[all]) (22.1.0)\n",
            "Requirement already satisfied: typing-extensions in /usr/local/lib/python3.7/dist-packages (from jsonschema>=3.0->altair>=4.2.0->whatlies[all]) (4.1.1)\n",
            "Requirement already satisfied: importlib-resources>=1.4.0 in /usr/local/lib/python3.7/dist-packages (from jsonschema>=3.0->altair>=4.2.0->whatlies[all]) (5.10.0)\n",
            "Requirement already satisfied: zipp>=3.1.0 in /usr/local/lib/python3.7/dist-packages (from importlib-resources>=1.4.0->jsonschema>=3.0->altair>=4.2.0->whatlies[all]) (3.10.0)\n",
            "Requirement already satisfied: fonttools>=4.22.0 in /usr/local/lib/python3.7/dist-packages (from matplotlib>=3.5.0->whatlies[all]) (4.38.0)\n",
            "Requirement already satisfied: python-dateutil>=2.7 in /usr/local/lib/python3.7/dist-packages (from matplotlib>=3.5.0->whatlies[all]) (2.8.2)\n",
            "Requirement already satisfied: pillow>=6.2.0 in /usr/local/lib/python3.7/dist-packages (from matplotlib>=3.5.0->whatlies[all]) (7.1.2)\n",
            "Requirement already satisfied: cycler>=0.10 in /usr/local/lib/python3.7/dist-packages (from matplotlib>=3.5.0->whatlies[all]) (0.11.0)\n",
            "Requirement already satisfied: kiwisolver>=1.0.1 in /usr/local/lib/python3.7/dist-packages (from matplotlib>=3.5.0->whatlies[all]) (1.4.4)\n",
            "Requirement already satisfied: pyparsing>=2.2.1 in /usr/local/lib/python3.7/dist-packages (from matplotlib>=3.5.0->whatlies[all]) (3.0.9)\n",
            "Requirement already satisfied: packaging>=20.0 in /usr/local/lib/python3.7/dist-packages (from matplotlib>=3.5.0->whatlies[all]) (21.3)\n",
            "Requirement already satisfied: pytz>=2017.3 in /usr/local/lib/python3.7/dist-packages (from pandas>=0.18->altair>=4.2.0->whatlies[all]) (2022.5)\n",
            "Requirement already satisfied: threadpoolctl>=2.0.0 in /usr/local/lib/python3.7/dist-packages (from scikit-learn>=1.0.0->whatlies[all]) (3.1.0)\n",
            "Requirement already satisfied: joblib>=0.11 in /usr/local/lib/python3.7/dist-packages (from scikit-learn>=1.0.0->whatlies[all]) (1.2.0)\n",
            "Requirement already satisfied: catalogue<2.1.0,>=2.0.1 in /usr/local/lib/python3.7/dist-packages (from sense2vec>=2.0.0->whatlies[all]) (2.0.8)\n",
            "Requirement already satisfied: wasabi<1.1.0,>=0.8.1 in /usr/local/lib/python3.7/dist-packages (from sense2vec>=2.0.0->whatlies[all]) (0.10.1)\n",
            "Requirement already satisfied: srsly<3.0.0,>=2.4.0 in /usr/local/lib/python3.7/dist-packages (from sense2vec>=2.0.0->whatlies[all]) (2.4.5)\n",
            "Requirement already satisfied: torch>=1.6.0 in /usr/local/lib/python3.7/dist-packages (from sentence-transformers>=2.2.0->whatlies[all]) (1.12.1+cu113)\n",
            "Requirement already satisfied: torchvision in /usr/local/lib/python3.7/dist-packages (from sentence-transformers>=2.2.0->whatlies[all]) (0.13.1+cu113)\n",
            "Requirement already satisfied: nltk in /usr/local/lib/python3.7/dist-packages (from sentence-transformers>=2.2.0->whatlies[all]) (3.7)\n",
            "Collecting huggingface-hub>=0.4.0\n",
            "  Downloading huggingface_hub-0.10.1-py3-none-any.whl (163 kB)\n",
            "\u001b[K     |████████████████████████████████| 163 kB 57.5 MB/s \n",
            "\u001b[?25hRequirement already satisfied: filelock in /usr/local/lib/python3.7/dist-packages (from huggingface-hub>=0.4.0->sentence-transformers>=2.2.0->whatlies[all]) (3.8.0)\n",
            "Requirement already satisfied: pyyaml>=5.1 in /usr/local/lib/python3.7/dist-packages (from huggingface-hub>=0.4.0->sentence-transformers>=2.2.0->whatlies[all]) (6.0)\n",
            "Requirement already satisfied: preshed<3.1.0,>=3.0.2 in /usr/local/lib/python3.7/dist-packages (from spacy>=3.3.0->whatlies[all]) (3.0.8)\n",
            "Requirement already satisfied: langcodes<4.0.0,>=3.2.0 in /usr/local/lib/python3.7/dist-packages (from spacy>=3.3.0->whatlies[all]) (3.3.0)\n",
            "Requirement already satisfied: murmurhash<1.1.0,>=0.28.0 in /usr/local/lib/python3.7/dist-packages (from spacy>=3.3.0->whatlies[all]) (1.0.9)\n",
            "Requirement already satisfied: spacy-loggers<2.0.0,>=1.0.0 in /usr/local/lib/python3.7/dist-packages (from spacy>=3.3.0->whatlies[all]) (1.0.3)\n",
            "Requirement already satisfied: typer<0.5.0,>=0.3.0 in /usr/local/lib/python3.7/dist-packages (from spacy>=3.3.0->whatlies[all]) (0.4.2)\n",
            "Requirement already satisfied: pydantic!=1.8,!=1.8.1,<1.11.0,>=1.7.4 in /usr/local/lib/python3.7/dist-packages (from spacy>=3.3.0->whatlies[all]) (1.10.2)\n",
            "Requirement already satisfied: spacy-legacy<3.1.0,>=3.0.10 in /usr/local/lib/python3.7/dist-packages (from spacy>=3.3.0->whatlies[all]) (3.0.10)\n",
            "Requirement already satisfied: thinc<8.2.0,>=8.1.0 in /usr/local/lib/python3.7/dist-packages (from spacy>=3.3.0->whatlies[all]) (8.1.5)\n",
            "Requirement already satisfied: pathy>=0.3.5 in /usr/local/lib/python3.7/dist-packages (from spacy>=3.3.0->whatlies[all]) (0.6.2)\n",
            "Requirement already satisfied: cymem<2.1.0,>=2.0.2 in /usr/local/lib/python3.7/dist-packages (from spacy>=3.3.0->whatlies[all]) (2.0.7)\n",
            "Requirement already satisfied: idna<3,>=2.5 in /usr/local/lib/python3.7/dist-packages (from requests->bpemb>=0.3.0->whatlies[all]) (2.10)\n",
            "Requirement already satisfied: chardet<4,>=3.0.2 in /usr/local/lib/python3.7/dist-packages (from requests->bpemb>=0.3.0->whatlies[all]) (3.0.4)\n",
            "Requirement already satisfied: certifi>=2017.4.17 in /usr/local/lib/python3.7/dist-packages (from requests->bpemb>=0.3.0->whatlies[all]) (2022.9.24)\n",
            "Requirement already satisfied: urllib3!=1.25.0,!=1.25.1,<1.26,>=1.21.1 in /usr/local/lib/python3.7/dist-packages (from requests->bpemb>=0.3.0->whatlies[all]) (1.24.3)\n",
            "Requirement already satisfied: opt-einsum>=2.3.2 in /usr/local/lib/python3.7/dist-packages (from tensorflow<2.10,>=2.9.0->whatlies[all]) (3.3.0)\n",
            "Requirement already satisfied: protobuf<3.20,>=3.9.2 in /usr/local/lib/python3.7/dist-packages (from tensorflow<2.10,>=2.9.0->whatlies[all]) (3.17.3)\n",
            "Requirement already satisfied: keras-preprocessing>=1.1.1 in /usr/local/lib/python3.7/dist-packages (from tensorflow<2.10,>=2.9.0->whatlies[all]) (1.1.2)\n",
            "Requirement already satisfied: libclang>=13.0.0 in /usr/local/lib/python3.7/dist-packages (from tensorflow<2.10,>=2.9.0->whatlies[all]) (14.0.6)\n",
            "Requirement already satisfied: flatbuffers<2,>=1.12 in /usr/local/lib/python3.7/dist-packages (from tensorflow<2.10,>=2.9.0->whatlies[all]) (1.12)\n",
            "Requirement already satisfied: google-pasta>=0.1.1 in /usr/local/lib/python3.7/dist-packages (from tensorflow<2.10,>=2.9.0->whatlies[all]) (0.2.0)\n",
            "Requirement already satisfied: termcolor>=1.1.0 in /usr/local/lib/python3.7/dist-packages (from tensorflow<2.10,>=2.9.0->whatlies[all]) (2.0.1)\n",
            "Requirement already satisfied: wrapt>=1.11.0 in /usr/local/lib/python3.7/dist-packages (from tensorflow<2.10,>=2.9.0->whatlies[all]) (1.14.1)\n",
            "Requirement already satisfied: h5py>=2.9.0 in /usr/local/lib/python3.7/dist-packages (from tensorflow<2.10,>=2.9.0->whatlies[all]) (3.1.0)\n",
            "Requirement already satisfied: tensorboard<2.10,>=2.9 in /usr/local/lib/python3.7/dist-packages (from tensorflow<2.10,>=2.9.0->whatlies[all]) (2.9.1)\n",
            "Requirement already satisfied: astunparse>=1.6.0 in /usr/local/lib/python3.7/dist-packages (from tensorflow<2.10,>=2.9.0->whatlies[all]) (1.6.3)\n",
            "Requirement already satisfied: tensorflow-io-gcs-filesystem>=0.23.1 in /usr/local/lib/python3.7/dist-packages (from tensorflow<2.10,>=2.9.0->whatlies[all]) (0.27.0)\n",
            "Requirement already satisfied: gast<=0.4.0,>=0.2.1 in /usr/local/lib/python3.7/dist-packages (from tensorflow<2.10,>=2.9.0->whatlies[all]) (0.4.0)\n",
            "Requirement already satisfied: keras<2.10.0,>=2.9.0rc0 in /usr/local/lib/python3.7/dist-packages (from tensorflow<2.10,>=2.9.0->whatlies[all]) (2.9.0)\n",
            "Requirement already satisfied: tensorflow-estimator<2.10.0,>=2.9.0rc0 in /usr/local/lib/python3.7/dist-packages (from tensorflow<2.10,>=2.9.0->whatlies[all]) (2.9.0)\n",
            "Requirement already satisfied: grpcio<2.0,>=1.24.3 in /usr/local/lib/python3.7/dist-packages (from tensorflow<2.10,>=2.9.0->whatlies[all]) (1.50.0)\n",
            "Requirement already satisfied: absl-py>=1.0.0 in /usr/local/lib/python3.7/dist-packages (from tensorflow<2.10,>=2.9.0->whatlies[all]) (1.3.0)\n",
            "Requirement already satisfied: wheel<1.0,>=0.23.0 in /usr/local/lib/python3.7/dist-packages (from astunparse>=1.6.0->tensorflow<2.10,>=2.9.0->whatlies[all]) (0.37.1)\n",
            "Requirement already satisfied: cached-property in /usr/local/lib/python3.7/dist-packages (from h5py>=2.9.0->tensorflow<2.10,>=2.9.0->whatlies[all]) (1.5.2)\n",
            "Requirement already satisfied: markdown>=2.6.8 in /usr/local/lib/python3.7/dist-packages (from tensorboard<2.10,>=2.9->tensorflow<2.10,>=2.9.0->whatlies[all]) (3.4.1)\n",
            "Requirement already satisfied: google-auth-oauthlib<0.5,>=0.4.1 in /usr/local/lib/python3.7/dist-packages (from tensorboard<2.10,>=2.9->tensorflow<2.10,>=2.9.0->whatlies[all]) (0.4.6)\n",
            "Requirement already satisfied: werkzeug>=1.0.1 in /usr/local/lib/python3.7/dist-packages (from tensorboard<2.10,>=2.9->tensorflow<2.10,>=2.9.0->whatlies[all]) (1.0.1)\n",
            "Requirement already satisfied: google-auth<3,>=1.6.3 in /usr/local/lib/python3.7/dist-packages (from tensorboard<2.10,>=2.9->tensorflow<2.10,>=2.9.0->whatlies[all]) (1.35.0)\n",
            "Requirement already satisfied: tensorboard-plugin-wit>=1.6.0 in /usr/local/lib/python3.7/dist-packages (from tensorboard<2.10,>=2.9->tensorflow<2.10,>=2.9.0->whatlies[all]) (1.8.1)\n",
            "Requirement already satisfied: tensorboard-data-server<0.7.0,>=0.6.0 in /usr/local/lib/python3.7/dist-packages (from tensorboard<2.10,>=2.9->tensorflow<2.10,>=2.9.0->whatlies[all]) (0.6.1)\n",
            "Requirement already satisfied: pyasn1-modules>=0.2.1 in /usr/local/lib/python3.7/dist-packages (from google-auth<3,>=1.6.3->tensorboard<2.10,>=2.9->tensorflow<2.10,>=2.9.0->whatlies[all]) (0.2.8)\n",
            "Requirement already satisfied: cachetools<5.0,>=2.0.0 in /usr/local/lib/python3.7/dist-packages (from google-auth<3,>=1.6.3->tensorboard<2.10,>=2.9->tensorflow<2.10,>=2.9.0->whatlies[all]) (4.2.4)\n",
            "Requirement already satisfied: rsa<5,>=3.1.4 in /usr/local/lib/python3.7/dist-packages (from google-auth<3,>=1.6.3->tensorboard<2.10,>=2.9->tensorflow<2.10,>=2.9.0->whatlies[all]) (4.9)\n",
            "Requirement already satisfied: requests-oauthlib>=0.7.0 in /usr/local/lib/python3.7/dist-packages (from google-auth-oauthlib<0.5,>=0.4.1->tensorboard<2.10,>=2.9->tensorflow<2.10,>=2.9.0->whatlies[all]) (1.3.1)\n",
            "Requirement already satisfied: pyasn1<0.5.0,>=0.4.6 in /usr/local/lib/python3.7/dist-packages (from pyasn1-modules>=0.2.1->google-auth<3,>=1.6.3->tensorboard<2.10,>=2.9->tensorflow<2.10,>=2.9.0->whatlies[all]) (0.4.8)\n",
            "Requirement already satisfied: oauthlib>=3.0.0 in /usr/local/lib/python3.7/dist-packages (from requests-oauthlib>=0.7.0->google-auth-oauthlib<0.5,>=0.4.1->tensorboard<2.10,>=2.9->tensorflow<2.10,>=2.9.0->whatlies[all]) (3.2.2)\n",
            "Requirement already satisfied: confection<1.0.0,>=0.0.1 in /usr/local/lib/python3.7/dist-packages (from thinc<8.2.0,>=8.1.0->spacy>=3.3.0->whatlies[all]) (0.0.3)\n",
            "Requirement already satisfied: blis<0.8.0,>=0.7.8 in /usr/local/lib/python3.7/dist-packages (from thinc<8.2.0,>=8.1.0->spacy>=3.3.0->whatlies[all]) (0.7.9)\n",
            "Collecting tokenizers!=0.11.3,<0.14,>=0.11.1\n",
            "  Downloading tokenizers-0.13.1-cp37-cp37m-manylinux_2_17_x86_64.manylinux2014_x86_64.whl (7.6 MB)\n",
            "\u001b[K     |████████████████████████████████| 7.6 MB 49.3 MB/s \n",
            "\u001b[?25hRequirement already satisfied: regex!=2019.12.17 in /usr/local/lib/python3.7/dist-packages (from transformers>=4.19.0->whatlies[all]) (2022.6.2)\n",
            "Requirement already satisfied: click<9.0.0,>=7.1.1 in /usr/local/lib/python3.7/dist-packages (from typer<0.5.0,>=0.3.0->spacy>=3.3.0->whatlies[all]) (7.1.2)\n",
            "Requirement already satisfied: numba>=0.49 in /usr/local/lib/python3.7/dist-packages (from umap-learn>=0.5.0->whatlies[all]) (0.56.3)\n",
            "Collecting pynndescent>=0.5\n",
            "  Downloading pynndescent-0.5.8.tar.gz (1.1 MB)\n",
            "\u001b[K     |████████████████████████████████| 1.1 MB 51.2 MB/s \n",
            "\u001b[?25hRequirement already satisfied: llvmlite<0.40,>=0.39.0dev0 in /usr/local/lib/python3.7/dist-packages (from numba>=0.49->umap-learn>=0.5.0->whatlies[all]) (0.39.1)\n",
            "Requirement already satisfied: MarkupSafe>=0.23 in /usr/local/lib/python3.7/dist-packages (from jinja2->altair>=4.2.0->whatlies[all]) (2.0.1)\n",
            "Building wheels for collected packages: fasttext, sentence-transformers, umap-learn, pynndescent\n",
            "  Building wheel for fasttext (setup.py) ... \u001b[?25l\u001b[?25hdone\n",
            "  Created wheel for fasttext: filename=fasttext-0.9.2-cp37-cp37m-linux_x86_64.whl size=3163228 sha256=608893a20d1b26bd2b85d8cf76d2463dd0e3fa730b11275598734bdacdecbbc1\n",
            "  Stored in directory: /root/.cache/pip/wheels/4e/ca/bf/b020d2be95f7641801a6597a29c8f4f19e38f9c02a345bab9b\n",
            "  Building wheel for sentence-transformers (setup.py) ... \u001b[?25l\u001b[?25hdone\n",
            "  Created wheel for sentence-transformers: filename=sentence_transformers-2.2.2-py3-none-any.whl size=125938 sha256=116fb2792d8b267a991eef96d529d4ec2bdbf15b70d74e56b3ab1524a96f4362\n",
            "  Stored in directory: /root/.cache/pip/wheels/bf/06/fb/d59c1e5bd1dac7f6cf61ec0036cc3a10ab8fecaa6b2c3d3ee9\n",
            "  Building wheel for umap-learn (setup.py) ... \u001b[?25l\u001b[?25hdone\n",
            "  Created wheel for umap-learn: filename=umap_learn-0.5.3-py3-none-any.whl size=82829 sha256=8805532b911425eb15a07d7c5033aea2a2170979556af105a7b765d4650926ae\n",
            "  Stored in directory: /root/.cache/pip/wheels/b3/52/a5/1fd9e3e76a7ab34f134c07469cd6f16e27ef3a37aeff1fe821\n",
            "  Building wheel for pynndescent (setup.py) ... \u001b[?25l\u001b[?25hdone\n",
            "  Created wheel for pynndescent: filename=pynndescent-0.5.8-py3-none-any.whl size=55512 sha256=732f1dbdaf5d81c55ff891ede9b23bba8365a0e9a57636a861fa0736952e57c8\n",
            "  Stored in directory: /root/.cache/pip/wheels/19/bc/eb/974072a56a7082a302f8b4be1ad6d21bf5019235c2eff65928\n",
            "Successfully built fasttext sentence-transformers umap-learn pynndescent\n",
            "Installing collected packages: tokenizers, huggingface-hub, transformers, pynndescent, pybind11, umap-learn, tensorflow-text, spacy-lookups-data, sentence-transformers, sense2vec, floret, fasttext\n",
            "Successfully installed fasttext-0.9.2 floret-0.10.2 huggingface-hub-0.10.1 pybind11-2.10.1 pynndescent-0.5.8 sense2vec-2.0.0 sentence-transformers-2.2.2 spacy-lookups-data-1.0.3 tensorflow-text-2.9.0 tokenizers-0.13.1 transformers-4.24.0 umap-learn-0.5.3\n"
          ]
        }
      ]
    },
    {
      "cell_type": "markdown",
      "source": [
        "similaridade entre as frases"
      ],
      "metadata": {
        "id": "IKNGlaC5qNww"
      }
    },
    {
      "cell_type": "code",
      "source": [
        "from whatlies.embedding import Embedding\n",
        "from whatlies.language import SpacyLanguage\n",
        "\n",
        "lang = SpacyLanguage('pt_core_news_md')\n",
        "\n",
        "texts = ['O Barco atravessou o banzeiro sem sofrer danos',\n",
        "         'Senhor, a perseverança das ondas do mar, que fazem de cada recuo um ponto de partida para um novo avanço.',\n",
        "         'As vezes é preciso ser como as ondas do mar, recuar para ganhar força.',\n",
        "         'como ondas do mar']\n",
        "\n",
        "lang[texts].plot_similarity()"
      ],
      "metadata": {
        "colab": {
          "base_uri": "https://localhost:8080/",
          "height": 556
        },
        "id": "W7IUnkira20Y",
        "outputId": "cf952bed-616a-470a-a365-1d88af5fbe37"
      },
      "execution_count": null,
      "outputs": [
        {
          "output_type": "display_data",
          "data": {
            "text/plain": [
              "<Figure size 432x288 with 2 Axes>"
            ],
            "image/png": "[encoded data removed]"
          },
          "metadata": {
            "needs_background": "light"
          }
        }
      ]
    },
    {
      "cell_type": "markdown",
      "source": [
        "Visual da similaridade de cosseno"
      ],
      "metadata": {
        "id": "7sPOMJhMqTGT"
      }
    },
    {
      "cell_type": "code",
      "source": [
        "from whatlies.embedding import Embedding\n",
        "\n",
        "foo = Embedding(\"escritinho\",nlp.vocab.get_vector('escritinho'))\n",
        "bar = Embedding(\"semelhante\",nlp.vocab.get_vector('semelhante'))\n",
        "\n",
        "foo.plot(kind=\"arrow\", annot=True)\n",
        "bar.plot(kind=\"arrow\", annot=True)"
      ],
      "metadata": {
        "colab": {
          "base_uri": "https://localhost:8080/",
          "height": 296
        },
        "id": "-3i7RetgM2aa",
        "outputId": "294a4a75-2260-4335-f7ca-b3ae69e48af3"
      },
      "execution_count": null,
      "outputs": [
        {
          "output_type": "execute_result",
          "data": {
            "text/plain": [
              "Emb[semelhante]"
            ]
          },
          "metadata": {},
          "execution_count": 89
        },
        {
          "output_type": "display_data",
          "data": {
            "text/plain": [
              "<Figure size 432x288 with 1 Axes>"
            ],
            "image/png": "[encoded data removed]"
          },
          "metadata": {
            "needs_background": "light"
          }
        }
      ]
    },
    {
      "cell_type": "code",
      "source": [
        "foo = Embedding(\"escritinho\",nlp.vocab.get_vector('escritinho'))\n",
        "bar = Embedding(\"parecido\",nlp.vocab.get_vector('parecido'))\n",
        "\n",
        "foo.plot(kind=\"arrow\", annot=True)\n",
        "bar.plot(kind=\"arrow\", annot=True)"
      ],
      "metadata": {
        "colab": {
          "base_uri": "https://localhost:8080/",
          "height": 296
        },
        "id": "dccuiWmFdVR1",
        "outputId": "f8353d36-c829-4d32-d742-b2a26ea68912"
      },
      "execution_count": null,
      "outputs": [
        {
          "output_type": "execute_result",
          "data": {
            "text/plain": [
              "Emb[parecido]"
            ]
          },
          "metadata": {},
          "execution_count": 90
        },
        {
          "output_type": "display_data",
          "data": {
            "text/plain": [
              "<Figure size 432x288 with 1 Axes>"
            ],
            "image/png": "[encoded data removed]"
          },
          "metadata": {
            "needs_background": "light"
          }
        }
      ]
    }
  ]
}